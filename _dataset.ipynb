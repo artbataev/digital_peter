{
 "cells": [
  {
   "cell_type": "code",
   "execution_count": 2,
   "metadata": {},
   "outputs": [],
   "source": [
    "# identify graphemes + graphemes stats\n",
    "# train/val split by files"
   ]
  },
  {
   "cell_type": "code",
   "execution_count": 6,
   "metadata": {},
   "outputs": [],
   "source": [
    "from pathlib import Path\n",
    "import pickle\n",
    "import numpy as np\n",
    "from collections import Counter"
   ]
  },
  {
   "cell_type": "code",
   "execution_count": 4,
   "metadata": {},
   "outputs": [],
   "source": [
    "base_dir = Path(\"data/train\")"
   ]
  },
  {
   "cell_type": "code",
   "execution_count": 13,
   "metadata": {},
   "outputs": [],
   "source": [
    "uttids = []\n",
    "char_counter = Counter()\n",
    "for filepath in (base_dir / \"words\").glob(\"*.txt\"):\n",
    "    uttids.append(filepath.stem)\n",
    "    with open(filepath, \"r\", encoding=\"utf-8\") as f:\n",
    "        text = f.read().strip()\n",
    "        char_counter.update(text)\n",
    "uttids = sorted(uttids)"
   ]
  },
  {
   "cell_type": "code",
   "execution_count": 14,
   "metadata": {},
   "outputs": [
    {
     "data": {
      "text/plain": [
       "6196"
      ]
     },
     "execution_count": 14,
     "metadata": {},
     "output_type": "execute_result"
    }
   ],
   "source": [
    "len(uttids)"
   ]
  },
  {
   "cell_type": "code",
   "execution_count": 15,
   "metadata": {},
   "outputs": [],
   "source": [
    "np.random.seed(678)\n",
    "np.random.shuffle(uttids)"
   ]
  },
  {
   "cell_type": "code",
   "execution_count": 17,
   "metadata": {},
   "outputs": [],
   "source": [
    "num_train_uttids = len(uttids) * 14 // 15"
   ]
  },
  {
   "cell_type": "code",
   "execution_count": 18,
   "metadata": {},
   "outputs": [],
   "source": [
    "train_uttids = uttids[:num_train_uttids]\n",
    "val_uttids = uttids[num_train_uttids:]"
   ]
  },
  {
   "cell_type": "code",
   "execution_count": 20,
   "metadata": {},
   "outputs": [
    {
     "data": {
      "text/plain": [
       "(5782, 414, 6196)"
      ]
     },
     "execution_count": 20,
     "metadata": {},
     "output_type": "execute_result"
    }
   ],
   "source": [
    "len(train_uttids), len(val_uttids), len(train_uttids) + len(val_uttids)"
   ]
  },
  {
   "cell_type": "code",
   "execution_count": 22,
   "metadata": {},
   "outputs": [],
   "source": [
    "with open(\"data/train_uttids_set.pkl\", \"wb\") as f:\n",
    "    pickle.dump(set(train_uttids), f)\n",
    "with open(\"data/val_uttids_set.pkl\", \"wb\") as f:\n",
    "    pickle.dump(set(val_uttids), f)"
   ]
  },
  {
   "cell_type": "code",
   "execution_count": 24,
   "metadata": {},
   "outputs": [],
   "source": [
    "with open(\"data/train_uttids.txt\", \"w\", encoding=\"utf-8\") as f:\n",
    "    print(\"\\n\".join(sorted(train_uttids)), file=f)\n",
    "with open(\"data/val_uttids.txt\", \"w\", encoding=\"utf-8\") as f:\n",
    "    print(\"\\n\".join(sorted(val_uttids)), file=f)"
   ]
  },
  {
   "cell_type": "code",
   "execution_count": 25,
   "metadata": {},
   "outputs": [],
   "source": [
    "with open(\"data/chars.txt\", \"w\", encoding=\"utf-8\") as f:\n",
    "    print(\"\\n\".join(sorted(char_counter.keys())), file=f)\n",
    "with open(\"data/chars_set.pkl\", \"wb\") as f:\n",
    "    pickle.dump(set(char_counter.keys()), f)\n",
    "with open(\"data/chars_counter.pkl\", \"wb\") as f:\n",
    "    pickle.dump(char_counter, f)"
   ]
  },
  {
   "cell_type": "code",
   "execution_count": 33,
   "metadata": {},
   "outputs": [],
   "source": [
    "with open(\"data/chars_stats.txt\", \"w\", encoding=\"utf-8\") as f:\n",
    "    for char, cnt in char_counter.most_common():\n",
    "        print(char, cnt, sep=\"\\t\", file=f)"
   ]
  },
  {
   "cell_type": "code",
   "execution_count": null,
   "metadata": {},
   "outputs": [],
   "source": []
  }
 ],
 "metadata": {
  "kernelspec": {
   "display_name": "Python 3",
   "language": "python",
   "name": "python3"
  },
  "language_info": {
   "codemirror_mode": {
    "name": "ipython",
    "version": 3
   },
   "file_extension": ".py",
   "mimetype": "text/x-python",
   "name": "python",
   "nbconvert_exporter": "python",
   "pygments_lexer": "ipython3",
   "version": "3.6.10"
  }
 },
 "nbformat": 4,
 "nbformat_minor": 4
}

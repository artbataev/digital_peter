{
 "cells": [
  {
   "cell_type": "code",
   "execution_count": 1,
   "metadata": {},
   "outputs": [],
   "source": [
    "import os\n",
    "from pathlib import Path"
   ]
  },
  {
   "cell_type": "code",
   "execution_count": 83,
   "metadata": {},
   "outputs": [],
   "source": [
    "os.environ[\"CUDA_VISIBLE_DEVICES\"] = \"1\"\n",
    "EXP_DIR = Path(\"exp/baseline_1\")\n",
    "EXP_DIR.mkdir(exist_ok=False, parents=True)"
   ]
  },
  {
   "cell_type": "code",
   "execution_count": 2,
   "metadata": {},
   "outputs": [],
   "source": [
    "import torch\n",
    "import torch.nn as nn\n",
    "import cv2\n",
    "from pathlib import Path\n",
    "from torch.utils.data import Dataset, DataLoader\n",
    "import torch.utils.data as utils_data\n",
    "from typing import List, Union, Set\n",
    "import torch.nn.functional as F\n",
    "import torch.optim as optim\n",
    "import numpy as np\n",
    "from tqdm.auto import tqdm\n",
    "from dataclasses import dataclass\n",
    "from collections import Counter\n",
    "import itertools\n",
    "import matplotlib.pyplot as plt\n",
    "import editdistance\n",
    "import pickle\n",
    "\n",
    "%matplotlib inline"
   ]
  },
  {
   "cell_type": "code",
   "execution_count": 3,
   "metadata": {},
   "outputs": [],
   "source": [
    "class TextEncoder:\n",
    "    def __init__(self, allowed_chars: Set[str]):\n",
    "        self.allowed_chars = allowed_chars\n",
    "        self.id2char = [\"<blank>\"] + sorted(allowed_chars)\n",
    "        self.char2id = dict(zip(self.id2char, range(len(self.id2char))))\n",
    "        \n",
    "    def encode(self, text: str):\n",
    "        return [self.char2id[c] for c in text]\n",
    "\n",
    "    def decode(self, sequence: List[int]):\n",
    "        return \"\".join(self.id2char[i] for i in sequence)\n",
    "    \n",
    "    def decode_ctc(self, sequence: List[int]):\n",
    "        return \"\".join(self.id2char[i] for i, _ in itertools.groupby(sequence) if i != 0)"
   ]
  },
  {
   "cell_type": "code",
   "execution_count": 4,
   "metadata": {},
   "outputs": [],
   "source": [
    "english = {'a', 'b', 'c', 'd', 'e', 'f', 'g', 'h', 'm', 'n' ,'o', 'p', 'r', 's', 't', 'u', 'w'}\n",
    "with open(\"data/chars_set.pkl\", \"rb\") as f:\n",
    "    all_chars = pickle.load(f)\n",
    "encoder = TextEncoder(all_chars - english)"
   ]
  },
  {
   "cell_type": "code",
   "execution_count": 5,
   "metadata": {},
   "outputs": [],
   "source": [
    "def process_image(img):\n",
    "    w, h,_ = img.shape\n",
    "    \n",
    "    new_w = 128\n",
    "    new_h = int(h * (new_w / w))\n",
    "    img = cv2.resize(img, (new_h, new_w))\n",
    "    w, h,_ = img.shape\n",
    "    \n",
    "    img = img.astype('float32')\n",
    "    \n",
    "    if w < 128:\n",
    "        add_zeros = np.full((128-w, h,3), 255)\n",
    "        img = np.concatenate((img, add_zeros))\n",
    "        w, h,_ = img.shape\n",
    "    \n",
    "    if h < 1024:\n",
    "        add_zeros = np.full((w, 1024-h,3), 255)\n",
    "        img = np.concatenate((img, add_zeros), axis=1)\n",
    "        w, h,_ = img.shape\n",
    "        \n",
    "    if h > 1024 or w > 128:\n",
    "        dim = (1024,128)\n",
    "        img = cv2.resize(img, dim)\n",
    "    \n",
    "    img = cv2.subtract(255, img)\n",
    "\n",
    "    img = img / 255\n",
    "    \n",
    "    return img"
   ]
  },
  {
   "cell_type": "code",
   "execution_count": null,
   "metadata": {},
   "outputs": [],
   "source": []
  },
  {
   "cell_type": "code",
   "execution_count": 6,
   "metadata": {},
   "outputs": [],
   "source": [
    "with open(\"data/train_uttids_set.pkl\", \"rb\") as f:\n",
    "    train_uttids = pickle.load(f)\n",
    "with open(\"data/val_uttids_set.pkl\", \"rb\") as f:\n",
    "    val_uttids = pickle.load(f)"
   ]
  },
  {
   "cell_type": "code",
   "execution_count": 7,
   "metadata": {},
   "outputs": [],
   "source": [
    "class DigitalPeterDataset(Dataset):\n",
    "    def __init__(self, base_dir: Union[Path, str], uttids: Set[str]):\n",
    "        super().__init__()\n",
    "        base_dir = Path(base_dir)\n",
    "        self.trans_dir = base_dir / \"words\"\n",
    "        self.image_dir = base_dir / \"images\"\n",
    "        self.images = []\n",
    "        self.texts = []\n",
    "        self.encoded_texts = []\n",
    "        self.keys = []\n",
    "#         self.chars_counter = Counter()\n",
    "        self.encoder = encoder\n",
    "\n",
    "        for imagepath in tqdm(self.image_dir.glob(\"*.jpg\")):\n",
    "            key = imagepath.stem\n",
    "            if key not in uttids:\n",
    "                continue\n",
    "            textpath = self.trans_dir / f\"{key}.txt\"\n",
    "            with open(textpath, \"r\", encoding=\"utf-8\") as f:\n",
    "                text = f.read().strip()\n",
    "            if not text:\n",
    "                print(imagepath, textpath, text)\n",
    "                continue\n",
    "            if len(set(text).intersection(english)) > 0:\n",
    "                print(f\"skipping {key}: {text}\")\n",
    "                continue\n",
    "#             self.all_chars.update(text)\n",
    "#             self.chars_counter.update(text)\n",
    "            self.keys.append(key)\n",
    "            self.texts.append(text)\n",
    "            img = cv2.imread(f\"{imagepath}\")\n",
    "            img = process_image(img)\n",
    "            self.images.append(torch.FloatTensor(img.transpose(2, 0, 1))) # HxWxC -> CxHxW\n",
    "        for text in self.texts:\n",
    "            self.encoded_texts.append(self.encoder.encode(text))\n",
    "    \n",
    "    def __getitem__(self, index):\n",
    "        return self.images[index], self.texts[index], self.encoded_texts[index], len(self.texts[index])\n",
    "    \n",
    "    def __len__(self):\n",
    "        return len(self.texts)"
   ]
  },
  {
   "cell_type": "code",
   "execution_count": 8,
   "metadata": {},
   "outputs": [
    {
     "data": {
      "application/vnd.jupyter.widget-view+json": {
       "model_id": "c72a0796c5b04b6ea0e8275a3190d7b7",
       "version_major": 2,
       "version_minor": 0
      },
      "text/plain": [
       "HBox(children=(HTML(value=''), FloatProgress(value=1.0, bar_style='info', layout=Layout(width='20px'), max=1.0…"
      ]
     },
     "metadata": {},
     "output_type": "display_data"
    },
    {
     "name": "stdout",
     "output_type": "stream",
     "text": [
      "skipping 209_31_12: d другой столбъ с короною явъляюшей\n",
      "skipping 19_5_0: min her +\n",
      "skipping 215_38_10: а в точку f iз которой протчия линеi дѣлай\n",
      "skipping 217_40_19: бери дистанциi на линii e f гдѣ доткнулис линѣ\n",
      "skipping 163_7_0: sire\n",
      "skipping 163_4_4: iз санктъпитербурха въ 27 д генваря piter\n",
      "skipping 217_40_11: казывает в обѣiх углах d] аш] потом\n",
      "skipping 133_36_0: mrsi\n",
      "skipping 217_40_14: e f потом iз точки  g начерти полкруга\n",
      "skipping 188_4_14: мушкѣтная стрелба h какъ все то\n",
      "skipping 182_4_6: пушки стала а реданы при b bd дѣат\n",
      "skipping 14_29_10: р s карабль наш сваятого петра сего\n",
      "skipping 109_7_1: cну i осмотря все быт с полным до\n",
      "skipping 217_40_21: черчивай паралелныя линѣi гдѣ линѣя a g\n",
      "skipping 356_4_4: iз лагара въ 27 д iюня piter\n",
      "skipping 188_4_21: aa\n",
      "skipping 163_6_4: p s\n",
      "skipping 17_7_10: р s поздравляем сим днем\n",
      "skipping 22_11_13: piter\n",
      "skipping 164_13_0: sire\n",
      "skipping 337_41_2: гиc областей что\n",
      "skipping 163_6_0: siire\n",
      "skipping 217_40_15: h i i раздели [с которой кругом доткнулся б точки c] i раз\n",
      "skipping 356_6_6: piter\n",
      "skipping 214_37_11: разстоянием a f здѣлай полцыркуля ⊕ h a i\n",
      "skipping 460_3_5: вителныi cенат ко\n",
      "skipping 110_14_5: ps получили мы третево дни въве\n",
      "skipping 356_5_0: + sire\n",
      "skipping 212_34_14: борствер е куртины ж f f f f\n",
      "skipping 383_12_16: в лагоре пот полтавою въ 11 д iюня 1709 piter\n",
      "skipping 41_10_1: monsieur\n",
      "skipping 20_19_5: piter\n",
      "skipping 20_16_0: monsinir +\n",
      "skipping 217_40_23: есть полдиаметра h g паралелна линѣi а g\n",
      "skipping 404_1_22: + h малыя ка\n",
      "skipping 41_13_2: iз преображенскова piter\n",
      "skipping 164_12_2: p s благодарствую за вашу превысокую\n",
      "skipping 214_37_14: до линеi остъвестъ потом iз точки b сквоз точки\n",
      "skipping 356_3_1: sir\n",
      "skipping 143_2_9: iз солцы въ 20 д сентебря 1709 piter\n",
      "skipping 182_5_0: рофъ воденой кругом n труба ко\n",
      "skipping 182_5_4: о профиль сего бор бастиона в p s\n",
      "skipping 19_4_7: ps получили мы писмо от гетмана х князю\n",
      "skipping 164_13_6: p s\n",
      "skipping 356_1_0: sire\n",
      "skipping 133_35_1: p s я зело со удивълением услышал\n",
      "skipping 19_9_0: min her +\n",
      "skipping 143_4_4: iз варшавы въ 24 д piter\n",
      "skipping 40_1_1: mein her\n",
      "skipping 404_1_24: e для осушки\n",
      "skipping 400_2_10: позади плана фигуры е еше план f ко\n",
      "skipping 41_13_4: ps найпаче всего смотрѣт дабы турок\n",
      "skipping 182_5_6: стрелба iз кофора s\n",
      "skipping 212_34_13: возвожно iз профиля наружная земля d\n",
      "skipping 173_1_1: cуды на каспълѣ починит i пос\n",
      "skipping 19_4_5: piter\n",
      "skipping 356_7_0: sire\n",
      "skipping 109_3_1: ps для бога старайтес прислат\n",
      "skipping 149_5_11: iз торна въ 30 д сентебря piter\n",
      "skipping 313_12_4: невозможно] i стал ic пушек стрелят\n",
      "skipping 217_40_18: я то разделителныя точки до линѣi e f потом\n",
      "skipping 214_37_12: i раздели оной на двенатцат частей iз точки f прочер\n",
      "skipping 20_17_6: p s о вышеписанном о фъсем королю\n",
      "skipping 163_4_6: p s я вижу вашего величества нѣка\n",
      "skipping 35_4_11: piter\n",
      "skipping 19_7_9: piter\n",
      "skipping 8_2_11: р s отпиши ко мнѣ х которому\n",
      "skipping 23_12_10: iз лагору 23 д iюня 1709 piter\n",
      "skipping 20_17_4: piter\n",
      "skipping 214_37_10: назначь на нордной линеi от а до в точку f потом\n",
      "skipping 182_5_2: в роф n проведенная назначена точками\n",
      "skipping 197_16_7: iз санктъпитербурха въ 10 д октебря 1710 piter\n",
      "skipping 143_3_9: дарствую i посылаю при сем к вам нѣc\n",
      "skipping 356_8_6: piter\n",
      "skipping 163_1_0: sir\n",
      "skipping 19_8_0: iз въ 14 д юня 1709 piter\n",
      "skipping 85_55_1: ps понеже безотложно бытие мое\n",
      "skipping 188_4_10: въляет сло c въверху над мостом бор\n",
      "skipping 356_1_7: piter\n",
      "skipping 239_34_9: ния дѣcства бут воiнския\n",
      "skipping 58_9_6: ps\n",
      "skipping 404_1_16: f вал начинающейся от тветцникоф\n",
      "skipping 22_11_15: въ 19 д iюня 1709 p s +\n",
      "skipping 20_14_0: min her +\n",
      "skipping 188_4_13: зуры пушечныя f поверхъ оного\n",
      "skipping 403_1_6: d канал ко оной\n",
      "skipping 217_40_20: i оныя i стаф iх въверху на линеi h i потом про\n",
      "skipping 182_5_5: кофор врѣзанай во оном r мушкѣтная\n",
      "skipping 151_7_11: iз санктъ питербурха piter\n",
      "\n"
     ]
    },
    {
     "data": {
      "application/vnd.jupyter.widget-view+json": {
       "model_id": "45ce138657604fb2939c37402588eb28",
       "version_major": 2,
       "version_minor": 0
      },
      "text/plain": [
       "HBox(children=(HTML(value=''), FloatProgress(value=1.0, bar_style='info', layout=Layout(width='20px'), max=1.0…"
      ]
     },
     "metadata": {},
     "output_type": "display_data"
    },
    {
     "name": "stdout",
     "output_type": "stream",
     "text": [
      "skipping 425_37_0: p s також донеси i то к в\n",
      "skipping 214_37_23: ⊕ iз точки f\n",
      "\n"
     ]
    }
   ],
   "source": [
    "train_data = DigitalPeterDataset(\"data/train\", train_uttids)\n",
    "val_data = DigitalPeterDataset(\"data/train\", val_uttids)"
   ]
  },
  {
   "cell_type": "code",
   "execution_count": 9,
   "metadata": {},
   "outputs": [
    {
     "data": {
      "text/plain": [
       "(5693, 412)"
      ]
     },
     "execution_count": 9,
     "metadata": {},
     "output_type": "execute_result"
    }
   ],
   "source": [
    "len(train_data), len(val_data)"
   ]
  },
  {
   "cell_type": "code",
   "execution_count": 10,
   "metadata": {},
   "outputs": [],
   "source": [
    "max_text_len = 0\n",
    "for text in itertools.chain(train_data.texts, val_data.texts):\n",
    "    max_text_len = max(max_text_len, len(text))"
   ]
  },
  {
   "cell_type": "code",
   "execution_count": 11,
   "metadata": {},
   "outputs": [
    {
     "data": {
      "text/plain": [
       "71"
      ]
     },
     "execution_count": 11,
     "metadata": {},
     "output_type": "execute_result"
    }
   ],
   "source": [
    "max_text_len"
   ]
  },
  {
   "cell_type": "code",
   "execution_count": 12,
   "metadata": {},
   "outputs": [
    {
     "name": "stdout",
     "output_type": "stream",
     "text": [
      "61\n"
     ]
    }
   ],
   "source": [
    "num_outputs = len(train_data.encoder.id2char)\n",
    "print(num_outputs)"
   ]
  },
  {
   "cell_type": "code",
   "execution_count": 13,
   "metadata": {},
   "outputs": [],
   "source": [
    "for i, encoded_text in enumerate(train_data.encoded_texts):\n",
    "    train_data.encoded_texts[i] = encoded_text + [num_outputs for _ in range(max_text_len - len(encoded_text))]\n",
    "for i, encoded_text in enumerate(val_data.encoded_texts):\n",
    "    val_data.encoded_texts[i] = encoded_text + [num_outputs for _ in range(max_text_len - len(encoded_text))]"
   ]
  },
  {
   "cell_type": "code",
   "execution_count": 14,
   "metadata": {},
   "outputs": [],
   "source": [
    "# num_samples = len(full_data)\n",
    "# val_samples = num_samples // 15\n",
    "# train_data, val_data = utils_data.random_split(full_data, [num_samples - val_samples, val_samples], \n",
    "#                                                generator=torch.Generator().manual_seed(666))"
   ]
  },
  {
   "cell_type": "code",
   "execution_count": 15,
   "metadata": {},
   "outputs": [
    {
     "data": {
      "text/plain": [
       "(5693, 412)"
      ]
     },
     "execution_count": 15,
     "metadata": {},
     "output_type": "execute_result"
    }
   ],
   "source": [
    "len(train_data), len(val_data)"
   ]
  },
  {
   "cell_type": "code",
   "execution_count": 16,
   "metadata": {},
   "outputs": [],
   "source": [
    "def collate_fn(items):\n",
    "    images = torch.stack([item[0] for item in items])\n",
    "    encoded_texts = torch.tensor([item[2] for item in items])\n",
    "    texts = [item[1] for item in items]\n",
    "    text_lengths = torch.tensor([item[3] for item in items])\n",
    "    return images, texts, encoded_texts, text_lengths"
   ]
  },
  {
   "cell_type": "code",
   "execution_count": 17,
   "metadata": {},
   "outputs": [],
   "source": [
    "train_loader = DataLoader(train_data, batch_size=20, shuffle=True, collate_fn=collate_fn)"
   ]
  },
  {
   "cell_type": "code",
   "execution_count": 18,
   "metadata": {},
   "outputs": [],
   "source": [
    "val_loader = DataLoader(val_data, batch_size=20, shuffle=False, collate_fn=collate_fn)"
   ]
  },
  {
   "cell_type": "code",
   "execution_count": 19,
   "metadata": {},
   "outputs": [
    {
     "data": {
      "image/png": "[encoded data removed]",
      "text/plain": [
       "<Figure size 432x288 with 1 Axes>"
      ]
     },
     "metadata": {
      "needs_background": "light"
     },
     "output_type": "display_data"
    },
    {
     "data": {
      "image/png": "[encoded data removed]",
      "text/plain": [
       "<Figure size 432x288 with 1 Axes>"
      ]
     },
     "metadata": {
      "needs_background": "light"
     },
     "output_type": "display_data"
    }
   ],
   "source": [
    "for i in np.random.choice(range(len(train_data)),2):\n",
    "    img, text, encoded_text, _ = train_data[i]\n",
    "    plt.imshow((img.numpy().transpose(1, 2, 0) + 1) / 2)\n",
    "    plt.plot()\n",
    "    plt.title(text)\n",
    "    plt.show()"
   ]
  },
  {
   "cell_type": "code",
   "execution_count": 20,
   "metadata": {},
   "outputs": [],
   "source": [
    "class BaselineModel(nn.Module):\n",
    "    def __init__(self, num_outputs):\n",
    "        super().__init__()\n",
    "        #input: Bx3x128,1024\n",
    "        self.encoder = nn.Sequential(*[\n",
    "            nn.Conv2d(3, 64, kernel_size=(3, 3), padding=1),\n",
    "            nn.ReLU(),\n",
    "            nn.MaxPool2d(kernel_size=(4, 2), stride=2),\n",
    "            nn.Conv2d(64, 128, kernel_size=(3, 3), padding=1),\n",
    "            nn.ReLU(),\n",
    "            nn.MaxPool2d(kernel_size=(4, 2), stride=2),\n",
    "            nn.Conv2d(128, 256, (3, 3), padding=1),\n",
    "            nn.ReLU(), \n",
    "            nn.Conv2d(256, 256, (3, 3), padding=1),\n",
    "            nn.ReLU(),\n",
    "            nn.ConstantPad2d([0, 0, 2, 1], 0.0), # same padding for maxpool2d\n",
    "            nn.MaxPool2d(kernel_size=(4, 1), padding=0), # pool_4\n",
    "            nn.Conv2d(256, 512, (3, 3), padding=1),\n",
    "            nn.ReLU(), \n",
    "            nn.BatchNorm2d(512),\n",
    "            nn.Conv2d(512, 512, (3, 3), padding=1),\n",
    "            nn.ReLU(),\n",
    "            nn.BatchNorm2d(512),\n",
    "            nn.ConstantPad2d([0, 0, 1, 2], 0.0), # same padding for maxpool2d\n",
    "            nn.MaxPool2d(kernel_size=(4, 1), padding=0), \n",
    "            nn.Conv2d(512, 512, (2, 2)), # 512x1x255 CxHxW\n",
    "            nn.ReLU(),\n",
    "        ])\n",
    "        \n",
    "        self.rnn = nn.Sequential(*[\n",
    "            nn.Dropout(0.2),\n",
    "            nn.GRU(input_size=512, hidden_size=256, bidirectional=True, dropout=0.2, batch_first=True, num_layers=2)\n",
    "        ])\n",
    "        self.final = nn.Linear(512, num_outputs)\n",
    "    \n",
    "    def forward(self, x):\n",
    "        output = self.encoder(x) # Bx512x1x255\n",
    "        output = output.squeeze(dim=2).transpose(1, 2) # BxLxC\n",
    "        output = self.rnn(output)[0]\n",
    "        logits = self.final(output)\n",
    "        return logits"
   ]
  },
  {
   "cell_type": "code",
   "execution_count": 21,
   "metadata": {},
   "outputs": [],
   "source": [
    "model = BaselineModel(num_outputs=num_outputs)"
   ]
  },
  {
   "cell_type": "code",
   "execution_count": 22,
   "metadata": {},
   "outputs": [],
   "source": [
    "# from torchsummary import summary\n",
    "# summary(model, input_size=(3, 128, 1024), device=\"cpu\")"
   ]
  },
  {
   "cell_type": "code",
   "execution_count": 23,
   "metadata": {},
   "outputs": [
    {
     "data": {
      "text/plain": [
       "torch.Size([1, 255, 61])"
      ]
     },
     "execution_count": 23,
     "metadata": {},
     "output_type": "execute_result"
    }
   ],
   "source": [
    "model(torch.rand(1, 3, 128, 1024)).shape"
   ]
  },
  {
   "cell_type": "code",
   "execution_count": 24,
   "metadata": {},
   "outputs": [],
   "source": [
    "criterion = nn.CTCLoss(blank=0, reduction=\"none\")"
   ]
  },
  {
   "cell_type": "code",
   "execution_count": 25,
   "metadata": {},
   "outputs": [],
   "source": [
    "optimizer = optim.Adam(model.parameters(), lr=1e-3)"
   ]
  },
  {
   "cell_type": "code",
   "execution_count": 26,
   "metadata": {},
   "outputs": [
    {
     "data": {
      "text/plain": [
       "BaselineModel(\n",
       "  (encoder): Sequential(\n",
       "    (0): Conv2d(3, 64, kernel_size=(3, 3), stride=(1, 1), padding=(1, 1))\n",
       "    (1): ReLU()\n",
       "    (2): MaxPool2d(kernel_size=(4, 2), stride=2, padding=0, dilation=1, ceil_mode=False)\n",
       "    (3): Conv2d(64, 128, kernel_size=(3, 3), stride=(1, 1), padding=(1, 1))\n",
       "    (4): ReLU()\n",
       "    (5): MaxPool2d(kernel_size=(4, 2), stride=2, padding=0, dilation=1, ceil_mode=False)\n",
       "    (6): Conv2d(128, 256, kernel_size=(3, 3), stride=(1, 1), padding=(1, 1))\n",
       "    (7): ReLU()\n",
       "    (8): Conv2d(256, 256, kernel_size=(3, 3), stride=(1, 1), padding=(1, 1))\n",
       "    (9): ReLU()\n",
       "    (10): ConstantPad2d(padding=[0, 0, 2, 1], value=0.0)\n",
       "    (11): MaxPool2d(kernel_size=(4, 1), stride=(4, 1), padding=0, dilation=1, ceil_mode=False)\n",
       "    (12): Conv2d(256, 512, kernel_size=(3, 3), stride=(1, 1), padding=(1, 1))\n",
       "    (13): ReLU()\n",
       "    (14): BatchNorm2d(512, eps=1e-05, momentum=0.1, affine=True, track_running_stats=True)\n",
       "    (15): Conv2d(512, 512, kernel_size=(3, 3), stride=(1, 1), padding=(1, 1))\n",
       "    (16): ReLU()\n",
       "    (17): BatchNorm2d(512, eps=1e-05, momentum=0.1, affine=True, track_running_stats=True)\n",
       "    (18): ConstantPad2d(padding=[0, 0, 1, 2], value=0.0)\n",
       "    (19): MaxPool2d(kernel_size=(4, 1), stride=(4, 1), padding=0, dilation=1, ceil_mode=False)\n",
       "    (20): Conv2d(512, 512, kernel_size=(2, 2), stride=(1, 1))\n",
       "    (21): ReLU()\n",
       "  )\n",
       "  (rnn): Sequential(\n",
       "    (0): Dropout(p=0.2, inplace=False)\n",
       "    (1): GRU(512, 256, num_layers=2, batch_first=True, dropout=0.2, bidirectional=True)\n",
       "  )\n",
       "  (final): Linear(in_features=512, out_features=61, bias=True)\n",
       ")"
      ]
     },
     "execution_count": 26,
     "metadata": {},
     "output_type": "execute_result"
    }
   ],
   "source": [
    "model.cuda(0)"
   ]
  },
  {
   "cell_type": "code",
   "execution_count": 27,
   "metadata": {},
   "outputs": [],
   "source": [
    "def train_model():\n",
    "    model.train()\n",
    "    for batch_idx, (images, _, targets, target_lengths) in enumerate(tqdm(train_loader)):\n",
    "        images, targets, target_lengths = images.cuda(), targets.to(torch.int32).cuda(), target_lengths.to(torch.int32).cuda()\n",
    "        optimizer.zero_grad()\n",
    "        logits = model(images).transpose(0, 1)\n",
    "        loss = criterion(F.log_softmax(logits, dim=-1), targets, torch.ones_like(target_lengths) * 255, target_lengths).mean()\n",
    "        loss.backward()\n",
    "        optimizer.step()\n",
    "        if batch_idx % 100 == 0:\n",
    "            print(f\"loss: {loss.item():.5f}\")"
   ]
  },
  {
   "cell_type": "code",
   "execution_count": 28,
   "metadata": {},
   "outputs": [],
   "source": [
    "def val_model():\n",
    "    model.eval()\n",
    "    num_items = 0\n",
    "    loss_accum = 0.0\n",
    "    total_chars = 0\n",
    "    error_chars = 0\n",
    "    total_words = 0\n",
    "    error_words = 0\n",
    "    with torch.no_grad():    \n",
    "        for batch_idx, (images, texts, targets, target_lengths) in enumerate(tqdm(val_loader)):\n",
    "            images, targets, target_lengths = images.cuda(), targets.to(torch.int32).cuda(), target_lengths.to(torch.int32).cuda()\n",
    "            logits = model(images).transpose(0, 1) # LxBxT\n",
    "            loss = criterion(F.log_softmax(logits, dim=-1), targets, torch.ones_like(target_lengths) * 255, target_lengths)\n",
    "            loss_accum += loss.sum().item()\n",
    "            num_items += len(texts)\n",
    "            labels = logits.argmax(dim=-1).detach().cpu().numpy().transpose(1, 0)\n",
    "            for i, encoded_text in enumerate(labels):\n",
    "                ref = texts[i]\n",
    "                total_chars += len(ref)\n",
    "                hyp = encoder.decode_ctc(encoded_text.tolist())\n",
    "                error_chars += editdistance.eval(hyp, ref)\n",
    "                total_words += len(ref.split())\n",
    "                error_words += editdistance.eval(hyp.split(), ref.split())\n",
    "                if batch_idx == 0:\n",
    "                    print(f\"ref: {ref}\")\n",
    "                    print(f\"hyp: {hyp}\")\n",
    "            \n",
    "            \n",
    "    loss_accum /= num_items\n",
    "    print(f\"loss: {loss_accum:.5f}\")\n",
    "    print(f\"CER: {error_chars / total_chars * 100:.2f}%, WER: {error_words / total_words * 100:.2f}%\")\n",
    "    return loss_accum"
   ]
  },
  {
   "cell_type": "code",
   "execution_count": 29,
   "metadata": {},
   "outputs": [],
   "source": [
    "reduce_lr = optim.lr_scheduler.ReduceLROnPlateau(\n",
    "    optimizer, mode='min', factor=0.7, patience=5, min_lr=1e-5, verbose=True)"
   ]
  },
  {
   "cell_type": "code",
   "execution_count": 30,
   "metadata": {
    "collapsed": true,
    "jupyter": {
     "outputs_hidden": true
    }
   },
   "outputs": [
    {
     "name": "stdout",
     "output_type": "stream",
     "text": [
      "==================================================\n",
      "epoch: 1\n"
     ]
    },
    {
     "data": {
      "application/vnd.jupyter.widget-view+json": {
       "model_id": "04483b3ca88f4c1b82e6309cf6e3315d",
       "version_major": 2,
       "version_minor": 0
      },
      "text/plain": [
       "HBox(children=(HTML(value=''), FloatProgress(value=0.0, max=285.0), HTML(value='')))"
      ]
     },
     "metadata": {},
     "output_type": "display_data"
    },
    {
     "name": "stdout",
     "output_type": "stream",
     "text": [
      "loss: 918.61859\n",
      "loss: 92.40459\n",
      "loss: 96.50011\n",
      "\n"
     ]
    },
    {
     "data": {
      "application/vnd.jupyter.widget-view+json": {
       "model_id": "c5f4023a7e5945258aadae7797ed6649",
       "version_major": 2,
       "version_minor": 0
      },
      "text/plain": [
       "HBox(children=(HTML(value=''), FloatProgress(value=0.0, max=21.0), HTML(value='')))"
      ]
     },
     "metadata": {},
     "output_type": "display_data"
    },
    {
     "name": "stdout",
     "output_type": "stream",
     "text": [
      "ref: + но хорошо мужикоф содержите\n",
      "hyp: \n",
      "ref: i тако пѣхота далее\n",
      "hyp: \n",
      "ref: римут то б хотя шквадру от 7\n",
      "hyp: \n",
      "ref: рыхъ нужъдахъ пишетъ i то вы\n",
      "hyp: \n",
      "ref: чтоб мнѣ мое писмо поттвердит\n",
      "hyp: \n",
      "ref: жанъ i лутче всякому своей\n",
      "hyp: \n",
      "ref: зит\n",
      "hyp: \n",
      "ref: пѣхотою удержат\n",
      "hyp: \n",
      "ref: нам здес зело докучает аднакож для\n",
      "hyp: \n",
      "ref: ет указ не описываяс всту\n",
      "hyp: \n",
      "ref: ного и возна в заключе\n",
      "hyp: \n",
      "ref: и протчег\n",
      "hyp: \n",
      "ref: 1\n",
      "hyp: \n",
      "ref: хотя за далностию i непърестаными отмѣ\n",
      "hyp: \n",
      "ref: обявъляю вам что я сюды приѣхал вчерас\n",
      "hyp: \n",
      "ref: государственных дѣл положит на въ\n",
      "hyp: \n",
      "ref: заранѣе\n",
      "hyp: \n",
      "ref: чтоб нашим людем на островѣ не ос\n",
      "hyp: \n",
      "ref: что мы которой мир i отдачю турком обѣ\n",
      "hyp: \n",
      "ref: долго войскъ держат не можем но\n",
      "hyp: \n",
      "\n",
      "loss: 89.03322\n",
      "CER: 100.00%, WER: 100.00%\n",
      "loss: best 89.03322 | cur 89.03322\n",
      "==================================================\n",
      "epoch: 2\n"
     ]
    },
    {
     "data": {
      "application/vnd.jupyter.widget-view+json": {
       "model_id": "8a0a8f8d6c1c49c684c2f38a7ba837e5",
       "version_major": 2,
       "version_minor": 0
      },
      "text/plain": [
       "HBox(children=(HTML(value=''), FloatProgress(value=0.0, max=285.0), HTML(value='')))"
      ]
     },
     "metadata": {},
     "output_type": "display_data"
    },
    {
     "name": "stdout",
     "output_type": "stream",
     "text": [
      "loss: 94.01183\n",
      "loss: 94.62207\n",
      "loss: 80.00114\n",
      "\n"
     ]
    },
    {
     "data": {
      "application/vnd.jupyter.widget-view+json": {
       "model_id": "fbac22ebc9b9486cbe68f2bfadbccb1a",
       "version_major": 2,
       "version_minor": 0
      },
      "text/plain": [
       "HBox(children=(HTML(value=''), FloatProgress(value=0.0, max=21.0), HTML(value='')))"
      ]
     },
     "metadata": {},
     "output_type": "display_data"
    },
    {
     "name": "stdout",
     "output_type": "stream",
     "text": [
      "ref: + но хорошо мужикоф содержите\n",
      "hyp: \n",
      "ref: i тако пѣхота далее\n",
      "hyp: \n",
      "ref: римут то б хотя шквадру от 7\n",
      "hyp: \n",
      "ref: рыхъ нужъдахъ пишетъ i то вы\n",
      "hyp: \n",
      "ref: чтоб мнѣ мое писмо поттвердит\n",
      "hyp: \n",
      "ref: жанъ i лутче всякому своей\n",
      "hyp: \n",
      "ref: зит\n",
      "hyp: \n",
      "ref: пѣхотою удержат\n",
      "hyp: п\n",
      "ref: нам здес зело докучает аднакож для\n",
      "hyp: \n",
      "ref: ет указ не описываяс всту\n",
      "hyp: \n",
      "ref: ного и возна в заключе\n",
      "hyp: \n",
      "ref: и протчег\n",
      "hyp: \n",
      "ref: 1\n",
      "hyp: \n",
      "ref: хотя за далностию i непърестаными отмѣ\n",
      "hyp: \n",
      "ref: обявъляю вам что я сюды приѣхал вчерас\n",
      "hyp: \n",
      "ref: государственных дѣл положит на въ\n",
      "hyp: \n",
      "ref: заранѣе\n",
      "hyp: \n",
      "ref: чтоб нашим людем на островѣ не ос\n",
      "hyp: \n",
      "ref: что мы которой мир i отдачю турком обѣ\n",
      "hyp: \n",
      "ref: долго войскъ держат не можем но\n",
      "hyp: п\n",
      "\n",
      "loss: 85.45882\n",
      "CER: 99.70%, WER: 100.00%\n",
      "loss: best 85.45882 | cur 85.45882\n",
      "==================================================\n",
      "epoch: 3\n"
     ]
    },
    {
     "data": {
      "application/vnd.jupyter.widget-view+json": {
       "model_id": "1d994cf437604d7ba1ad14e02a1d5080",
       "version_major": 2,
       "version_minor": 0
      },
      "text/plain": [
       "HBox(children=(HTML(value=''), FloatProgress(value=0.0, max=285.0), HTML(value='')))"
      ]
     },
     "metadata": {},
     "output_type": "display_data"
    },
    {
     "name": "stdout",
     "output_type": "stream",
     "text": [
      "loss: 91.30945\n",
      "loss: 89.61847\n",
      "loss: 59.89921\n",
      "\n"
     ]
    },
    {
     "data": {
      "application/vnd.jupyter.widget-view+json": {
       "model_id": "29790179a0dc406d94307359aac3f007",
       "version_major": 2,
       "version_minor": 0
      },
      "text/plain": [
       "HBox(children=(HTML(value=''), FloatProgress(value=0.0, max=21.0), HTML(value='')))"
      ]
     },
     "metadata": {},
     "output_type": "display_data"
    },
    {
     "name": "stdout",
     "output_type": "stream",
     "text": [
      "ref: + но хорошо мужикоф содержите\n",
      "hyp: з\n",
      "ref: i тако пѣхота далее\n",
      "hyp: тако гѣсатал\n",
      "ref: римут то б хотя шквадру от 7\n",
      "hyp: рилуттоотя нквадуот\n",
      "ref: рыхъ нужъдахъ пишетъ i то вы\n",
      "hyp: ылнурагъ пи кетъ iтого\n",
      "ref: чтоб мнѣ мое писмо поттвердит\n",
      "hyp: отанмелнмо отквот\n",
      "ref: жанъ i лутче всякому своей\n",
      "hyp: лъ iлутсяколу свые\n",
      "ref: зит\n",
      "hyp: ат\n",
      "ref: пѣхотою удержат\n",
      "hyp: пъяотогудст\n",
      "ref: нам здес зело докучает аднакож для\n",
      "hyp: на чдеело кетнекодлл\n",
      "ref: ет указ не описываяс всту\n",
      "hyp: ку коанео пингагт\n",
      "ref: ного и возна в заключе\n",
      "hyp: ного вонаъзапяче\n",
      "ref: и протчег\n",
      "hyp: i прк\n",
      "ref: 1\n",
      "hyp: \n",
      "ref: хотя за далностию i непърестаными отмѣ\n",
      "hyp: пота зода носно iноворостыыни олг\n",
      "ref: обявъляю вам что я сюды приѣхал вчерас\n",
      "hyp: орлыво чуя съюдыприѣлоогчаао\n",
      "ref: государственных дѣл положит на въ\n",
      "hyp: погротоенноду полоклъ\n",
      "ref: заранѣе\n",
      "hyp: заралуѣе\n",
      "ref: чтоб нашим людем на островѣ не ос\n",
      "hyp: тобналимоде норунео\n",
      "ref: что мы которой мир i отдачю турком обѣ\n",
      "hyp: олы которойлиу iотдачотукоо\n",
      "ref: долго войскъ держат не можем но\n",
      "hyp: доовойкдестленлосечо\n",
      "\n",
      "loss: 43.17083\n",
      "CER: 48.86%, WER: 97.60%\n",
      "loss: best 43.17083 | cur 43.17083\n",
      "==================================================\n",
      "epoch: 4\n"
     ]
    },
    {
     "data": {
      "application/vnd.jupyter.widget-view+json": {
       "model_id": "a2bc7a2487614ea998e4f61d5644ada8",
       "version_major": 2,
       "version_minor": 0
      },
      "text/plain": [
       "HBox(children=(HTML(value=''), FloatProgress(value=0.0, max=285.0), HTML(value='')))"
      ]
     },
     "metadata": {},
     "output_type": "display_data"
    },
    {
     "name": "stdout",
     "output_type": "stream",
     "text": [
      "loss: 46.95247\n",
      "loss: 35.22832\n",
      "loss: 25.01386\n",
      "\n"
     ]
    },
    {
     "data": {
      "application/vnd.jupyter.widget-view+json": {
       "model_id": "3b4c5589cf374003a5f589d5dd04354b",
       "version_major": 2,
       "version_minor": 0
      },
      "text/plain": [
       "HBox(children=(HTML(value=''), FloatProgress(value=0.0, max=21.0), HTML(value='')))"
      ]
     },
     "metadata": {},
     "output_type": "display_data"
    },
    {
     "name": "stdout",
     "output_type": "stream",
     "text": [
      "ref: + но хорошо мужикоф содержите\n",
      "hyp: i\n",
      "ref: i тако пѣхота далее\n",
      "hyp: iтсакопѣротсадалеа\n",
      "ref: римут то б хотя шквадру от 7\n",
      "hyp: римут тобхотя шквадруот3\n",
      "ref: рыхъ нужъдахъ пишетъ i то вы\n",
      "hyp: рылъ нуъдаръпишетъ iтобва\n",
      "ref: чтоб мнѣ мое писмо поттвердит\n",
      "hyp: стобманѣмоепысмо поттворит\n",
      "ref: жанъ i лутче всякому своей\n",
      "hyp: жанъ iлутча вся кому своей\n",
      "ref: зит\n",
      "hyp: ат\n",
      "ref: пѣхотою удержат\n",
      "hyp: пѣхотогудеружат\n",
      "ref: нам здес зело докучает аднакож для\n",
      "hyp: намюдедзенодокуает адднакождоя\n",
      "ref: ет указ не описываяс всту\n",
      "hyp: ет указневпивы ваядвсту\n",
      "ref: ного и возна в заключе\n",
      "hyp: нотгоавознавза пнюче\n",
      "ref: и протчег\n",
      "hyp: япротзе\n",
      "ref: 1\n",
      "hyp: 1\n",
      "ref: хотя за далностию i непърестаными отмѣ\n",
      "hyp: потязодал ностю i ноърентаными отнв\n",
      "ref: обявъляю вам что я сюды приѣхал вчерас\n",
      "hyp: орвъллюврх чмоябѣды приѣхал вчтрат\n",
      "ref: государственных дѣл положит на въ\n",
      "hyp: гобудартвенных дѣлположут навъ\n",
      "ref: заранѣе\n",
      "hyp: заранѣе\n",
      "ref: чтоб нашим людем на островѣ не ос\n",
      "hyp: чтобнашим людем наостровѣ неноб\n",
      "ref: что мы которой мир i отдачю турком обѣ\n",
      "hyp: томы котороймир iотдачютуркоробѣ\n",
      "ref: долго войскъ держат не можем но\n",
      "hyp: одусговойсъдержат немо сжено\n",
      "\n",
      "loss: 22.32119\n",
      "CER: 25.96%, WER: 89.02%\n",
      "loss: best 22.32119 | cur 22.32119\n",
      "==================================================\n",
      "epoch: 5\n"
     ]
    },
    {
     "data": {
      "application/vnd.jupyter.widget-view+json": {
       "model_id": "6d9f7d515a0c45ff99018428bfd4e8e9",
       "version_major": 2,
       "version_minor": 0
      },
      "text/plain": [
       "HBox(children=(HTML(value=''), FloatProgress(value=0.0, max=285.0), HTML(value='')))"
      ]
     },
     "metadata": {},
     "output_type": "display_data"
    },
    {
     "name": "stdout",
     "output_type": "stream",
     "text": [
      "loss: 15.55365\n",
      "loss: 15.53091\n",
      "loss: 16.77835\n",
      "\n"
     ]
    },
    {
     "data": {
      "application/vnd.jupyter.widget-view+json": {
       "model_id": "f844106855594c4b9269ae1449553834",
       "version_major": 2,
       "version_minor": 0
      },
      "text/plain": [
       "HBox(children=(HTML(value=''), FloatProgress(value=0.0, max=21.0), HTML(value='')))"
      ]
     },
     "metadata": {},
     "output_type": "display_data"
    },
    {
     "name": "stdout",
     "output_type": "stream",
     "text": [
      "ref: + но хорошо мужикоф содержите\n",
      "hyp: +\n",
      "ref: i тако пѣхота далее\n",
      "hyp: iiтакопѣотадалее\n",
      "ref: римут то б хотя шквадру от 7\n",
      "hyp: римут тобхотя шы вадру от7\n",
      "ref: рыхъ нужъдахъ пишетъ i то вы\n",
      "hyp: фылъ нужъдалъ пишетъ i товы\n",
      "ref: чтоб мнѣ мое писмо поттвердит\n",
      "hyp: чтеб мнѣ мие писмо пот творит\n",
      "ref: жанъ i лутче всякому своей\n",
      "hyp: жанъ iлут че всякому своей\n",
      "ref: зит\n",
      "hyp: 2ат\n",
      "ref: пѣхотою удержат\n",
      "hyp: пѣхотою удержат\n",
      "ref: нам здес зело докучает аднакож для\n",
      "hyp: ним здесзелоде кусает ад накож для\n",
      "ref: ет указ не описываяс всту\n",
      "hyp: етуказнеопивы влаяс всту\n",
      "ref: ного и возна в заключе\n",
      "hyp: нотго я возна в запиюче\n",
      "ref: и протчег\n",
      "hyp: i ппотче\n",
      "ref: 1\n",
      "hyp: 1\n",
      "ref: хотя за далностию i непърестаными отмѣ\n",
      "hyp: хотия задал ностию i ноърестиными отнѣ\n",
      "ref: обявъляю вам что я сюды приѣхал вчерас\n",
      "hyp: обявъляювъм чтуя бюды приѣхал вчелас\n",
      "ref: государственных дѣл положит на въ\n",
      "hyp: гобудорсвенных дѣл положит навъ\n",
      "ref: заранѣе\n",
      "hyp: заранѣе\n",
      "ref: чтоб нашим людем на островѣ не ос\n",
      "hyp: чтоб нашилюдем наостровѣ нен ос\n",
      "ref: что мы которой мир i отдачю турком обѣ\n",
      "hyp: чтомы котороймир i отдачю турком обѣ\n",
      "ref: долго войскъ держат не можем но\n",
      "hyp: дусговойскъдержат не може но\n",
      "\n",
      "loss: 15.23574\n",
      "CER: 17.23%, WER: 73.62%\n",
      "loss: best 15.23574 | cur 15.23574\n",
      "==================================================\n",
      "epoch: 6\n"
     ]
    },
    {
     "data": {
      "application/vnd.jupyter.widget-view+json": {
       "model_id": "e4b529d7ed864edb8ca603320e7e351a",
       "version_major": 2,
       "version_minor": 0
      },
      "text/plain": [
       "HBox(children=(HTML(value=''), FloatProgress(value=0.0, max=285.0), HTML(value='')))"
      ]
     },
     "metadata": {},
     "output_type": "display_data"
    },
    {
     "name": "stdout",
     "output_type": "stream",
     "text": [
      "loss: 18.16852\n",
      "loss: 10.93688\n",
      "loss: 10.23026\n",
      "\n"
     ]
    },
    {
     "data": {
      "application/vnd.jupyter.widget-view+json": {
       "model_id": "cc9f14e80aa14ef3b5921dc782e56862",
       "version_major": 2,
       "version_minor": 0
      },
      "text/plain": [
       "HBox(children=(HTML(value=''), FloatProgress(value=0.0, max=21.0), HTML(value='')))"
      ]
     },
     "metadata": {},
     "output_type": "display_data"
    },
    {
     "name": "stdout",
     "output_type": "stream",
     "text": [
      "ref: + но хорошо мужикоф содержите\n",
      "hyp: +\n",
      "ref: i тако пѣхота далее\n",
      "hyp: i тако пѣхотадале\n",
      "ref: римут то б хотя шквадру от 7\n",
      "hyp: римут тоб хотя шквадру от7\n",
      "ref: рыхъ нужъдахъ пишетъ i то вы\n",
      "hyp: рыхънужъ далъ пишетъ i то вы\n",
      "ref: чтоб мнѣ мое писмо поттвердит\n",
      "hyp: чтоб мнѣ мое пысмо пот тверди\n",
      "ref: жанъ i лутче всякому своей\n",
      "hyp: анъ iлутче всякому своей\n",
      "ref: зит\n",
      "hyp: зат\n",
      "ref: пѣхотою удержат\n",
      "hyp: пѣхотою удержат\n",
      "ref: нам здес зело докучает аднакож для\n",
      "hyp: нам здес зелодо кучает аднакож для\n",
      "ref: ет указ не описываяс всту\n",
      "hyp: е указнео пикы влаяс всту\n",
      "ref: ного и возна в заключе\n",
      "hyp: ного нвозна в запиюче\n",
      "ref: и протчег\n",
      "hyp: i протче\n",
      "ref: 1\n",
      "hyp: 1\n",
      "ref: хотя за далностию i непърестаными отмѣ\n",
      "hyp: хотя задал ностию i наърестаны ми отмѣ\n",
      "ref: обявъляю вам что я сюды приѣхал вчерас\n",
      "hyp: обявъляю въм чмтоя сюды приѣхай вчела\n",
      "ref: государственных дѣл положит на въ\n",
      "hyp: государственных дѣл положжит навъ\n",
      "ref: заранѣе\n",
      "hyp: заранѣе\n",
      "ref: чтоб нашим людем на островѣ не ос\n",
      "hyp: чтоб нашим людем наостровѣ не ос\n",
      "ref: что мы которой мир i отдачю турком обѣ\n",
      "hyp: что мы которой мир i огдачю турком обѣ\n",
      "ref: долго войскъ держат не можем но\n",
      "hyp: дусго войскъ держат не мо жже но\n",
      "\n",
      "loss: 13.34605\n",
      "CER: 14.87%, WER: 66.27%\n",
      "loss: best 13.34605 | cur 13.34605\n",
      "==================================================\n",
      "epoch: 7\n"
     ]
    },
    {
     "data": {
      "application/vnd.jupyter.widget-view+json": {
       "model_id": "7087a5bd6187402a90810dbd109d2bc6",
       "version_major": 2,
       "version_minor": 0
      },
      "text/plain": [
       "HBox(children=(HTML(value=''), FloatProgress(value=0.0, max=285.0), HTML(value='')))"
      ]
     },
     "metadata": {},
     "output_type": "display_data"
    },
    {
     "name": "stdout",
     "output_type": "stream",
     "text": [
      "loss: 10.36151\n",
      "loss: 10.87379\n",
      "loss: 6.71208\n",
      "\n"
     ]
    },
    {
     "data": {
      "application/vnd.jupyter.widget-view+json": {
       "model_id": "84af374ffe0c4ced86942dfcad0d8020",
       "version_major": 2,
       "version_minor": 0
      },
      "text/plain": [
       "HBox(children=(HTML(value=''), FloatProgress(value=0.0, max=21.0), HTML(value='')))"
      ]
     },
     "metadata": {},
     "output_type": "display_data"
    },
    {
     "name": "stdout",
     "output_type": "stream",
     "text": [
      "ref: + но хорошо мужикоф содержите\n",
      "hyp: +\n",
      "ref: i тако пѣхота далее\n",
      "hyp: iтакопѣхоттадалее\n",
      "ref: римут то б хотя шквадру от 7\n",
      "hyp: римут тобхотя шквадру от3\n",
      "ref: рыхъ нужъдахъ пишетъ i то вы\n",
      "hyp: рылъ нужъдало пишетъ i тогы\n",
      "ref: чтоб мнѣ мое писмо поттвердит\n",
      "hyp: чтоб мнѣ мое писмо пот тверит\n",
      "ref: жанъ i лутче всякому своей\n",
      "hyp: жанъ iлутче всякому своей\n",
      "ref: зит\n",
      "hyp: зат\n",
      "ref: пѣхотою удержат\n",
      "hyp: пѣхотою удержат\n",
      "ref: нам здес зело докучает аднакож для\n",
      "hyp: нам здесзелодо кукает аднакож для\n",
      "ref: ет указ не описываяс всту\n",
      "hyp: е указнео пиы влаяс ксту\n",
      "ref: ного и возна в заключе\n",
      "hyp: ного явозна взаниюче\n",
      "ref: и протчег\n",
      "hyp: i протзг\n",
      "ref: 1\n",
      "hyp: 1\n",
      "ref: хотя за далностию i непърестаными отмѣ\n",
      "hyp: хотя задал ностию i нпърестаными отнѣ\n",
      "ref: обявъляю вам что я сюды приѣхал вчерас\n",
      "hyp: обявъляю вам чтуя сюды приѣхал вчелас\n",
      "ref: государственных дѣл положит на въ\n",
      "hyp: гобударственных дѣл положит навъ\n",
      "ref: заранѣе\n",
      "hyp: заранѣе\n",
      "ref: чтоб нашим людем на островѣ не ос\n",
      "hyp: чтоб нашим лудем наостровѣ не ос\n",
      "ref: что мы которой мир i отдачю турком обѣ\n",
      "hyp: что мы которой мир i отдачю турком обѣ\n",
      "ref: долго войскъ держат не можем но\n",
      "hyp: дусго войскъдержат не можено\n",
      "\n",
      "loss: 11.78493\n",
      "CER: 13.62%, WER: 62.84%\n",
      "loss: best 11.78493 | cur 11.78493\n",
      "==================================================\n",
      "epoch: 8\n"
     ]
    },
    {
     "data": {
      "application/vnd.jupyter.widget-view+json": {
       "model_id": "53eccba1765f4533b72b51842f4ed4a1",
       "version_major": 2,
       "version_minor": 0
      },
      "text/plain": [
       "HBox(children=(HTML(value=''), FloatProgress(value=0.0, max=285.0), HTML(value='')))"
      ]
     },
     "metadata": {},
     "output_type": "display_data"
    },
    {
     "name": "stdout",
     "output_type": "stream",
     "text": [
      "loss: 10.00228\n",
      "loss: 8.67118\n",
      "loss: 14.41889\n",
      "\n"
     ]
    },
    {
     "data": {
      "application/vnd.jupyter.widget-view+json": {
       "model_id": "99e1eb8b06cb43e29809247e5bd30e39",
       "version_major": 2,
       "version_minor": 0
      },
      "text/plain": [
       "HBox(children=(HTML(value=''), FloatProgress(value=0.0, max=21.0), HTML(value='')))"
      ]
     },
     "metadata": {},
     "output_type": "display_data"
    },
    {
     "name": "stdout",
     "output_type": "stream",
     "text": [
      "ref: + но хорошо мужикоф содержите\n",
      "hyp: +\n",
      "ref: i тако пѣхота далее\n",
      "hyp: i такопѣхота дал\n",
      "ref: римут то б хотя шквадру от 7\n",
      "hyp: римут тобхотя шквадру отц\n",
      "ref: рыхъ нужъдахъ пишетъ i то вы\n",
      "hyp: рылъ нужѣдалѣпишетъ i товъ\n",
      "ref: чтоб мнѣ мое писмо поттвердит\n",
      "hyp: чтоб мнѣ мое пысмо поттвердитт\n",
      "ref: жанъ i лутче всякому своей\n",
      "hyp: жжанѣ iлутче всякому своей\n",
      "ref: зит\n",
      "hyp: зат\n",
      "ref: пѣхотою удержат\n",
      "hyp: пѣхотою удержат\n",
      "ref: нам здес зело докучает аднакож для\n",
      "hyp: нам здес зеодо куает аднакождля\n",
      "ref: ет указ не описываяс всту\n",
      "hyp: ет указнеопиы влаяс всту\n",
      "ref: ного и возна в заключе\n",
      "hyp: ногоа возна вза флюче\n",
      "ref: и протчег\n",
      "hyp: i проте\n",
      "ref: 1\n",
      "hyp: \n",
      "ref: хотя за далностию i непърестаными отмѣ\n",
      "hyp: хотя задал ностию i нпърестаными отнѣ\n",
      "ref: обявъляю вам что я сюды приѣхал вчерас\n",
      "hyp: обявъляю вам чтоя сюды приѣхал вчелас\n",
      "ref: государственных дѣл положит на въ\n",
      "hyp: говударственных дѣл положит навъ\n",
      "ref: заранѣе\n",
      "hyp: заранѣе\n",
      "ref: чтоб нашим людем на островѣ не ос\n",
      "hyp: чтоб нашим людем наостровѣнен ос\n",
      "ref: что мы которой мир i отдачю турком обѣ\n",
      "hyp: что мы котороймир i огдачю турком обѣ\n",
      "ref: долго войскъ держат не можем но\n",
      "hyp: дулго войскъ держат не можено\n",
      "\n",
      "loss: 11.45785\n",
      "CER: 13.16%, WER: 61.80%\n",
      "loss: best 11.45785 | cur 11.45785\n",
      "==================================================\n",
      "epoch: 9\n"
     ]
    },
    {
     "data": {
      "application/vnd.jupyter.widget-view+json": {
       "model_id": "088333e4c3e14eb987a033b1f22d1acd",
       "version_major": 2,
       "version_minor": 0
      },
      "text/plain": [
       "HBox(children=(HTML(value=''), FloatProgress(value=0.0, max=285.0), HTML(value='')))"
      ]
     },
     "metadata": {},
     "output_type": "display_data"
    },
    {
     "name": "stdout",
     "output_type": "stream",
     "text": [
      "loss: 9.86878\n",
      "loss: 12.50408\n",
      "loss: 8.10448\n",
      "\n"
     ]
    },
    {
     "data": {
      "application/vnd.jupyter.widget-view+json": {
       "model_id": "1b5409de68fa4401b79129d9f5bf2c8d",
       "version_major": 2,
       "version_minor": 0
      },
      "text/plain": [
       "HBox(children=(HTML(value=''), FloatProgress(value=0.0, max=21.0), HTML(value='')))"
      ]
     },
     "metadata": {},
     "output_type": "display_data"
    },
    {
     "name": "stdout",
     "output_type": "stream",
     "text": [
      "ref: + но хорошо мужикоф содержите\n",
      "hyp: +\n",
      "ref: i тако пѣхота далее\n",
      "hyp: iа копѣхота дале\n",
      "ref: римут то б хотя шквадру от 7\n",
      "hyp: римут тобхотя шк вадруот3\n",
      "ref: рыхъ нужъдахъ пишетъ i то вы\n",
      "hyp: рыл нутъдалъ пишетъ i товъ\n",
      "ref: чтоб мнѣ мое писмо поттвердит\n",
      "hyp: чтоб мнѣмое писмо пот твердит\n",
      "ref: жанъ i лутче всякому своей\n",
      "hyp: жанъ i лутче всякому своей\n",
      "ref: зит\n",
      "hyp: зат\n",
      "ref: пѣхотою удержат\n",
      "hyp: пѣлотою удержат\n",
      "ref: нам здес зело докучает аднакож для\n",
      "hyp: наам здес зелодо куает адд накождля\n",
      "ref: ет указ не описываяс всту\n",
      "hyp: е указнео пичываяс всту\n",
      "ref: ного и возна в заключе\n",
      "hyp: ного мвозна  за пиюче\n",
      "ref: и протчег\n",
      "hyp: i протег\n",
      "ref: 1\n",
      "hyp: 1\n",
      "ref: хотя за далностию i непърестаными отмѣ\n",
      "hyp: хотя задал ностию i наърестаными отнѣ\n",
      "ref: обявъляю вам что я сюды приѣхал вчерас\n",
      "hyp: обявъляю въм чтв я сюды приѣхал в черас\n",
      "ref: государственных дѣл положит на въ\n",
      "hyp: го бударственных дѣл положит навъ\n",
      "ref: заранѣе\n",
      "hyp: заранѣе\n",
      "ref: чтоб нашим людем на островѣ не ос\n",
      "hyp: чтоб нашим людем наостровѣ нен ос\n",
      "ref: что мы которой мир i отдачю турком обѣ\n",
      "hyp: что мы которой мир i огдачю турком обѣ\n",
      "ref: долго войскъ держат не можем но\n",
      "hyp: дол го войскъ держат не можемно\n",
      "\n",
      "loss: 11.21093\n",
      "CER: 12.57%, WER: 60.10%\n",
      "loss: best 11.21093 | cur 11.21093\n",
      "==================================================\n",
      "epoch: 10\n"
     ]
    },
    {
     "data": {
      "application/vnd.jupyter.widget-view+json": {
       "model_id": "586ed2c8470c44e9b0a35c576b6726bb",
       "version_major": 2,
       "version_minor": 0
      },
      "text/plain": [
       "HBox(children=(HTML(value=''), FloatProgress(value=0.0, max=285.0), HTML(value='')))"
      ]
     },
     "metadata": {},
     "output_type": "display_data"
    },
    {
     "name": "stdout",
     "output_type": "stream",
     "text": [
      "loss: 5.38487\n",
      "loss: 6.37031\n",
      "loss: 6.22381\n",
      "\n"
     ]
    },
    {
     "data": {
      "application/vnd.jupyter.widget-view+json": {
       "model_id": "4925875565aa41e4a0aa2458dbb21719",
       "version_major": 2,
       "version_minor": 0
      },
      "text/plain": [
       "HBox(children=(HTML(value=''), FloatProgress(value=0.0, max=21.0), HTML(value='')))"
      ]
     },
     "metadata": {},
     "output_type": "display_data"
    },
    {
     "name": "stdout",
     "output_type": "stream",
     "text": [
      "ref: + но хорошо мужикоф содержите\n",
      "hyp: +\n",
      "ref: i тако пѣхота далее\n",
      "hyp: iтако пѣхотта дале\n",
      "ref: римут то б хотя шквадру от 7\n",
      "hyp: римут тобхотя шк вадру отц\n",
      "ref: рыхъ нужъдахъ пишетъ i то вы\n",
      "hyp: рылъ нужъ дапъ пишетъ i товы\n",
      "ref: чтоб мнѣ мое писмо поттвердит\n",
      "hyp: чтоб мнѣ мое писмо потвордит\n",
      "ref: жанъ i лутче всякому своей\n",
      "hyp: жанъ iлутче всякому своей\n",
      "ref: зит\n",
      "hyp: зат\n",
      "ref: пѣхотою удержат\n",
      "hyp: пѣхотою удержат\n",
      "ref: нам здес зело докучает аднакож для\n",
      "hyp: нам чдес зелодо куает аднакождля\n",
      "ref: ет указ не описываяс всту\n",
      "hyp: ет указнеопиы ваяс всту\n",
      "ref: ного и возна в заключе\n",
      "hyp: ного и возна вза пнюче\n",
      "ref: и протчег\n",
      "hyp: i протег\n",
      "ref: 1\n",
      "hyp: 1\n",
      "ref: хотя за далностию i непърестаными отмѣ\n",
      "hyp: хотя задал ностию i наърестаными отмѣ\n",
      "ref: обявъляю вам что я сюды приѣхал вчерас\n",
      "hyp: обявъляю вом что я сюды приѣхал в чеас\n",
      "ref: государственных дѣл положит на въ\n",
      "hyp: посударственных дѣл положитна въ\n",
      "ref: заранѣе\n",
      "hyp: заранѣе\n",
      "ref: чтоб нашим людем на островѣ не ос\n",
      "hyp: чтоб нашим людем наостровѣ не ос\n",
      "ref: что мы которой мир i отдачю турком обѣ\n",
      "hyp: что мы которой мир i огдачю турком обѣ\n",
      "ref: долго войскъ держат не можем но\n",
      "hyp: догго войскъдержат не можено\n",
      "\n",
      "loss: 10.27166\n",
      "CER: 11.39%, WER: 55.44%\n",
      "loss: best 10.27166 | cur 10.27166\n",
      "==================================================\n",
      "epoch: 11\n"
     ]
    },
    {
     "data": {
      "application/vnd.jupyter.widget-view+json": {
       "model_id": "626dbf60b9c241849b5957562ad4ab6c",
       "version_major": 2,
       "version_minor": 0
      },
      "text/plain": [
       "HBox(children=(HTML(value=''), FloatProgress(value=0.0, max=285.0), HTML(value='')))"
      ]
     },
     "metadata": {},
     "output_type": "display_data"
    },
    {
     "name": "stdout",
     "output_type": "stream",
     "text": [
      "loss: 7.28935\n",
      "loss: 4.90610\n",
      "loss: 4.98490\n",
      "\n"
     ]
    },
    {
     "data": {
      "application/vnd.jupyter.widget-view+json": {
       "model_id": "ef50e7958e1f4badbfe83a9122180369",
       "version_major": 2,
       "version_minor": 0
      },
      "text/plain": [
       "HBox(children=(HTML(value=''), FloatProgress(value=0.0, max=21.0), HTML(value='')))"
      ]
     },
     "metadata": {},
     "output_type": "display_data"
    },
    {
     "name": "stdout",
     "output_type": "stream",
     "text": [
      "ref: + но хорошо мужикоф содержите\n",
      "hyp: ю\n",
      "ref: i тако пѣхота далее\n",
      "hyp: iтако пѣхоттадалее\n",
      "ref: римут то б хотя шквадру от 7\n",
      "hyp: римут тоб хотя шк вадруот\n",
      "ref: рыхъ нужъдахъ пишетъ i то вы\n",
      "hyp: рыръ нужъдаръпишетъ i товы\n",
      "ref: чтоб мнѣ мое писмо поттвердит\n",
      "hyp: чтоб мнѣ мое писмо поттвердитт\n",
      "ref: жанъ i лутче всякому своей\n",
      "hyp: жанъ iлутче всякому своей\n",
      "ref: зит\n",
      "hyp: зат\n",
      "ref: пѣхотою удержат\n",
      "hyp: пѣхотою удоржат\n",
      "ref: нам здес зело докучает аднакож для\n",
      "hyp: нам здей зелодо кучает анакождля\n",
      "ref: ет указ не описываяс всту\n",
      "hyp: е указнеопиываяс всту\n",
      "ref: ного и возна в заключе\n",
      "hyp: ного хвозна в заниюче\n",
      "ref: и протчег\n",
      "hyp: i протег\n",
      "ref: 1\n",
      "hyp: 1\n",
      "ref: хотя за далностию i непърестаными отмѣ\n",
      "hyp: хотязадал ностию i наърестаны ми отнѣ\n",
      "ref: обявъляю вам что я сюды приѣхал вчерас\n",
      "hyp: обявъляю вам что я сбюды приѣхал вчерас\n",
      "ref: государственных дѣл положит на въ\n",
      "hyp: посударственных дѣл положит на въ\n",
      "ref: заранѣе\n",
      "hyp: заранѣе\n",
      "ref: чтоб нашим людем на островѣ не ос\n",
      "hyp: чтоб нашим людем наостровѣ не ос\n",
      "ref: что мы которой мир i отдачю турком обѣ\n",
      "hyp: что мы которой мир i огдачю турком обѣ\n",
      "ref: долго войскъ держат не можем но\n",
      "hyp: дугго войскъ держат не можено\n",
      "\n",
      "loss: 10.78283\n",
      "CER: 11.94%, WER: 56.67%\n",
      "loss: best 10.27166 | cur 10.78283\n",
      "==================================================\n",
      "epoch: 12\n"
     ]
    },
    {
     "data": {
      "application/vnd.jupyter.widget-view+json": {
       "model_id": "1f91e93ecbe643b59c88fef5569e8f42",
       "version_major": 2,
       "version_minor": 0
      },
      "text/plain": [
       "HBox(children=(HTML(value=''), FloatProgress(value=0.0, max=285.0), HTML(value='')))"
      ]
     },
     "metadata": {},
     "output_type": "display_data"
    },
    {
     "name": "stdout",
     "output_type": "stream",
     "text": [
      "loss: 5.49748\n",
      "loss: 11.73168\n",
      "loss: 6.75179\n",
      "\n"
     ]
    },
    {
     "data": {
      "application/vnd.jupyter.widget-view+json": {
       "model_id": "80af9fe256ad4e75be5f88ff48cd5471",
       "version_major": 2,
       "version_minor": 0
      },
      "text/plain": [
       "HBox(children=(HTML(value=''), FloatProgress(value=0.0, max=21.0), HTML(value='')))"
      ]
     },
     "metadata": {},
     "output_type": "display_data"
    },
    {
     "name": "stdout",
     "output_type": "stream",
     "text": [
      "ref: + но хорошо мужикоф содержите\n",
      "hyp: + \n",
      "ref: i тако пѣхота далее\n",
      "hyp: iта копѣха далее\n",
      "ref: римут то б хотя шквадру от 7\n",
      "hyp: римут тоб хотя шк вадру отц\n",
      "ref: рыхъ нужъдахъ пишетъ i то вы\n",
      "hyp: рыхъ нужъ дапъ пишетъ i то вы\n",
      "ref: чтоб мнѣ мое писмо поттвердит\n",
      "hyp: чтоб мнѣ мое писмо поттвердитт\n",
      "ref: жанъ i лутче всякому своей\n",
      "hyp: жанъ i лутче всякому своей\n",
      "ref: зит\n",
      "hyp: зит\n",
      "ref: пѣхотою удержат\n",
      "hyp: пѣхотою удержат\n",
      "ref: нам здес зело докучает аднакож для\n",
      "hyp: нам здес зело до куает аднакож для\n",
      "ref: ет указ не описываяс всту\n",
      "hyp: е указ неопичываяс всту\n",
      "ref: ного и возна в заключе\n",
      "hyp: ного ивозна взакиюче\n",
      "ref: и протчег\n",
      "hyp: i протчег\n",
      "ref: 1\n",
      "hyp: 1\n",
      "ref: хотя за далностию i непърестаными отмѣ\n",
      "hyp: хотя задал ностию i наърестаными отмѣ\n",
      "ref: обявъляю вам что я сюды приѣхал вчерас\n",
      "hyp: обявъляю вам чтоя сюды приѣхал вчелас\n",
      "ref: государственных дѣл положит на въ\n",
      "hyp: государственных дъл паложит на въ\n",
      "ref: заранѣе\n",
      "hyp: заранѣе\n",
      "ref: чтоб нашим людем на островѣ не ос\n",
      "hyp: чтоб нашим людем наостровѣ не ос\n",
      "ref: что мы которой мир i отдачю турком обѣ\n",
      "hyp: что мы которой мир i отдачю турком олѣ\n",
      "ref: долго войскъ держат не можем но\n",
      "hyp: дулго войскъдержат не можеко\n",
      "\n",
      "loss: 10.74292\n",
      "CER: 11.63%, WER: 54.69%\n",
      "loss: best 10.27166 | cur 10.74292\n",
      "==================================================\n",
      "epoch: 13\n"
     ]
    },
    {
     "data": {
      "application/vnd.jupyter.widget-view+json": {
       "model_id": "7ec61a0f958040eca41b04c745b99225",
       "version_major": 2,
       "version_minor": 0
      },
      "text/plain": [
       "HBox(children=(HTML(value=''), FloatProgress(value=0.0, max=285.0), HTML(value='')))"
      ]
     },
     "metadata": {},
     "output_type": "display_data"
    },
    {
     "name": "stdout",
     "output_type": "stream",
     "text": [
      "loss: 2.86810\n",
      "loss: 9.79625\n",
      "loss: 3.73996\n",
      "\n"
     ]
    },
    {
     "data": {
      "application/vnd.jupyter.widget-view+json": {
       "model_id": "53061f335f694bf5a5eba9e5132e1af5",
       "version_major": 2,
       "version_minor": 0
      },
      "text/plain": [
       "HBox(children=(HTML(value=''), FloatProgress(value=0.0, max=21.0), HTML(value='')))"
      ]
     },
     "metadata": {},
     "output_type": "display_data"
    },
    {
     "name": "stdout",
     "output_type": "stream",
     "text": [
      "ref: + но хорошо мужикоф содержите\n",
      "hyp: + \n",
      "ref: i тако пѣхота далее\n",
      "hyp: i тако пѣхоттадалее\n",
      "ref: римут то б хотя шквадру от 7\n",
      "hyp: римут тоб хотя шквадру от7\n",
      "ref: рыхъ нужъдахъ пишетъ i то вы\n",
      "hyp: рылънужеъ дапѣ пишетъ i товы\n",
      "ref: чтоб мнѣ мое писмо поттвердит\n",
      "hyp: чтоб мкѣмое писмо поттвердитт\n",
      "ref: жанъ i лутче всякому своей\n",
      "hyp: жанъ iлутче всякому своей\n",
      "ref: зит\n",
      "hyp: зит\n",
      "ref: пѣхотою удержат\n",
      "hyp: пѣхотою удержат\n",
      "ref: нам здес зело докучает аднакож для\n",
      "hyp: нам здес зело докуает анакож для\n",
      "ref: ет указ не описываяс всту\n",
      "hyp: ет указнеопи[ы саяс всту\n",
      "ref: ного и возна в заключе\n",
      "hyp: ного аворна в запиюче\n",
      "ref: и протчег\n",
      "hyp: i протег\n",
      "ref: 1\n",
      "hyp: 1\n",
      "ref: хотя за далностию i непърестаными отмѣ\n",
      "hyp: хотя задал ностию i нпърестаными отнѣ\n",
      "ref: обявъляю вам что я сюды приѣхал вчерас\n",
      "hyp: обявъляю вам чтто я сюды приѣхал в чеас\n",
      "ref: государственных дѣл положит на въ\n",
      "hyp: государственных дѣл положит на въ\n",
      "ref: заранѣе\n",
      "hyp: заранѣе\n",
      "ref: чтоб нашим людем на островѣ не ос\n",
      "hyp: чтоб нашим людем на островѣ не ос\n",
      "ref: что мы которой мир i отдачю турком обѣ\n",
      "hyp: что мы которой мир i отда чю турком обѣ\n",
      "ref: долго войскъ держат не можем но\n",
      "hyp: долго войскъ держат не можеко\n",
      "\n",
      "loss: 10.15962\n",
      "CER: 10.70%, WER: 51.53%\n",
      "loss: best 10.15962 | cur 10.15962\n",
      "==================================================\n",
      "epoch: 14\n"
     ]
    },
    {
     "data": {
      "application/vnd.jupyter.widget-view+json": {
       "model_id": "b6eb28442a954475a039798113a889b2",
       "version_major": 2,
       "version_minor": 0
      },
      "text/plain": [
       "HBox(children=(HTML(value=''), FloatProgress(value=0.0, max=285.0), HTML(value='')))"
      ]
     },
     "metadata": {},
     "output_type": "display_data"
    },
    {
     "name": "stdout",
     "output_type": "stream",
     "text": [
      "loss: 3.54429\n",
      "loss: 3.09270\n",
      "loss: 5.99617\n",
      "\n"
     ]
    },
    {
     "data": {
      "application/vnd.jupyter.widget-view+json": {
       "model_id": "b2c64206941a4264a7b17640e389056f",
       "version_major": 2,
       "version_minor": 0
      },
      "text/plain": [
       "HBox(children=(HTML(value=''), FloatProgress(value=0.0, max=21.0), HTML(value='')))"
      ]
     },
     "metadata": {},
     "output_type": "display_data"
    },
    {
     "name": "stdout",
     "output_type": "stream",
     "text": [
      "ref: + но хорошо мужикоф содержите\n",
      "hyp: +\n",
      "ref: i тако пѣхота далее\n",
      "hyp: i такопѣхота далее\n",
      "ref: римут то б хотя шквадру от 7\n",
      "hyp: римут тоб хотя шквадру отц\n",
      "ref: рыхъ нужъдахъ пишетъ i то вы\n",
      "hyp: рыхъ нужъдапъ пишетъ i товъ\n",
      "ref: чтоб мнѣ мое писмо поттвердит\n",
      "hyp: чтоб мнѣ мое писмо поттведит\n",
      "ref: жанъ i лутче всякому своей\n",
      "hyp: жанъ i лутче всякому своей\n",
      "ref: зит\n",
      "hyp: зат\n",
      "ref: пѣхотою удержат\n",
      "hyp: пѣхотою удержат\n",
      "ref: нам здес зело докучает аднакож для\n",
      "hyp: нам здес зелодо куает аднакож для\n",
      "ref: ет указ не описываяс всту\n",
      "hyp: ет указ неопи[ы ваяс всту\n",
      "ref: ного и возна в заключе\n",
      "hyp: ного авозна в запиюче\n",
      "ref: и протчег\n",
      "hyp: я протзе\n",
      "ref: 1\n",
      "hyp: 1\n",
      "ref: хотя за далностию i непърестаными отмѣ\n",
      "hyp: хотя задал ностию i наърестаными отнѣ\n",
      "ref: обявъляю вам что я сюды приѣхал вчерас\n",
      "hyp: оббявъляю вѣм чтоя сюды приѣхал в черас\n",
      "ref: государственных дѣл положит на въ\n",
      "hyp: гобударственных дѣл положит но въ\n",
      "ref: заранѣе\n",
      "hyp: заранѣ е\n",
      "ref: чтоб нашим людем на островѣ не ос\n",
      "hyp: чтоб нашим оюдем на островѣ не ос\n",
      "ref: что мы которой мир i отдачю турком обѣ\n",
      "hyp: что мы котороймир i отдачю турком обѣ\n",
      "ref: долго войскъ держат не можем но\n",
      "hyp: долго войскъ держат не можено\n",
      "\n",
      "loss: 10.21947\n",
      "CER: 11.17%, WER: 53.04%\n",
      "loss: best 10.15962 | cur 10.21947\n",
      "==================================================\n",
      "epoch: 15\n"
     ]
    },
    {
     "data": {
      "application/vnd.jupyter.widget-view+json": {
       "model_id": "509679960d9b4672af4eb44b5f4eb211",
       "version_major": 2,
       "version_minor": 0
      },
      "text/plain": [
       "HBox(children=(HTML(value=''), FloatProgress(value=0.0, max=285.0), HTML(value='')))"
      ]
     },
     "metadata": {},
     "output_type": "display_data"
    },
    {
     "name": "stdout",
     "output_type": "stream",
     "text": [
      "loss: 4.77356\n",
      "loss: 3.91532\n",
      "loss: 11.20384\n",
      "\n"
     ]
    },
    {
     "data": {
      "application/vnd.jupyter.widget-view+json": {
       "model_id": "2c0d4d1988804a27ba404c4ad2a19e3b",
       "version_major": 2,
       "version_minor": 0
      },
      "text/plain": [
       "HBox(children=(HTML(value=''), FloatProgress(value=0.0, max=21.0), HTML(value='')))"
      ]
     },
     "metadata": {},
     "output_type": "display_data"
    },
    {
     "name": "stdout",
     "output_type": "stream",
     "text": [
      "ref: + но хорошо мужикоф содержите\n",
      "hyp: + \n",
      "ref: i тако пѣхота далее\n",
      "hyp: iтако пѣхота дале\n",
      "ref: римут то б хотя шквадру от 7\n",
      "hyp: римут тоб хотя шк вадру отц\n",
      "ref: рыхъ нужъдахъ пишетъ i то вы\n",
      "hyp: рыхъ нужъ далхъ пишетъ i то вы\n",
      "ref: чтоб мнѣ мое писмо поттвердит\n",
      "hyp: чтоб мнѣ мое писмо поттвердит\n",
      "ref: жанъ i лутче всякому своей\n",
      "hyp: жанъ i лутче всякому своей\n",
      "ref: зит\n",
      "hyp: зат\n",
      "ref: пѣхотою удержат\n",
      "hyp: пѣхотою удержат\n",
      "ref: нам здес зело докучает аднакож для\n",
      "hyp: нам здес зело дькуает аднакож для\n",
      "ref: ет указ не описываяс всту\n",
      "hyp: е указнеопиы вая с ксту\n",
      "ref: ного и возна в заключе\n",
      "hyp: ного а ворна в занлюче\n",
      "ref: и протчег\n",
      "hyp: i протг\n",
      "ref: 1\n",
      "hyp: 1\n",
      "ref: хотя за далностию i непърестаными отмѣ\n",
      "hyp: хотя задал ностию i наърестанымч отнѣ\n",
      "ref: обявъляю вам что я сюды приѣхал вчерас\n",
      "hyp: обявъляю въм чтья сюды приѣхал в черас\n",
      "ref: государственных дѣл положит на въ\n",
      "hyp: гобударственных дѣл положит навъ\n",
      "ref: заранѣе\n",
      "hyp: заранѣе\n",
      "ref: чтоб нашим людем на островѣ не ос\n",
      "hyp: чтоб нашим людем наостровѣ не о\n",
      "ref: что мы которой мир i отдачю турком обѣ\n",
      "hyp: что мы котороймир i отдачю турком обѣ\n",
      "ref: долго войскъ держат не можем но\n",
      "hyp: догго войскъ держат не можеко\n",
      "\n",
      "loss: 10.23270\n",
      "CER: 10.74%, WER: 51.91%\n",
      "loss: best 10.15962 | cur 10.23270\n",
      "==================================================\n",
      "epoch: 16\n"
     ]
    },
    {
     "data": {
      "application/vnd.jupyter.widget-view+json": {
       "model_id": "efadb10e5ad8457e827f851fb87b292c",
       "version_major": 2,
       "version_minor": 0
      },
      "text/plain": [
       "HBox(children=(HTML(value=''), FloatProgress(value=0.0, max=285.0), HTML(value='')))"
      ]
     },
     "metadata": {},
     "output_type": "display_data"
    },
    {
     "name": "stdout",
     "output_type": "stream",
     "text": [
      "loss: 3.24692\n",
      "loss: 3.87526\n",
      "loss: 5.93246\n",
      "\n"
     ]
    },
    {
     "data": {
      "application/vnd.jupyter.widget-view+json": {
       "model_id": "2512288ec43e4a2ebc15c387334ca169",
       "version_major": 2,
       "version_minor": 0
      },
      "text/plain": [
       "HBox(children=(HTML(value=''), FloatProgress(value=0.0, max=21.0), HTML(value='')))"
      ]
     },
     "metadata": {},
     "output_type": "display_data"
    },
    {
     "name": "stdout",
     "output_type": "stream",
     "text": [
      "ref: + но хорошо мужикоф содержите\n",
      "hyp: +\n",
      "ref: i тако пѣхота далее\n",
      "hyp: i та копѣхотта дале\n",
      "ref: римут то б хотя шквадру от 7\n",
      "hyp: римут тоб хотя шквадру отц\n",
      "ref: рыхъ нужъдахъ пишетъ i то вы\n",
      "hyp: рихъ нужъ дахъ пишетъ i товъ i\n",
      "ref: чтоб мнѣ мое писмо поттвердит\n",
      "hyp: чтоб мнѣ мое писмо поттвердитт\n",
      "ref: жанъ i лутче всякому своей\n",
      "hyp: жанъ i лутче всякому своей\n",
      "ref: зит\n",
      "hyp: зат\n",
      "ref: пѣхотою удержат\n",
      "hyp: пѣхотою удержат\n",
      "ref: нам здес зело докучает аднакож для\n",
      "hyp: нам здес зелодо куает аднакож для\n",
      "ref: ет указ не описываяс всту\n",
      "hyp: ет указнео пиы вая с всту\n",
      "ref: ного и возна в заключе\n",
      "hyp: ного авозна в закиюче\n",
      "ref: и протчег\n",
      "hyp: i протег\n",
      "ref: 1\n",
      "hyp: 1\n",
      "ref: хотя за далностию i непърестаными отмѣ\n",
      "hyp: хотя задалностю i нпърестаными отнѣ\n",
      "ref: обявъляю вам что я сюды приѣхал вчерас\n",
      "hyp: обявъляю вѣм что я бюды приѣхал в черас\n",
      "ref: государственных дѣл положит на въ\n",
      "hyp: говударственных дѣл положит ни въ\n",
      "ref: заранѣе\n",
      "hyp: заранѣ е\n",
      "ref: чтоб нашим людем на островѣ не ос\n",
      "hyp: чтоб нашим людем на островѣ не од\n",
      "ref: что мы которой мир i отдачю турком обѣ\n",
      "hyp: что мы которой мир i отдачю турком обѣ\n",
      "ref: долго войскъ держат не можем но\n",
      "hyp: дул го войскъдержат не може ко\n",
      "\n",
      "loss: 10.79537\n",
      "CER: 11.06%, WER: 52.47%\n",
      "loss: best 10.15962 | cur 10.79537\n",
      "==================================================\n",
      "epoch: 17\n"
     ]
    },
    {
     "data": {
      "application/vnd.jupyter.widget-view+json": {
       "model_id": "1b8eca0299144ebf9ff225bc2fc2775c",
       "version_major": 2,
       "version_minor": 0
      },
      "text/plain": [
       "HBox(children=(HTML(value=''), FloatProgress(value=0.0, max=285.0), HTML(value='')))"
      ]
     },
     "metadata": {},
     "output_type": "display_data"
    },
    {
     "name": "stdout",
     "output_type": "stream",
     "text": [
      "loss: 7.39820\n",
      "loss: 2.82627\n",
      "loss: 5.42342\n",
      "\n"
     ]
    },
    {
     "data": {
      "application/vnd.jupyter.widget-view+json": {
       "model_id": "c2e6ca7b33424f51b3d586eba4c7b8b8",
       "version_major": 2,
       "version_minor": 0
      },
      "text/plain": [
       "HBox(children=(HTML(value=''), FloatProgress(value=0.0, max=21.0), HTML(value='')))"
      ]
     },
     "metadata": {},
     "output_type": "display_data"
    },
    {
     "name": "stdout",
     "output_type": "stream",
     "text": [
      "ref: + но хорошо мужикоф содержите\n",
      "hyp: о \n",
      "ref: i тако пѣхота далее\n",
      "hyp: i такопѣхоттадале\n",
      "ref: римут то б хотя шквадру от 7\n",
      "hyp: римут тоб хотя шк вадру отц\n",
      "ref: рыхъ нужъдахъ пишетъ i то вы\n",
      "hyp: рыхъ нужъ дахъ пишетъ i товъi\n",
      "ref: чтоб мнѣ мое писмо поттвердит\n",
      "hyp: чтоб мнѣ мое писмо поттвердит\n",
      "ref: жанъ i лутче всякому своей\n",
      "hyp: жанъ i лутче всякому своей\n",
      "ref: зит\n",
      "hyp: зит\n",
      "ref: пѣхотою удержат\n",
      "hyp: пѣхотою удержат\n",
      "ref: нам здес зело докучает аднакож для\n",
      "hyp: нам здес зело до куает анакождля\n",
      "ref: ет указ не описываяс всту\n",
      "hyp: е указне опиы ваяс всту\n",
      "ref: ного и возна в заключе\n",
      "hyp: ного а возна в закнюче\n",
      "ref: и протчег\n",
      "hyp: i арот\n",
      "ref: 1\n",
      "hyp: 1\n",
      "ref: хотя за далностию i непърестаными отмѣ\n",
      "hyp: хотя задал ностю i нпъ рестаными отнѣ\n",
      "ref: обявъляю вам что я сюды приѣхал вчерас\n",
      "hyp: обявъляю вам что я сюды приѣхал в черас\n",
      "ref: государственных дѣл положит на въ\n",
      "hyp: побударственных дѣл положит но въ\n",
      "ref: заранѣе\n",
      "hyp: заранѣе\n",
      "ref: чтоб нашим людем на островѣ не ос\n",
      "hyp: чтоб нашим людем наостровѣ не ос\n",
      "ref: что мы которой мир i отдачю турком обѣ\n",
      "hyp: что мы которой мир i отдачю турком обѣ\n",
      "ref: долго войскъ держат не можем но\n",
      "hyp: досго войскъдержат не можеко\n",
      "\n",
      "loss: 10.31333\n",
      "CER: 10.35%, WER: 49.93%\n",
      "loss: best 10.15962 | cur 10.31333\n",
      "==================================================\n",
      "epoch: 18\n"
     ]
    },
    {
     "data": {
      "application/vnd.jupyter.widget-view+json": {
       "model_id": "e450352a32ab4e6db63dc1ac7f63e099",
       "version_major": 2,
       "version_minor": 0
      },
      "text/plain": [
       "HBox(children=(HTML(value=''), FloatProgress(value=0.0, max=285.0), HTML(value='')))"
      ]
     },
     "metadata": {},
     "output_type": "display_data"
    },
    {
     "name": "stdout",
     "output_type": "stream",
     "text": [
      "loss: 11.46014\n",
      "loss: 5.08525\n",
      "loss: 3.83818\n",
      "\n"
     ]
    },
    {
     "data": {
      "application/vnd.jupyter.widget-view+json": {
       "model_id": "ab06eabb1f334fb0ab550492a89f0c11",
       "version_major": 2,
       "version_minor": 0
      },
      "text/plain": [
       "HBox(children=(HTML(value=''), FloatProgress(value=0.0, max=21.0), HTML(value='')))"
      ]
     },
     "metadata": {},
     "output_type": "display_data"
    },
    {
     "name": "stdout",
     "output_type": "stream",
     "text": [
      "ref: + но хорошо мужикоф содержите\n",
      "hyp: + \n",
      "ref: i тако пѣхота далее\n",
      "hyp: iтакопѣхота дале\n",
      "ref: римут то б хотя шквадру от 7\n",
      "hyp: римут то б хотя шк вадру отц\n",
      "ref: рыхъ нужъдахъ пишетъ i то вы\n",
      "hyp: рыхъ нужоъ дахопишетъ i товы\n",
      "ref: чтоб мнѣ мое писмо поттвердит\n",
      "hyp: чтоб мнѣ мое писмо поттвердиттт\n",
      "ref: жанъ i лутче всякому своей\n",
      "hyp: жанъ i лутче всякому своей\n",
      "ref: зит\n",
      "hyp: зат\n",
      "ref: пѣхотою удержат\n",
      "hyp: пѣхотою удержат\n",
      "ref: нам здес зело докучает аднакож для\n",
      "hyp: нам чдес зело до кущает аднакож для\n",
      "ref: ет указ не описываяс всту\n",
      "hyp: ет указне опичы вая с всту\n",
      "ref: ного и возна в заключе\n",
      "hyp: ного а возна в за пиюче\n",
      "ref: и протчег\n",
      "hyp: i протзег\n",
      "ref: 1\n",
      "hyp: 1\n",
      "ref: хотя за далностию i непърестаными отмѣ\n",
      "hyp: хотя задалностию i нпъ рестаными отнѣ\n",
      "ref: обявъляю вам что я сюды приѣхал вчерас\n",
      "hyp: обявъляю вом что я сюды приѣхал в черас\n",
      "ref: государственных дѣл положит на въ\n",
      "hyp: говударственных дѣл положит на въ\n",
      "ref: заранѣе\n",
      "hyp: заранѣе\n",
      "ref: чтоб нашим людем на островѣ не ос\n",
      "hyp: чтоб нашим людем на островѣ не ос\n",
      "ref: что мы которой мир i отдачю турком обѣ\n",
      "hyp: что мы которой мир i отдачю турком обѣ\n",
      "ref: долго войскъ держат не можем но\n",
      "hyp: дуслго войскъ держат не можено\n",
      "\n",
      "loss: 10.17955\n",
      "CER: 9.98%, WER: 48.80%\n",
      "loss: best 10.15962 | cur 10.17955\n",
      "==================================================\n",
      "epoch: 19\n"
     ]
    },
    {
     "data": {
      "application/vnd.jupyter.widget-view+json": {
       "model_id": "09aeee3b9e4b44dda53a107e46096577",
       "version_major": 2,
       "version_minor": 0
      },
      "text/plain": [
       "HBox(children=(HTML(value=''), FloatProgress(value=0.0, max=285.0), HTML(value='')))"
      ]
     },
     "metadata": {},
     "output_type": "display_data"
    },
    {
     "name": "stdout",
     "output_type": "stream",
     "text": [
      "loss: 1.84441\n",
      "loss: 3.26517\n",
      "loss: 3.74127\n",
      "\n"
     ]
    },
    {
     "data": {
      "application/vnd.jupyter.widget-view+json": {
       "model_id": "a135e911da564f04bbd2d495409f4709",
       "version_major": 2,
       "version_minor": 0
      },
      "text/plain": [
       "HBox(children=(HTML(value=''), FloatProgress(value=0.0, max=21.0), HTML(value='')))"
      ]
     },
     "metadata": {},
     "output_type": "display_data"
    },
    {
     "name": "stdout",
     "output_type": "stream",
     "text": [
      "ref: + но хорошо мужикоф содержите\n",
      "hyp: + \n",
      "ref: i тако пѣхота далее\n",
      "hyp: iта копѣхота дале\n",
      "ref: римут то б хотя шквадру от 7\n",
      "hyp: римут тоб хотя шк вадру от7\n",
      "ref: рыхъ нужъдахъ пишетъ i то вы\n",
      "hyp: рылъ нужъ дахѣ пишеть i то вы\n",
      "ref: чтоб мнѣ мое писмо поттвердит\n",
      "hyp: чтоб мнѣ мое писмо поттвердит\n",
      "ref: жанъ i лутче всякому своей\n",
      "hyp: жанъ i лутче всякому своей\n",
      "ref: зит\n",
      "hyp: зат\n",
      "ref: пѣхотою удержат\n",
      "hyp: пѣхотою удержат\n",
      "ref: нам здес зело докучает аднакож для\n",
      "hyp: нам здес зело до куает аднакождля\n",
      "ref: ет указ не описываяс всту\n",
      "hyp: ет указ не опиы влая с всту\n",
      "ref: ного и возна в заключе\n",
      "hyp: ного к вѣзна в заключе\n",
      "ref: и протчег\n",
      "hyp: i протег\n",
      "ref: 1\n",
      "hyp: 1\n",
      "ref: хотя за далностию i непърестаными отмѣ\n",
      "hyp: хотя задалностию i нпрестаными отнѣ\n",
      "ref: обявъляю вам что я сюды приѣхал вчерас\n",
      "hyp: обявъляю вѣм чттья сюды приѣхал в черас\n",
      "ref: государственных дѣл положит на въ\n",
      "hyp: гобударственных дѣл положит на въ\n",
      "ref: заранѣе\n",
      "hyp: заранѣе\n",
      "ref: чтоб нашим людем на островѣ не ос\n",
      "hyp: чтоб нашим людем на островѣ не ос\n",
      "ref: что мы которой мир i отдачю турком обѣ\n",
      "hyp: что мы которой мир i отдачю турком обѣ\n",
      "ref: долго войскъ держат не можем но\n",
      "hyp: догго войскъ держат не можемко\n",
      "\n",
      "loss: 10.19439\n",
      "CER: 10.05%, WER: 49.88%\n",
      "Epoch    19: reducing learning rate of group 0 to 7.0000e-04.\n",
      "loss: best 10.15962 | cur 10.19439\n",
      "==================================================\n",
      "epoch: 20\n"
     ]
    },
    {
     "data": {
      "application/vnd.jupyter.widget-view+json": {
       "model_id": "4840802da4b4406988b45ef7f66d82f0",
       "version_major": 2,
       "version_minor": 0
      },
      "text/plain": [
       "HBox(children=(HTML(value=''), FloatProgress(value=0.0, max=285.0), HTML(value='')))"
      ]
     },
     "metadata": {},
     "output_type": "display_data"
    },
    {
     "name": "stdout",
     "output_type": "stream",
     "text": [
      "loss: 3.49684\n",
      "loss: 8.24225\n",
      "loss: 1.71354\n",
      "\n"
     ]
    },
    {
     "data": {
      "application/vnd.jupyter.widget-view+json": {
       "model_id": "09a0dbe359054056aa73e3b69ac4c622",
       "version_major": 2,
       "version_minor": 0
      },
      "text/plain": [
       "HBox(children=(HTML(value=''), FloatProgress(value=0.0, max=21.0), HTML(value='')))"
      ]
     },
     "metadata": {},
     "output_type": "display_data"
    },
    {
     "name": "stdout",
     "output_type": "stream",
     "text": [
      "ref: + но хорошо мужикоф содержите\n",
      "hyp: + \n",
      "ref: i тако пѣхота далее\n",
      "hyp: iтакопѣхота дале\n",
      "ref: римут то б хотя шквадру от 7\n",
      "hyp: римут то б хотя шквадру отц\n",
      "ref: рыхъ нужъдахъ пишетъ i то вы\n",
      "hyp: рыхъ нужъ дахѣ пишетъ i товы\n",
      "ref: чтоб мнѣ мое писмо поттвердит\n",
      "hyp: чтоб мнѣ мое писмо пот твердит\n",
      "ref: жанъ i лутче всякому своей\n",
      "hyp: жанъ i лутче всякому своей\n",
      "ref: зит\n",
      "hyp: зит\n",
      "ref: пѣхотою удержат\n",
      "hyp: пѣхотою удержат\n",
      "ref: нам здес зело докучает аднакож для\n",
      "hyp: нам здес зело до куает аднакож для\n",
      "ref: ет указ не описываяс всту\n",
      "hyp: ет указнеопиы ваяс всту\n",
      "ref: ного и возна в заключе\n",
      "hyp: ного а возна в заключе\n",
      "ref: и протчег\n",
      "hyp: i протзег\n",
      "ref: 1\n",
      "hyp: 1\n",
      "ref: хотя за далностию i непърестаными отмѣ\n",
      "hyp: хотя задал ностию i наърестаны ми отнѣ\n",
      "ref: обявъляю вам что я сюды приѣхал вчерас\n",
      "hyp: обявъляю вом чтоя сюды приѣхал в черас\n",
      "ref: государственных дѣл положит на въ\n",
      "hyp: государственных дѣл положит новъ\n",
      "ref: заранѣе\n",
      "hyp: заранѣе\n",
      "ref: чтоб нашим людем на островѣ не ос\n",
      "hyp: чтоб нашим людем наостровѣ не ос\n",
      "ref: что мы которой мир i отдачю турком обѣ\n",
      "hyp: что мы которой мир i отдачю турком обѣ\n",
      "ref: долго войскъ держат не можем но\n",
      "hyp: дулго войскъдержат не можеко\n",
      "\n",
      "loss: 9.93346\n",
      "CER: 9.31%, WER: 45.69%\n",
      "loss: best 9.93346 | cur 9.93346\n",
      "==================================================\n",
      "epoch: 21\n"
     ]
    },
    {
     "data": {
      "application/vnd.jupyter.widget-view+json": {
       "model_id": "afe83e4c17b8468c996e4cf61fa5f25d",
       "version_major": 2,
       "version_minor": 0
      },
      "text/plain": [
       "HBox(children=(HTML(value=''), FloatProgress(value=0.0, max=285.0), HTML(value='')))"
      ]
     },
     "metadata": {},
     "output_type": "display_data"
    },
    {
     "name": "stdout",
     "output_type": "stream",
     "text": [
      "loss: 1.26905\n",
      "loss: 1.11911\n",
      "loss: 7.65961\n",
      "\n"
     ]
    },
    {
     "data": {
      "application/vnd.jupyter.widget-view+json": {
       "model_id": "faaf19551689463fa0c1edb7cbb23df5",
       "version_major": 2,
       "version_minor": 0
      },
      "text/plain": [
       "HBox(children=(HTML(value=''), FloatProgress(value=0.0, max=21.0), HTML(value='')))"
      ]
     },
     "metadata": {},
     "output_type": "display_data"
    },
    {
     "name": "stdout",
     "output_type": "stream",
     "text": [
      "ref: + но хорошо мужикоф содержите\n",
      "hyp: + \n",
      "ref: i тако пѣхота далее\n",
      "hyp: i тако пѣхотта дале\n",
      "ref: римут то б хотя шквадру от 7\n",
      "hyp: римут тоб хотя шквадру отц\n",
      "ref: рыхъ нужъдахъ пишетъ i то вы\n",
      "hyp: рыхъ нужъ дахъ пишетъ i товъы\n",
      "ref: чтоб мнѣ мое писмо поттвердит\n",
      "hyp: чтоб мнѣ мое писмо поттвердитт\n",
      "ref: жанъ i лутче всякому своей\n",
      "hyp: жанъ i лутче всякому своей\n",
      "ref: зит\n",
      "hyp: зит\n",
      "ref: пѣхотою удержат\n",
      "hyp: пѣхотою удержат\n",
      "ref: нам здес зело докучает аднакож для\n",
      "hyp: нам здес зело докуает аднакож для\n",
      "ref: ет указ не описываяс всту\n",
      "hyp: ет указнеопиы влаяс всту\n",
      "ref: ного и возна в заключе\n",
      "hyp: ного а возна в заключе\n",
      "ref: и протчег\n",
      "hyp: i протзе\n",
      "ref: 1\n",
      "hyp: 1\n",
      "ref: хотя за далностию i непърестаными отмѣ\n",
      "hyp: хотя задалностию i наърестаными отнѣ\n",
      "ref: обявъляю вам что я сюды приѣхал вчерас\n",
      "hyp: обявъляювам что я сюды приѣхал в челас\n",
      "ref: государственных дѣл положит на въ\n",
      "hyp: говударственных дѣл положит на въ\n",
      "ref: заранѣе\n",
      "hyp: заранѣе\n",
      "ref: чтоб нашим людем на островѣ не ос\n",
      "hyp: чтоб нашим людем наостровѣ не ос\n",
      "ref: что мы которой мир i отдачю турком обѣ\n",
      "hyp: что мы котороймир i отдачю турком обѣ\n",
      "ref: долго войскъ держат не можем но\n",
      "hyp: долго войскъдержат не можеко\n",
      "\n",
      "loss: 10.17782\n",
      "CER: 9.53%, WER: 47.76%\n",
      "loss: best 9.93346 | cur 10.17782\n",
      "==================================================\n",
      "epoch: 22\n"
     ]
    },
    {
     "data": {
      "application/vnd.jupyter.widget-view+json": {
       "model_id": "86134da08b554445be414719d1f12a29",
       "version_major": 2,
       "version_minor": 0
      },
      "text/plain": [
       "HBox(children=(HTML(value=''), FloatProgress(value=0.0, max=285.0), HTML(value='')))"
      ]
     },
     "metadata": {},
     "output_type": "display_data"
    },
    {
     "name": "stdout",
     "output_type": "stream",
     "text": [
      "loss: 7.85358\n",
      "loss: 2.25797\n",
      "loss: 4.38497\n",
      "\n"
     ]
    },
    {
     "data": {
      "application/vnd.jupyter.widget-view+json": {
       "model_id": "0e23438daac64ddfa5112c964d2ef5cf",
       "version_major": 2,
       "version_minor": 0
      },
      "text/plain": [
       "HBox(children=(HTML(value=''), FloatProgress(value=0.0, max=21.0), HTML(value='')))"
      ]
     },
     "metadata": {},
     "output_type": "display_data"
    },
    {
     "name": "stdout",
     "output_type": "stream",
     "text": [
      "ref: + но хорошо мужикоф содержите\n",
      "hyp: + \n",
      "ref: i тако пѣхота далее\n",
      "hyp: i такопѣхота дале\n",
      "ref: римут то б хотя шквадру от 7\n",
      "hyp: римут тоб хотя шквадру от7\n",
      "ref: рыхъ нужъдахъ пишетъ i то вы\n",
      "hyp: рыхъ нужъ дапо пишетъ i товыі\n",
      "ref: чтоб мнѣ мое писмо поттвердит\n",
      "hyp: чтоб мнѣ мое писмо поттвердитт\n",
      "ref: жанъ i лутче всякому своей\n",
      "hyp: жанъ i лутче всякому своей\n",
      "ref: зит\n",
      "hyp: зит\n",
      "ref: пѣхотою удержат\n",
      "hyp: пѣхотою удержат\n",
      "ref: нам здес зело докучает аднакож для\n",
      "hyp: нам здес зело докуает аднакож для\n",
      "ref: ет указ не описываяс всту\n",
      "hyp: ет указ не опиы влаяс всту\n",
      "ref: ного и возна в заключе\n",
      "hyp: ного авозна в закнюче\n",
      "ref: и протчег\n",
      "hyp: i прот\n",
      "ref: 1\n",
      "hyp: 1\n",
      "ref: хотя за далностию i непърестаными отмѣ\n",
      "hyp: хотя задал ностию i нпърестаны ми отнѣ\n",
      "ref: обявъляю вам что я сюды приѣхал вчерас\n",
      "hyp: обявъляювам что я сюды приѣхал в черас\n",
      "ref: государственных дѣл положит на въ\n",
      "hyp: государственных дѣл положит навъ\n",
      "ref: заранѣе\n",
      "hyp: заранѣе\n",
      "ref: чтоб нашим людем на островѣ не ос\n",
      "hyp: чтоб нашим людем на островѣ не ос\n",
      "ref: что мы которой мир i отдачю турком обѣ\n",
      "hyp: что мы которой мир i отдачю турком осѣ\n",
      "ref: долго войскъ держат не можем но\n",
      "hyp: долго войскъ держат не можеко\n",
      "\n",
      "loss: 10.51647\n",
      "CER: 9.80%, WER: 47.24%\n",
      "loss: best 9.93346 | cur 10.51647\n",
      "==================================================\n",
      "epoch: 23\n"
     ]
    },
    {
     "data": {
      "application/vnd.jupyter.widget-view+json": {
       "model_id": "c6b9ef9c61364ebd8649b28bff15472f",
       "version_major": 2,
       "version_minor": 0
      },
      "text/plain": [
       "HBox(children=(HTML(value=''), FloatProgress(value=0.0, max=285.0), HTML(value='')))"
      ]
     },
     "metadata": {},
     "output_type": "display_data"
    },
    {
     "name": "stdout",
     "output_type": "stream",
     "text": [
      "loss: 1.11559\n",
      "loss: 0.85262\n",
      "loss: 2.55230\n",
      "\n"
     ]
    },
    {
     "data": {
      "application/vnd.jupyter.widget-view+json": {
       "model_id": "02f62bfb2a77461185cc4a3676468aa3",
       "version_major": 2,
       "version_minor": 0
      },
      "text/plain": [
       "HBox(children=(HTML(value=''), FloatProgress(value=0.0, max=21.0), HTML(value='')))"
      ]
     },
     "metadata": {},
     "output_type": "display_data"
    },
    {
     "name": "stdout",
     "output_type": "stream",
     "text": [
      "ref: + но хорошо мужикоф содержите\n",
      "hyp: + \n",
      "ref: i тако пѣхота далее\n",
      "hyp: iта ко пѣхота дале\n",
      "ref: римут то б хотя шквадру от 7\n",
      "hyp: римут то б хотя шква дру от7\n",
      "ref: рыхъ нужъдахъ пишетъ i то вы\n",
      "hyp: рыхъ ну жъ дахо пишетъ i то выi\n",
      "ref: чтоб мнѣ мое писмо поттвердит\n",
      "hyp: чтоб мнѣ мое писмо поттвердит\n",
      "ref: жанъ i лутче всякому своей\n",
      "hyp: жанъ i лутче всякому своей\n",
      "ref: зит\n",
      "hyp: зит\n",
      "ref: пѣхотою удержат\n",
      "hyp: пѣхотою удержат\n",
      "ref: нам здес зело докучает аднакож для\n",
      "hyp: нам здес зело докуает аднакож для\n",
      "ref: ет указ не описываяс всту\n",
      "hyp: ет указнеопиывлаяс всту\n",
      "ref: ного и возна в заключе\n",
      "hyp: ного а возна в заключе\n",
      "ref: и протчег\n",
      "hyp: i протзег\n",
      "ref: 1\n",
      "hyp: 1\n",
      "ref: хотя за далностию i непърестаными отмѣ\n",
      "hyp: хотя задалностию i нпърестаными отнѣ\n",
      "ref: обявъляю вам что я сюды приѣхал вчерас\n",
      "hyp: обявъляю вѣм что я сюды приѣхал в черас\n",
      "ref: государственных дѣл положит на въ\n",
      "hyp: государственных дѣл положит на въ\n",
      "ref: заранѣе\n",
      "hyp: заранѣе\n",
      "ref: чтоб нашим людем на островѣ не ос\n",
      "hyp: чтоб нашим людем на островѣ не ос\n",
      "ref: что мы которой мир i отдачю турком обѣ\n",
      "hyp: что мы которой мир i отда чю турком обѣ\n",
      "ref: долго войскъ держат не можем но\n",
      "hyp: дослго войскъ держат не можемно\n",
      "\n",
      "loss: 10.61367\n",
      "CER: 9.52%, WER: 46.91%\n",
      "loss: best 9.93346 | cur 10.61367\n",
      "==================================================\n",
      "epoch: 24\n"
     ]
    },
    {
     "data": {
      "application/vnd.jupyter.widget-view+json": {
       "model_id": "24443de945ef4aa09022262a7598d4ef",
       "version_major": 2,
       "version_minor": 0
      },
      "text/plain": [
       "HBox(children=(HTML(value=''), FloatProgress(value=0.0, max=285.0), HTML(value='')))"
      ]
     },
     "metadata": {},
     "output_type": "display_data"
    },
    {
     "name": "stdout",
     "output_type": "stream",
     "text": [
      "loss: 2.12099\n",
      "loss: 1.27306\n",
      "loss: 2.70405\n",
      "\n"
     ]
    },
    {
     "data": {
      "application/vnd.jupyter.widget-view+json": {
       "model_id": "a0e279d9eab14387bdaac8333160f594",
       "version_major": 2,
       "version_minor": 0
      },
      "text/plain": [
       "HBox(children=(HTML(value=''), FloatProgress(value=0.0, max=21.0), HTML(value='')))"
      ]
     },
     "metadata": {},
     "output_type": "display_data"
    },
    {
     "name": "stdout",
     "output_type": "stream",
     "text": [
      "ref: + но хорошо мужикоф содержите\n",
      "hyp: + \n",
      "ref: i тако пѣхота далее\n",
      "hyp: i такопѣхтта дале\n",
      "ref: римут то б хотя шквадру от 7\n",
      "hyp: римут тоб хотя шквадру отц\n",
      "ref: рыхъ нужъдахъ пишетъ i то вы\n",
      "hyp: рыхъ нуъ дахо пишетъ i товы\n",
      "ref: чтоб мнѣ мое писмо поттвердит\n",
      "hyp: чтоб мнѣ мое писмо поттвердит\n",
      "ref: жанъ i лутче всякому своей\n",
      "hyp: жанъ i лутче всякому своей\n",
      "ref: зит\n",
      "hyp: зат\n",
      "ref: пѣхотою удержат\n",
      "hyp: пѣхотою удержат\n",
      "ref: нам здес зело докучает аднакож для\n",
      "hyp: нам здес зело до куает аднакож для\n",
      "ref: ет указ не описываяс всту\n",
      "hyp: ет указ неопиы влая с всту\n",
      "ref: ного и возна в заключе\n",
      "hyp: ного а возна взаключе\n",
      "ref: и протчег\n",
      "hyp: i протзег\n",
      "ref: 1\n",
      "hyp: 1\n",
      "ref: хотя за далностию i непърестаными отмѣ\n",
      "hyp: хотя задалностию i непърестаны ми отнѣ\n",
      "ref: обявъляю вам что я сюды приѣхал вчерас\n",
      "hyp: обявъляю вам чтть я сюды приѣхал вчерас\n",
      "ref: государственных дѣл положит на въ\n",
      "hyp: говударственных дѣл положит навъ\n",
      "ref: заранѣе\n",
      "hyp: заранѣе\n",
      "ref: чтоб нашим людем на островѣ не ос\n",
      "hyp: чтоб нашим людем на островѣ нен ос\n",
      "ref: что мы которой мир i отдачю турком обѣ\n",
      "hyp: что мы которой мир i отдачю турком обѣ\n",
      "ref: долго войскъ держат не можем но\n",
      "hyp: долго войскъ держат не може но\n",
      "\n",
      "loss: 10.79522\n",
      "CER: 9.29%, WER: 45.64%\n",
      "loss: best 9.93346 | cur 10.79522\n",
      "==================================================\n",
      "epoch: 25\n"
     ]
    },
    {
     "data": {
      "application/vnd.jupyter.widget-view+json": {
       "model_id": "3bab3f199d0c4444a064d659b11795df",
       "version_major": 2,
       "version_minor": 0
      },
      "text/plain": [
       "HBox(children=(HTML(value=''), FloatProgress(value=0.0, max=285.0), HTML(value='')))"
      ]
     },
     "metadata": {},
     "output_type": "display_data"
    },
    {
     "name": "stdout",
     "output_type": "stream",
     "text": [
      "loss: 1.09473\n",
      "loss: 7.06062\n",
      "loss: 7.82104\n",
      "\n"
     ]
    },
    {
     "data": {
      "application/vnd.jupyter.widget-view+json": {
       "model_id": "2f51c5e7b85346ea916607c6d85a8cbf",
       "version_major": 2,
       "version_minor": 0
      },
      "text/plain": [
       "HBox(children=(HTML(value=''), FloatProgress(value=0.0, max=21.0), HTML(value='')))"
      ]
     },
     "metadata": {},
     "output_type": "display_data"
    },
    {
     "name": "stdout",
     "output_type": "stream",
     "text": [
      "ref: + но хорошо мужикоф содержите\n",
      "hyp:  \n",
      "ref: i тако пѣхота далее\n",
      "hyp: i такопѣхота далее\n",
      "ref: римут то б хотя шквадру от 7\n",
      "hyp: римут тоб хотяшквадру отц7\n",
      "ref: рыхъ нужъдахъ пишетъ i то вы\n",
      "hyp: рыхъ нужъ далъ пишетъ i то въi\n",
      "ref: чтоб мнѣ мое писмо поттвердит\n",
      "hyp: чтоб мнѣ мое писмо поттвердитт\n",
      "ref: жанъ i лутче всякому своей\n",
      "hyp: жанъ i лутче всякому своей\n",
      "ref: зит\n",
      "hyp: зат\n",
      "ref: пѣхотою удержат\n",
      "hyp: пѣхотою удержат\n",
      "ref: нам здес зело докучает аднакож для\n",
      "hyp: нам здес зело до кущает аднакождля\n",
      "ref: ет указ не описываяс всту\n",
      "hyp: ет указнеопиываяс всту\n",
      "ref: ного и возна в заключе\n",
      "hyp: ного а возна в заключе\n",
      "ref: и протчег\n",
      "hyp: i протзг\n",
      "ref: 1\n",
      "hyp: 1\n",
      "ref: хотя за далностию i непърестаными отмѣ\n",
      "hyp: хотязадал ностию i нпърестаны ми отнѣ\n",
      "ref: обявъляю вам что я сюды приѣхал вчерас\n",
      "hyp: обявъляювѣм чть я сюды приѣхал вчерас\n",
      "ref: государственных дѣл положит на въ\n",
      "hyp: говударственных дѣл положит на въ\n",
      "ref: заранѣе\n",
      "hyp: заранѣе\n",
      "ref: чтоб нашим людем на островѣ не ос\n",
      "hyp: чтоб нашим людем на островѣне ос\n",
      "ref: что мы которой мир i отдачю турком обѣ\n",
      "hyp: что мы которой мир i отдачю турком осѣ\n",
      "ref: долго войскъ держат не можем но\n",
      "hyp: долго войскъ держат не можено\n",
      "\n",
      "loss: 10.81482\n",
      "CER: 9.36%, WER: 45.27%\n",
      "loss: best 9.93346 | cur 10.81482\n",
      "==================================================\n",
      "epoch: 26\n"
     ]
    },
    {
     "data": {
      "application/vnd.jupyter.widget-view+json": {
       "model_id": "f19decb19415479eb7cb7113df1a64f1",
       "version_major": 2,
       "version_minor": 0
      },
      "text/plain": [
       "HBox(children=(HTML(value=''), FloatProgress(value=0.0, max=285.0), HTML(value='')))"
      ]
     },
     "metadata": {},
     "output_type": "display_data"
    },
    {
     "name": "stdout",
     "output_type": "stream",
     "text": [
      "loss: 1.41487\n",
      "loss: 1.00458\n",
      "loss: 3.65977\n",
      "\n"
     ]
    },
    {
     "data": {
      "application/vnd.jupyter.widget-view+json": {
       "model_id": "7949567aaa93439d856f62d3dd0a441b",
       "version_major": 2,
       "version_minor": 0
      },
      "text/plain": [
       "HBox(children=(HTML(value=''), FloatProgress(value=0.0, max=21.0), HTML(value='')))"
      ]
     },
     "metadata": {},
     "output_type": "display_data"
    },
    {
     "name": "stdout",
     "output_type": "stream",
     "text": [
      "ref: + но хорошо мужикоф содержите\n",
      "hyp: + \n",
      "ref: i тако пѣхота далее\n",
      "hyp: iтакопѣхта дале\n",
      "ref: римут то б хотя шквадру от 7\n",
      "hyp: римут то б хотя шквадру от7\n",
      "ref: рыхъ нужъдахъ пишетъ i то вы\n",
      "hyp: рыхъ ну жъ дапхъ пишетъ i товъ i\n",
      "ref: чтоб мнѣ мое писмо поттвердит\n",
      "hyp: чтоб мнѣ мое писмо поттвердит\n",
      "ref: жанъ i лутче всякому своей\n",
      "hyp: жанъ i лутче всякому своей\n",
      "ref: зит\n",
      "hyp: зат\n",
      "ref: пѣхотою удержат\n",
      "hyp: пѣхотою удержат\n",
      "ref: нам здес зело докучает аднакож для\n",
      "hyp: нам здес зело до куает адднакож для\n",
      "ref: ет указ не описываяс всту\n",
      "hyp: ет указнеопиы влаяс всту\n",
      "ref: ного и возна в заключе\n",
      "hyp: ного а возна в закиюче\n",
      "ref: и протчег\n",
      "hyp: i протчег\n",
      "ref: 1\n",
      "hyp: 1\n",
      "ref: хотя за далностию i непърестаными отмѣ\n",
      "hyp: хотя задал ностию i наърестаны ми отнѣ\n",
      "ref: обявъляю вам что я сюды приѣхал вчерас\n",
      "hyp: обявъляю вѣм чть я сюды приѣхал в челас\n",
      "ref: государственных дѣл положит на въ\n",
      "hyp: говударственных дѣл положит на въ\n",
      "ref: заранѣе\n",
      "hyp: заранѣе\n",
      "ref: чтоб нашим людем на островѣ не ос\n",
      "hyp: чтоб нашим людем наостровѣ не ос\n",
      "ref: что мы которой мир i отдачю турком обѣ\n",
      "hyp: что мы которой мир i отдачю турком обѣ\n",
      "ref: долго войскъ держат не можем но\n",
      "hyp: долго войскъ держат не може ко\n",
      "\n",
      "loss: 10.79803\n",
      "CER: 9.37%, WER: 45.83%\n",
      "Epoch    26: reducing learning rate of group 0 to 4.9000e-04.\n",
      "loss: best 9.93346 | cur 10.79803\n",
      "==================================================\n",
      "epoch: 27\n"
     ]
    },
    {
     "data": {
      "application/vnd.jupyter.widget-view+json": {
       "model_id": "5f9509dcca054d3a9b8c406b22019de5",
       "version_major": 2,
       "version_minor": 0
      },
      "text/plain": [
       "HBox(children=(HTML(value=''), FloatProgress(value=0.0, max=285.0), HTML(value='')))"
      ]
     },
     "metadata": {},
     "output_type": "display_data"
    },
    {
     "name": "stdout",
     "output_type": "stream",
     "text": [
      "loss: 0.71958\n",
      "loss: 0.54880\n",
      "loss: 0.69118\n",
      "\n"
     ]
    },
    {
     "data": {
      "application/vnd.jupyter.widget-view+json": {
       "model_id": "437118b77b4d43f69bbe2cc9f6d3e9b7",
       "version_major": 2,
       "version_minor": 0
      },
      "text/plain": [
       "HBox(children=(HTML(value=''), FloatProgress(value=0.0, max=21.0), HTML(value='')))"
      ]
     },
     "metadata": {},
     "output_type": "display_data"
    },
    {
     "name": "stdout",
     "output_type": "stream",
     "text": [
      "ref: + но хорошо мужикоф содержите\n",
      "hyp: i+ \n",
      "ref: i тако пѣхота далее\n",
      "hyp: i тако пѣхота дале\n",
      "ref: римут то б хотя шквадру от 7\n",
      "hyp: римут то б хотя шква дру от7\n",
      "ref: рыхъ нужъдахъ пишетъ i то вы\n",
      "hyp: рыхъ нужъ дахо пишетъ i тово i\n",
      "ref: чтоб мнѣ мое писмо поттвердит\n",
      "hyp: чтоб мнѣ мое писмо поттвердит\n",
      "ref: жанъ i лутче всякому своей\n",
      "hyp: жанъ i лутче всякому своей\n",
      "ref: зит\n",
      "hyp: зиат\n",
      "ref: пѣхотою удержат\n",
      "hyp: пѣхотою удержат\n",
      "ref: нам здес зело докучает аднакож для\n",
      "hyp: нам здес зело до куает аднакож для\n",
      "ref: ет указ не описываяс всту\n",
      "hyp: ет указнеопиы влаяс всту\n",
      "ref: ного и возна в заключе\n",
      "hyp: ного а возна в заключе\n",
      "ref: и протчег\n",
      "hyp: i протзег\n",
      "ref: 1\n",
      "hyp: 1\n",
      "ref: хотя за далностию i непърестаными отмѣ\n",
      "hyp: хотя задал ностию i наърестаны ми отнѣ\n",
      "ref: обявъляю вам что я сюды приѣхал вчерас\n",
      "hyp: обявъляю вѣм что я сюды приѣхал в челас\n",
      "ref: государственных дѣл положит на въ\n",
      "hyp: государственных дѣл положит на въ\n",
      "ref: заранѣе\n",
      "hyp: заранѣе\n",
      "ref: чтоб нашим людем на островѣ не ос\n",
      "hyp: чтоб нашим людем на островѣ не ос\n",
      "ref: что мы которой мир i отдачю турком обѣ\n",
      "hyp: что мы которой мир i отдачю турком обѣ\n",
      "ref: долго войскъ держат не можем но\n",
      "hyp: договойскъ держат не може но\n",
      "\n",
      "loss: 10.93746\n",
      "CER: 8.93%, WER: 43.71%\n",
      "loss: best 9.93346 | cur 10.93746\n",
      "==================================================\n",
      "epoch: 28\n"
     ]
    },
    {
     "data": {
      "application/vnd.jupyter.widget-view+json": {
       "model_id": "68d77f79e6554028b873dc1bf1bba23e",
       "version_major": 2,
       "version_minor": 0
      },
      "text/plain": [
       "HBox(children=(HTML(value=''), FloatProgress(value=0.0, max=285.0), HTML(value='')))"
      ]
     },
     "metadata": {},
     "output_type": "display_data"
    },
    {
     "name": "stdout",
     "output_type": "stream",
     "text": [
      "loss: 0.82367\n",
      "loss: 0.42145\n",
      "loss: 0.61567\n",
      "\n"
     ]
    },
    {
     "data": {
      "application/vnd.jupyter.widget-view+json": {
       "model_id": "44f03ff551494ce5aa5322ecba9b15dc",
       "version_major": 2,
       "version_minor": 0
      },
      "text/plain": [
       "HBox(children=(HTML(value=''), FloatProgress(value=0.0, max=21.0), HTML(value='')))"
      ]
     },
     "metadata": {},
     "output_type": "display_data"
    },
    {
     "name": "stdout",
     "output_type": "stream",
     "text": [
      "ref: + но хорошо мужикоф содержите\n",
      "hyp: + \n",
      "ref: i тако пѣхота далее\n",
      "hyp: i тако пѣхота дале\n",
      "ref: римут то б хотя шквадру от 7\n",
      "hyp: римут то б хотя шквадру от7\n",
      "ref: рыхъ нужъдахъ пишетъ i то вы\n",
      "hyp: рыхъ нужъ дахо пишетъ i товыi\n",
      "ref: чтоб мнѣ мое писмо поттвердит\n",
      "hyp: чтоб мнѣ мое писмо поттвердитт\n",
      "ref: жанъ i лутче всякому своей\n",
      "hyp: жанъ i лутче всякому своей\n",
      "ref: зит\n",
      "hyp: зит\n",
      "ref: пѣхотою удержат\n",
      "hyp: пѣхотою удержат\n",
      "ref: нам здес зело докучает аднакож для\n",
      "hyp: нам здес зело до куает аднакож для\n",
      "ref: ет указ не описываяс всту\n",
      "hyp: ет указне опиы ваяс всту\n",
      "ref: ного и возна в заключе\n",
      "hyp: ного авозна в запию че\n",
      "ref: и протчег\n",
      "hyp: i протзег\n",
      "ref: 1\n",
      "hyp: 1\n",
      "ref: хотя за далностию i непърестаными отмѣ\n",
      "hyp: хотя задал ностию i наъростаными отнѣ\n",
      "ref: обявъляю вам что я сюды приѣхал вчерас\n",
      "hyp: обявъляю вѣм чть я сюды приѣхал в черас\n",
      "ref: государственных дѣл положит на въ\n",
      "hyp: государственных дѣл положит навъ\n",
      "ref: заранѣе\n",
      "hyp: заранѣе\n",
      "ref: чтоб нашим людем на островѣ не ос\n",
      "hyp: чтоб нашим людем наостровѣне ос\n",
      "ref: что мы которой мир i отдачю турком обѣ\n",
      "hyp: что мы которой мир i отдачю турком обѣ\n",
      "ref: долго войскъ держат не можем но\n",
      "hyp: долго войскъ держат не можено\n",
      "\n",
      "loss: 11.37498\n",
      "CER: 9.00%, WER: 43.62%\n",
      "loss: best 9.93346 | cur 11.37498\n",
      "==================================================\n",
      "epoch: 29\n"
     ]
    },
    {
     "data": {
      "application/vnd.jupyter.widget-view+json": {
       "model_id": "7613cf5166c64b53acf99449f997ac10",
       "version_major": 2,
       "version_minor": 0
      },
      "text/plain": [
       "HBox(children=(HTML(value=''), FloatProgress(value=0.0, max=285.0), HTML(value='')))"
      ]
     },
     "metadata": {},
     "output_type": "display_data"
    },
    {
     "name": "stdout",
     "output_type": "stream",
     "text": [
      "loss: 0.84261\n",
      "loss: 0.66631\n",
      "loss: 0.73240\n",
      "\n"
     ]
    },
    {
     "data": {
      "application/vnd.jupyter.widget-view+json": {
       "model_id": "4d6e57cf483e40c89332f5725151836d",
       "version_major": 2,
       "version_minor": 0
      },
      "text/plain": [
       "HBox(children=(HTML(value=''), FloatProgress(value=0.0, max=21.0), HTML(value='')))"
      ]
     },
     "metadata": {},
     "output_type": "display_data"
    },
    {
     "name": "stdout",
     "output_type": "stream",
     "text": [
      "ref: + но хорошо мужикоф содержите\n",
      "hyp: + \n",
      "ref: i тако пѣхота далее\n",
      "hyp: i такопѣхота дале\n",
      "ref: римут то б хотя шквадру от 7\n",
      "hyp: римут то б хотя шква дру от7\n",
      "ref: рыхъ нужъдахъ пишетъ i то вы\n",
      "hyp: рыхъну жъ дахѣ пишетъ i товъi\n",
      "ref: чтоб мнѣ мое писмо поттвердит\n",
      "hyp: чтоб мнѣ мое писмо поттвердитт\n",
      "ref: жанъ i лутче всякому своей\n",
      "hyp: жжанъ i лутче всякому своей\n",
      "ref: зит\n",
      "hyp: зит\n",
      "ref: пѣхотою удержат\n",
      "hyp: пѣхотою удержат\n",
      "ref: нам здес зело докучает аднакож для\n",
      "hyp: нам здес зело до кукает аднакож для\n",
      "ref: ет указ не описываяс всту\n",
      "hyp: ет указнеопиы ваяс всту\n",
      "ref: ного и возна в заключе\n",
      "hyp: ного а вѣзна в заключе\n",
      "ref: и протчег\n",
      "hyp: i протзег\n",
      "ref: 1\n",
      "hyp: 1\n",
      "ref: хотя за далностию i непърестаными отмѣ\n",
      "hyp: хотя задал ностию i наърестаны ми отнѣ\n",
      "ref: обявъляю вам что я сюды приѣхал вчерас\n",
      "hyp: обявъляювѣм чтья сюды приѣхал в черас\n",
      "ref: государственных дѣл положит на въ\n",
      "hyp: государственных дѣл положит на въ\n",
      "ref: заранѣе\n",
      "hyp: заранѣе\n",
      "ref: чтоб нашим людем на островѣ не ос\n",
      "hyp: чтоб нашим людем на островѣ не ос\n",
      "ref: что мы которой мир i отдачю турком обѣ\n",
      "hyp: что мы которой мир i отдачю турком обѣ\n",
      "ref: долго войскъ держат не можем но\n",
      "hyp: догго войскъдержат не можено\n",
      "\n",
      "loss: 10.79638\n",
      "CER: 8.58%, WER: 43.05%\n",
      "loss: best 9.93346 | cur 10.79638\n",
      "==================================================\n",
      "epoch: 30\n"
     ]
    },
    {
     "data": {
      "application/vnd.jupyter.widget-view+json": {
       "model_id": "63a74729068b4ac58ab41023e07ecf10",
       "version_major": 2,
       "version_minor": 0
      },
      "text/plain": [
       "HBox(children=(HTML(value=''), FloatProgress(value=0.0, max=285.0), HTML(value='')))"
      ]
     },
     "metadata": {},
     "output_type": "display_data"
    },
    {
     "name": "stdout",
     "output_type": "stream",
     "text": [
      "loss: 0.66759\n",
      "loss: 2.55818\n",
      "loss: 1.01402\n",
      "\n"
     ]
    },
    {
     "data": {
      "application/vnd.jupyter.widget-view+json": {
       "model_id": "71f3dfdc75a94118909d8bd72ea5544f",
       "version_major": 2,
       "version_minor": 0
      },
      "text/plain": [
       "HBox(children=(HTML(value=''), FloatProgress(value=0.0, max=21.0), HTML(value='')))"
      ]
     },
     "metadata": {},
     "output_type": "display_data"
    },
    {
     "name": "stdout",
     "output_type": "stream",
     "text": [
      "ref: + но хорошо мужикоф содержите\n",
      "hyp: i \n",
      "ref: i тако пѣхота далее\n",
      "hyp: i тако пѣхота дале\n",
      "ref: римут то б хотя шквадру от 7\n",
      "hyp: римут то б хотя шквадру от7\n",
      "ref: рыхъ нужъдахъ пишетъ i то вы\n",
      "hyp: рыхъну сжъ дахо пишетъ i товьi\n",
      "ref: чтоб мнѣ мое писмо поттвердит\n",
      "hyp: чтоб мнѣ мое писмо пот твердит\n",
      "ref: жанъ i лутче всякому своей\n",
      "hyp: жанъ i лутче всякому своей\n",
      "ref: зит\n",
      "hyp: зит\n",
      "ref: пѣхотою удержат\n",
      "hyp: пѣхотою удержат\n",
      "ref: нам здес зело докучает аднакож для\n",
      "hyp: нам здес зело до куает аднакож для\n",
      "ref: ет указ не описываяс всту\n",
      "hyp: ет указнеопиы ваяс всту\n",
      "ref: ного и возна в заключе\n",
      "hyp: ного а возна взаплюче\n",
      "ref: и протчег\n",
      "hyp: i протзег\n",
      "ref: 1\n",
      "hyp: 1\n",
      "ref: хотя за далностию i непърестаными отмѣ\n",
      "hyp: хотя задалностию i наърестаными отнѣ\n",
      "ref: обявъляю вам что я сюды приѣхал вчерас\n",
      "hyp: обявъляювѣм чть я сюды приѣхал в черас\n",
      "ref: государственных дѣл положит на въ\n",
      "hyp: государственных дѣл положит на въ\n",
      "ref: заранѣе\n",
      "hyp: заранѣе\n",
      "ref: чтоб нашим людем на островѣ не ос\n",
      "hyp: чтоб нашим людем наостровѣ не ос\n",
      "ref: что мы которой мир i отдачю турком обѣ\n",
      "hyp: что мы которой мир i отдачю турком обѣ\n",
      "ref: долго войскъ держат не можем но\n",
      "hyp: долго войскъдержат не можено\n",
      "\n",
      "loss: 11.20479\n",
      "CER: 8.74%, WER: 44.84%\n",
      "loss: best 9.93346 | cur 11.20479\n",
      "==================================================\n",
      "epoch: 31\n"
     ]
    },
    {
     "data": {
      "application/vnd.jupyter.widget-view+json": {
       "model_id": "a7005b7363024fe58a99e785f9dfc67e",
       "version_major": 2,
       "version_minor": 0
      },
      "text/plain": [
       "HBox(children=(HTML(value=''), FloatProgress(value=0.0, max=285.0), HTML(value='')))"
      ]
     },
     "metadata": {},
     "output_type": "display_data"
    },
    {
     "name": "stdout",
     "output_type": "stream",
     "text": [
      "loss: 0.94066\n",
      "loss: 0.57095\n",
      "loss: 0.66996\n",
      "\n"
     ]
    },
    {
     "data": {
      "application/vnd.jupyter.widget-view+json": {
       "model_id": "450faa1c7a0a437ca5534516f44f65e0",
       "version_major": 2,
       "version_minor": 0
      },
      "text/plain": [
       "HBox(children=(HTML(value=''), FloatProgress(value=0.0, max=21.0), HTML(value='')))"
      ]
     },
     "metadata": {},
     "output_type": "display_data"
    },
    {
     "name": "stdout",
     "output_type": "stream",
     "text": [
      "ref: + но хорошо мужикоф содержите\n",
      "hyp: + \n",
      "ref: i тако пѣхота далее\n",
      "hyp: i такопѣхота дале\n",
      "ref: римут то б хотя шквадру от 7\n",
      "hyp: римут то б хотя шквадру отц\n",
      "ref: рыхъ нужъдахъ пишетъ i то вы\n",
      "hyp: рыхъ нужъ дахъ пишетъ i товоi\n",
      "ref: чтоб мнѣ мое писмо поттвердит\n",
      "hyp: чтоб мнѣмое писмо поттвердитт\n",
      "ref: жанъ i лутче всякому своей\n",
      "hyp: жанъ i лутче всякому своей\n",
      "ref: зит\n",
      "hyp: зит\n",
      "ref: пѣхотою удержат\n",
      "hyp: пѣхотою удержат\n",
      "ref: нам здес зело докучает аднакож для\n",
      "hyp: нам здес зело до куает аднакож для\n",
      "ref: ет указ не описываяс всту\n",
      "hyp: ет указнео пиы вая с вту\n",
      "ref: ного и возна в заключе\n",
      "hyp: ного а возна в заплюче\n",
      "ref: и протчег\n",
      "hyp: i прот\n",
      "ref: 1\n",
      "hyp: 1\n",
      "ref: хотя за далностию i непърестаными отмѣ\n",
      "hyp: хотязадал ностию i наърестаны ми отнѣ\n",
      "ref: обявъляю вам что я сюды приѣхал вчерас\n",
      "hyp: обявъляю вѣм что я сюды приѣхал в черас\n",
      "ref: государственных дѣл положит на въ\n",
      "hyp: государственных дѣл положит на въ\n",
      "ref: заранѣе\n",
      "hyp: заранѣе\n",
      "ref: чтоб нашим людем на островѣ не ос\n",
      "hyp: чтоб нашим людем наостровѣ не ос\n",
      "ref: что мы которой мир i отдачю турком обѣ\n",
      "hyp: что мы которой мир i отдачю турком обѣ\n",
      "ref: долго войскъ держат не можем но\n",
      "hyp: долго войскъдержат не можем но\n",
      "\n",
      "loss: 11.57505\n",
      "CER: 9.06%, WER: 44.65%\n",
      "loss: best 9.93346 | cur 11.57505\n",
      "==================================================\n",
      "epoch: 32\n"
     ]
    },
    {
     "data": {
      "application/vnd.jupyter.widget-view+json": {
       "model_id": "fc06759e2cdd48c285a66d838f433a8e",
       "version_major": 2,
       "version_minor": 0
      },
      "text/plain": [
       "HBox(children=(HTML(value=''), FloatProgress(value=0.0, max=285.0), HTML(value='')))"
      ]
     },
     "metadata": {},
     "output_type": "display_data"
    },
    {
     "name": "stdout",
     "output_type": "stream",
     "text": [
      "loss: 0.37060\n",
      "loss: 1.44294\n",
      "loss: 0.47233\n",
      "\n"
     ]
    },
    {
     "data": {
      "application/vnd.jupyter.widget-view+json": {
       "model_id": "95eb678488dd45d2a93dae4175e7a235",
       "version_major": 2,
       "version_minor": 0
      },
      "text/plain": [
       "HBox(children=(HTML(value=''), FloatProgress(value=0.0, max=21.0), HTML(value='')))"
      ]
     },
     "metadata": {},
     "output_type": "display_data"
    },
    {
     "name": "stdout",
     "output_type": "stream",
     "text": [
      "ref: + но хорошо мужикоф содержите\n",
      "hyp: + \n",
      "ref: i тако пѣхота далее\n",
      "hyp: i тако пѣхота далее\n",
      "ref: римут то б хотя шквадру от 7\n",
      "hyp: римут тоб хотя шквадру от ц\n",
      "ref: рыхъ нужъдахъ пишетъ i то вы\n",
      "hyp: рыхъ нужъ дахо пишетъ i товы i\n",
      "ref: чтоб мнѣ мое писмо поттвердит\n",
      "hyp: чтоб мнѣ мое писмо поттвердитт\n",
      "ref: жанъ i лутче всякому своей\n",
      "hyp: жанъ i лутче всякому своей\n",
      "ref: зит\n",
      "hyp: зит\n",
      "ref: пѣхотою удержат\n",
      "hyp: пѣхотою удержат\n",
      "ref: нам здес зело докучает аднакож для\n",
      "hyp: нам здес зело до куает аднакож для\n",
      "ref: ет указ не описываяс всту\n",
      "hyp: ет указнеопиы ваяс всту\n",
      "ref: ного и возна в заключе\n",
      "hyp: ного а возна в закиюче\n",
      "ref: и протчег\n",
      "hyp: i проте\n",
      "ref: 1\n",
      "hyp: 1\n",
      "ref: хотя за далностию i непърестаными отмѣ\n",
      "hyp: хотя задалностию i наърестаными отнѣ\n",
      "ref: обявъляю вам что я сюды приѣхал вчерас\n",
      "hyp: обявъляювѣм что я сюды приѣхал в челас\n",
      "ref: государственных дѣл положит на въ\n",
      "hyp: государственных дѣл положит на въ\n",
      "ref: заранѣе\n",
      "hyp: заранѣе\n",
      "ref: чтоб нашим людем на островѣ не ос\n",
      "hyp: чтоб нашим людем наостровѣ не ос\n",
      "ref: что мы которой мир i отдачю турком обѣ\n",
      "hyp: что мы которой мир i отдачю турком обѣ\n",
      "ref: долго войскъ держат не можем но\n",
      "hyp: долго войскъдержат не можем но\n",
      "\n",
      "loss: 12.28589\n",
      "CER: 9.14%, WER: 44.04%\n",
      "Epoch    32: reducing learning rate of group 0 to 3.4300e-04.\n",
      "loss: best 9.93346 | cur 12.28589\n",
      "==================================================\n",
      "epoch: 33\n"
     ]
    },
    {
     "data": {
      "application/vnd.jupyter.widget-view+json": {
       "model_id": "d88ec4dccac04491a3619d79409145e3",
       "version_major": 2,
       "version_minor": 0
      },
      "text/plain": [
       "HBox(children=(HTML(value=''), FloatProgress(value=0.0, max=285.0), HTML(value='')))"
      ]
     },
     "metadata": {},
     "output_type": "display_data"
    },
    {
     "name": "stdout",
     "output_type": "stream",
     "text": [
      "loss: 2.46184\n",
      "loss: 0.22417\n",
      "loss: 0.64724\n",
      "\n"
     ]
    },
    {
     "data": {
      "application/vnd.jupyter.widget-view+json": {
       "model_id": "79abf869b2484d419761546c6357d118",
       "version_major": 2,
       "version_minor": 0
      },
      "text/plain": [
       "HBox(children=(HTML(value=''), FloatProgress(value=0.0, max=21.0), HTML(value='')))"
      ]
     },
     "metadata": {},
     "output_type": "display_data"
    },
    {
     "name": "stdout",
     "output_type": "stream",
     "text": [
      "ref: + но хорошо мужикоф содержите\n",
      "hyp: + \n",
      "ref: i тако пѣхота далее\n",
      "hyp: i такопѣхота дале\n",
      "ref: римут то б хотя шквадру от 7\n",
      "hyp: римут тоб хотя шква дру отц7\n",
      "ref: рыхъ нужъдахъ пишетъ i то вы\n",
      "hyp: рыхъ нужъ дахъ пишетъ i то въi\n",
      "ref: чтоб мнѣ мое писмо поттвердит\n",
      "hyp: чтоб мнѣмое писмо поттвердит\n",
      "ref: жанъ i лутче всякому своей\n",
      "hyp: жанъ i лутче всякому своей\n",
      "ref: зит\n",
      "hyp: зат\n",
      "ref: пѣхотою удержат\n",
      "hyp: пѣхотою удержат\n",
      "ref: нам здес зело докучает аднакож для\n",
      "hyp: нам здес зело до куает аднакож для\n",
      "ref: ет указ не описываяс всту\n",
      "hyp: ет указнеопиы ваяс всту\n",
      "ref: ного и возна в заключе\n",
      "hyp: ного а возна в заниюче\n",
      "ref: и протчег\n",
      "hyp: i протзе\n",
      "ref: 1\n",
      "hyp: 1\n",
      "ref: хотя за далностию i непърестаными отмѣ\n",
      "hyp: хотя задал ностию i наърестаными отнѣ\n",
      "ref: обявъляю вам что я сюды приѣхал вчерас\n",
      "hyp: обявъляювѣм что я сюды приѣхал в черас\n",
      "ref: государственных дѣл положит на въ\n",
      "hyp: государственных дѣл положит на въ\n",
      "ref: заранѣе\n",
      "hyp: заранѣе\n",
      "ref: чтоб нашим людем на островѣ не ос\n",
      "hyp: чтоб нашим людем на островѣ не ос\n",
      "ref: что мы которой мир i отдачю турком обѣ\n",
      "hyp: что мы которой мир i отдачю турком обѣ\n",
      "ref: долго войскъ держат не можем но\n",
      "hyp: долго войскъдержат не можемно\n",
      "\n",
      "loss: 11.93555\n",
      "CER: 8.82%, WER: 43.52%\n",
      "loss: best 9.93346 | cur 11.93555\n",
      "==================================================\n",
      "epoch: 34\n"
     ]
    },
    {
     "data": {
      "application/vnd.jupyter.widget-view+json": {
       "model_id": "a5f254e4dbf1439c9013e9361f35e2ae",
       "version_major": 2,
       "version_minor": 0
      },
      "text/plain": [
       "HBox(children=(HTML(value=''), FloatProgress(value=0.0, max=285.0), HTML(value='')))"
      ]
     },
     "metadata": {},
     "output_type": "display_data"
    },
    {
     "name": "stdout",
     "output_type": "stream",
     "text": [
      "loss: 0.16141\n",
      "loss: 4.81899\n",
      "loss: 2.54572\n",
      "\n"
     ]
    },
    {
     "data": {
      "application/vnd.jupyter.widget-view+json": {
       "model_id": "7aef6dab63c94b9585bf58e265c14cf2",
       "version_major": 2,
       "version_minor": 0
      },
      "text/plain": [
       "HBox(children=(HTML(value=''), FloatProgress(value=0.0, max=21.0), HTML(value='')))"
      ]
     },
     "metadata": {},
     "output_type": "display_data"
    },
    {
     "name": "stdout",
     "output_type": "stream",
     "text": [
      "ref: + но хорошо мужикоф содержите\n",
      "hyp: + \n",
      "ref: i тако пѣхота далее\n",
      "hyp: i такопѣхота дале\n",
      "ref: римут то б хотя шквадру от 7\n",
      "hyp: римут тоб хотя шквадру от7\n",
      "ref: рыхъ нужъдахъ пишетъ i то вы\n",
      "hyp: рыхъ ну жъ дахъ пишетъ i то въоi\n",
      "ref: чтоб мнѣ мое писмо поттвердит\n",
      "hyp: чтоб мнѣ мое писмо поттвердит\n",
      "ref: жанъ i лутче всякому своей\n",
      "hyp: жанъ i лутче всякому своей\n",
      "ref: зит\n",
      "hyp: зит\n",
      "ref: пѣхотою удержат\n",
      "hyp: пѣхотою удержат\n",
      "ref: нам здес зело докучает аднакож для\n",
      "hyp: нам здес зело до кукает аднакож для\n",
      "ref: ет указ не описываяс всту\n",
      "hyp: е указнеопиываяс всту\n",
      "ref: ного и возна в заключе\n",
      "hyp: ного а возна в закиюче\n",
      "ref: и протчег\n",
      "hyp: i протзг\n",
      "ref: 1\n",
      "hyp: 1\n",
      "ref: хотя за далностию i непърестаными отмѣ\n",
      "hyp: хотя задал ностию i нпърестаными отнѣ\n",
      "ref: обявъляю вам что я сюды приѣхал вчерас\n",
      "hyp: обявъляю вѣм что я сюды приѣхал в челас\n",
      "ref: государственных дѣл положит на въ\n",
      "hyp: гобударственных дѣл положит на въ\n",
      "ref: заранѣе\n",
      "hyp: заранѣе\n",
      "ref: чтоб нашим людем на островѣ не ос\n",
      "hyp: чтоб нашим людем на островѣ не ос\n",
      "ref: что мы которой мир i отдачю турком обѣ\n",
      "hyp: что мы которой мир i отдачю турком обѣ\n",
      "ref: долго войскъ держат не можем но\n",
      "hyp: догго войскъ держат не може но\n",
      "\n",
      "loss: 12.37794\n",
      "CER: 8.66%, WER: 42.77%\n",
      "loss: best 9.93346 | cur 12.37794\n",
      "==================================================\n",
      "epoch: 35\n"
     ]
    },
    {
     "data": {
      "application/vnd.jupyter.widget-view+json": {
       "model_id": "053d84fc0b6f443a99159ce5f644b54d",
       "version_major": 2,
       "version_minor": 0
      },
      "text/plain": [
       "HBox(children=(HTML(value=''), FloatProgress(value=0.0, max=285.0), HTML(value='')))"
      ]
     },
     "metadata": {},
     "output_type": "display_data"
    },
    {
     "name": "stdout",
     "output_type": "stream",
     "text": [
      "loss: 6.78614\n",
      "loss: 0.19919\n",
      "loss: 3.08058\n",
      "\n"
     ]
    },
    {
     "data": {
      "application/vnd.jupyter.widget-view+json": {
       "model_id": "3a039204a7474595b0ae0283852f7a46",
       "version_major": 2,
       "version_minor": 0
      },
      "text/plain": [
       "HBox(children=(HTML(value=''), FloatProgress(value=0.0, max=21.0), HTML(value='')))"
      ]
     },
     "metadata": {},
     "output_type": "display_data"
    },
    {
     "name": "stdout",
     "output_type": "stream",
     "text": [
      "ref: + но хорошо мужикоф содержите\n",
      "hyp: + \n",
      "ref: i тако пѣхота далее\n",
      "hyp: i тако пѣхота дале\n",
      "ref: римут то б хотя шквадру от 7\n",
      "hyp: римут тоб хотя шква дру отц\n",
      "ref: рыхъ нужъдахъ пишетъ i то вы\n",
      "hyp: рыхъ нужъ дахъ пишетъ i то въоi\n",
      "ref: чтоб мнѣ мое писмо поттвердит\n",
      "hyp: чтоб мнѣ мое писмо поттвердит\n",
      "ref: жанъ i лутче всякому своей\n",
      "hyp: жанъ i лутче всякому своей\n",
      "ref: зит\n",
      "hyp: зит\n",
      "ref: пѣхотою удержат\n",
      "hyp: пѣхотою удержат\n",
      "ref: нам здес зело докучает аднакож для\n",
      "hyp: нам здес зело до куает аднакож для\n",
      "ref: ет указ не описываяс всту\n",
      "hyp: ет указнеопиы ваяс вту\n",
      "ref: ного и возна в заключе\n",
      "hyp: ного а возна в запиюче\n",
      "ref: и протчег\n",
      "hyp: i протзег\n",
      "ref: 1\n",
      "hyp: 1\n",
      "ref: хотя за далностию i непърестаными отмѣ\n",
      "hyp: хотя задал ностию i нпърестаными отнѣ\n",
      "ref: обявъляю вам что я сюды приѣхал вчерас\n",
      "hyp: обявъляювѣм что я сюды приѣхал в черас\n",
      "ref: государственных дѣл положит на въ\n",
      "hyp: государственных дѣл положит на въ\n",
      "ref: заранѣе\n",
      "hyp: заранѣе\n",
      "ref: чтоб нашим людем на островѣ не ос\n",
      "hyp: чтоб нашим людем на островѣ не ос\n",
      "ref: что мы которой мир i отдачю турком обѣ\n",
      "hyp: что мы которой мир i отдачю турком обсѣ\n",
      "ref: долго войскъ держат не можем но\n",
      "hyp: долго войскъ держат не можено\n",
      "\n",
      "loss: 12.37565\n",
      "CER: 8.60%, WER: 43.01%\n",
      "loss: best 9.93346 | cur 12.37565\n",
      "==================================================\n",
      "epoch: 36\n"
     ]
    },
    {
     "data": {
      "application/vnd.jupyter.widget-view+json": {
       "model_id": "42670623e4d54d11846fad44dab2904a",
       "version_major": 2,
       "version_minor": 0
      },
      "text/plain": [
       "HBox(children=(HTML(value=''), FloatProgress(value=0.0, max=285.0), HTML(value='')))"
      ]
     },
     "metadata": {},
     "output_type": "display_data"
    },
    {
     "name": "stdout",
     "output_type": "stream",
     "text": [
      "loss: 0.18360\n",
      "loss: 0.36036\n",
      "loss: 0.46897\n",
      "\n"
     ]
    },
    {
     "data": {
      "application/vnd.jupyter.widget-view+json": {
       "model_id": "233bcb2d305c4e57afcb2d4dfd1e1033",
       "version_major": 2,
       "version_minor": 0
      },
      "text/plain": [
       "HBox(children=(HTML(value=''), FloatProgress(value=0.0, max=21.0), HTML(value='')))"
      ]
     },
     "metadata": {},
     "output_type": "display_data"
    },
    {
     "name": "stdout",
     "output_type": "stream",
     "text": [
      "ref: + но хорошо мужикоф содержите\n",
      "hyp: + \n",
      "ref: i тако пѣхота далее\n",
      "hyp: i такопѣхотта далее\n",
      "ref: римут то б хотя шквадру от 7\n",
      "hyp: римут тоб хотя шквадру отц\n",
      "ref: рыхъ нужъдахъ пишетъ i то вы\n",
      "hyp: рыхъ ну жъ дахъ пишетъ i товоi\n",
      "ref: чтоб мнѣ мое писмо поттвердит\n",
      "hyp: чтоб мнѣ мое писмо поттвердит\n",
      "ref: жанъ i лутче всякому своей\n",
      "hyp: жанъ i лутче всякому своей\n",
      "ref: зит\n",
      "hyp: зит\n",
      "ref: пѣхотою удержат\n",
      "hyp: пѣхотою удержат\n",
      "ref: нам здес зело докучает аднакож для\n",
      "hyp: нам здес зело до куает аднакож для\n",
      "ref: ет указ не описываяс всту\n",
      "hyp: ет указнеопиы ваяс всту\n",
      "ref: ного и возна в заключе\n",
      "hyp: ного а возна в занлюче\n",
      "ref: и протчег\n",
      "hyp: i протзег\n",
      "ref: 1\n",
      "hyp: 1\n",
      "ref: хотя за далностию i непърестаными отмѣ\n",
      "hyp: хотя задалностию i наърестаными отнѣ\n",
      "ref: обявъляю вам что я сюды приѣхал вчерас\n",
      "hyp: обявъляю вом что я сюды приѣхал в черас\n",
      "ref: государственных дѣл положит на въ\n",
      "hyp: государственных дѣл положит на въ\n",
      "ref: заранѣе\n",
      "hyp: заранѣе\n",
      "ref: чтоб нашим людем на островѣ не ос\n",
      "hyp: чтоб нашим людем наостровѣ не ос\n",
      "ref: что мы которой мир i отдачю турком обѣ\n",
      "hyp: что мы которой мир i отдачю турком обѣ\n",
      "ref: долго войскъ держат не можем но\n",
      "hyp: долго войскъддержат не можем но\n",
      "\n",
      "loss: 12.66343\n",
      "CER: 8.73%, WER: 43.38%\n",
      "loss: best 9.93346 | cur 12.66343\n",
      "==================================================\n",
      "epoch: 37\n"
     ]
    },
    {
     "data": {
      "application/vnd.jupyter.widget-view+json": {
       "model_id": "3ac2ff9487f84eb9a3ddb967fb1e93a4",
       "version_major": 2,
       "version_minor": 0
      },
      "text/plain": [
       "HBox(children=(HTML(value=''), FloatProgress(value=0.0, max=285.0), HTML(value='')))"
      ]
     },
     "metadata": {},
     "output_type": "display_data"
    },
    {
     "name": "stdout",
     "output_type": "stream",
     "text": [
      "loss: 0.44080\n",
      "loss: 0.16627\n",
      "loss: 0.23287\n",
      "\n"
     ]
    },
    {
     "data": {
      "application/vnd.jupyter.widget-view+json": {
       "model_id": "ab37d305449f4534a9c20184c74c929e",
       "version_major": 2,
       "version_minor": 0
      },
      "text/plain": [
       "HBox(children=(HTML(value=''), FloatProgress(value=0.0, max=21.0), HTML(value='')))"
      ]
     },
     "metadata": {},
     "output_type": "display_data"
    },
    {
     "name": "stdout",
     "output_type": "stream",
     "text": [
      "ref: + но хорошо мужикоф содержите\n",
      "hyp: + \n",
      "ref: i тако пѣхота далее\n",
      "hyp: i такопѣхота далее\n",
      "ref: римут то б хотя шквадру от 7\n",
      "hyp: римут тоб хотя шквадру отц\n",
      "ref: рыхъ нужъдахъ пишетъ i то вы\n",
      "hyp: рыхъ нужъ дахъ пишетъ i товъi\n",
      "ref: чтоб мнѣ мое писмо поттвердит\n",
      "hyp: чтоб мнѣ мое писмо поттвердит\n",
      "ref: жанъ i лутче всякому своей\n",
      "hyp: жанъ i лутче всякому своей\n",
      "ref: зит\n",
      "hyp: зит\n",
      "ref: пѣхотою удержат\n",
      "hyp: пѣхотою удержат\n",
      "ref: нам здес зело докучает аднакож для\n",
      "hyp: нам здес зело до куает аднакож для\n",
      "ref: ет указ не описываяс всту\n",
      "hyp: е указнеопиы ваяс всту\n",
      "ref: ного и возна в заключе\n",
      "hyp: ного а возна в заключе\n",
      "ref: и протчег\n",
      "hyp: i протзг\n",
      "ref: 1\n",
      "hyp: 1\n",
      "ref: хотя за далностию i непърестаными отмѣ\n",
      "hyp: хотя задал ностию i непърестаными отнѣ\n",
      "ref: обявъляю вам что я сюды приѣхал вчерас\n",
      "hyp: обявъляювом чть я сюды приѣхал в черас\n",
      "ref: государственных дѣл положит на въ\n",
      "hyp: говударственных дѣл положит навъ\n",
      "ref: заранѣе\n",
      "hyp: заранѣе\n",
      "ref: чтоб нашим людем на островѣ не ос\n",
      "hyp: чтоб нашим людем на островѣ не ос\n",
      "ref: что мы которой мир i отдачю турком обѣ\n",
      "hyp: что мы которой мир i отдачю турком обсѣ\n",
      "ref: долго войскъ держат не можем но\n",
      "hyp: долго войскъдержат не можем но\n",
      "\n",
      "loss: 12.46476\n",
      "CER: 8.71%, WER: 43.10%\n",
      "loss: best 9.93346 | cur 12.46476\n",
      "==================================================\n",
      "epoch: 38\n"
     ]
    },
    {
     "data": {
      "application/vnd.jupyter.widget-view+json": {
       "model_id": "999890ee203a4fb9b499cc834469007e",
       "version_major": 2,
       "version_minor": 0
      },
      "text/plain": [
       "HBox(children=(HTML(value=''), FloatProgress(value=0.0, max=285.0), HTML(value='')))"
      ]
     },
     "metadata": {},
     "output_type": "display_data"
    },
    {
     "name": "stdout",
     "output_type": "stream",
     "text": [
      "loss: 0.13339\n",
      "loss: 1.73911\n",
      "loss: 0.37315\n",
      "\n"
     ]
    },
    {
     "data": {
      "application/vnd.jupyter.widget-view+json": {
       "model_id": "e7c7c38a525f4028a292bcf632ef54f7",
       "version_major": 2,
       "version_minor": 0
      },
      "text/plain": [
       "HBox(children=(HTML(value=''), FloatProgress(value=0.0, max=21.0), HTML(value='')))"
      ]
     },
     "metadata": {},
     "output_type": "display_data"
    },
    {
     "name": "stdout",
     "output_type": "stream",
     "text": [
      "ref: + но хорошо мужикоф содержите\n",
      "hyp: + т\n",
      "ref: i тако пѣхота далее\n",
      "hyp: i такопѣхотта далее\n",
      "ref: римут то б хотя шквадру от 7\n",
      "hyp: римут тоб хотя шква дру отц\n",
      "ref: рыхъ нужъдахъ пишетъ i то вы\n",
      "hyp: рыхъ нусжъдахъ пишетъ i товоi\n",
      "ref: чтоб мнѣ мое писмо поттвердит\n",
      "hyp: чтоб мнѣ мое писмо поттвердит\n",
      "ref: жанъ i лутче всякому своей\n",
      "hyp: жанъ i лутче всякому своей\n",
      "ref: зит\n",
      "hyp: зит\n",
      "ref: пѣхотою удержат\n",
      "hyp: пѣхотою удержат\n",
      "ref: нам здес зело докучает аднакож для\n",
      "hyp: нам здес зело до куает адднакож для\n",
      "ref: ет указ не описываяс всту\n",
      "hyp: ет указнеопиы влаясвсту\n",
      "ref: ного и возна в заключе\n",
      "hyp: ного авозна в заключе\n",
      "ref: и протчег\n",
      "hyp: i протзег\n",
      "ref: 1\n",
      "hyp: 1\n",
      "ref: хотя за далностию i непърестаными отмѣ\n",
      "hyp: хотя задал ностию i нпърестаными отнѣ\n",
      "ref: обявъляю вам что я сюды приѣхал вчерас\n",
      "hyp: обявъляювам что я сюды приѣхал в черас\n",
      "ref: государственных дѣл положит на въ\n",
      "hyp: гобударственных дѣл положит на въ\n",
      "ref: заранѣе\n",
      "hyp: заранѣе\n",
      "ref: чтоб нашим людем на островѣ не ос\n",
      "hyp: чтоб нашим людем на островѣчне ос\n",
      "ref: что мы которой мир i отдачю турком обѣ\n",
      "hyp: что мы которой мир i отдачю турком обѣ\n",
      "ref: долго войскъ держат не можем но\n",
      "hyp: долго войскъдержат не можем но\n",
      "\n",
      "loss: 12.26705\n",
      "CER: 8.51%, WER: 43.43%\n",
      "Epoch    38: reducing learning rate of group 0 to 2.4010e-04.\n",
      "loss: best 9.93346 | cur 12.26705\n",
      "==================================================\n",
      "epoch: 39\n"
     ]
    },
    {
     "data": {
      "application/vnd.jupyter.widget-view+json": {
       "model_id": "f4b1dc26e3244049be0b2a39e6b877ac",
       "version_major": 2,
       "version_minor": 0
      },
      "text/plain": [
       "HBox(children=(HTML(value=''), FloatProgress(value=0.0, max=285.0), HTML(value='')))"
      ]
     },
     "metadata": {},
     "output_type": "display_data"
    },
    {
     "name": "stdout",
     "output_type": "stream",
     "text": [
      "loss: 0.17149\n",
      "loss: 6.44022\n",
      "loss: 1.61660\n",
      "\n"
     ]
    },
    {
     "data": {
      "application/vnd.jupyter.widget-view+json": {
       "model_id": "07e1d915cf564c0088d4cf92231fb08f",
       "version_major": 2,
       "version_minor": 0
      },
      "text/plain": [
       "HBox(children=(HTML(value=''), FloatProgress(value=0.0, max=21.0), HTML(value='')))"
      ]
     },
     "metadata": {},
     "output_type": "display_data"
    },
    {
     "name": "stdout",
     "output_type": "stream",
     "text": [
      "ref: + но хорошо мужикоф содержите\n",
      "hyp: + т\n",
      "ref: i тако пѣхота далее\n",
      "hyp: i тако пѣхота далее\n",
      "ref: римут то б хотя шквадру от 7\n",
      "hyp: римут тоб хотя шквадру отц\n",
      "ref: рыхъ нужъдахъ пишетъ i то вы\n",
      "hyp: рыхъ нужъ дало пишеть i товоi\n",
      "ref: чтоб мнѣ мое писмо поттвердит\n",
      "hyp: чтоб мнѣ мое писмо поттвердит\n",
      "ref: жанъ i лутче всякому своей\n",
      "hyp: жанъ i лутче всякому своей\n",
      "ref: зит\n",
      "hyp: зит\n",
      "ref: пѣхотою удержат\n",
      "hyp: пѣхотою удержат\n",
      "ref: нам здес зело докучает аднакож для\n",
      "hyp: нам здес зело до кукает аднакож для\n",
      "ref: ет указ не описываяс всту\n",
      "hyp: ет указнеопиы ваяс всту\n",
      "ref: ного и возна в заключе\n",
      "hyp: ного а возна в закиюче\n",
      "ref: и протчег\n",
      "hyp: i протзег\n",
      "ref: 1\n",
      "hyp: 1\n",
      "ref: хотя за далностию i непърестаными отмѣ\n",
      "hyp: хотя задал ностию i нпърестаными отнѣ\n",
      "ref: обявъляю вам что я сюды приѣхал вчерас\n",
      "hyp: обявъляю вам что я сюды приѣхал в черас\n",
      "ref: государственных дѣл положит на въ\n",
      "hyp: говударственных дѣл положит на въ\n",
      "ref: заранѣе\n",
      "hyp: заранѣе\n",
      "ref: чтоб нашим людем на островѣ не ос\n",
      "hyp: чтоб нашим людем на островѣне ос\n",
      "ref: что мы которой мир i отдачю турком обѣ\n",
      "hyp: что мы которой мир i отдачю турком обѣ\n",
      "ref: долго войскъ держат не можем но\n",
      "hyp: долго войскъ держат не можем но\n",
      "\n",
      "loss: 12.42453\n",
      "CER: 8.51%, WER: 42.06%\n",
      "loss: best 9.93346 | cur 12.42453\n",
      "==================================================\n",
      "epoch: 40\n"
     ]
    },
    {
     "data": {
      "application/vnd.jupyter.widget-view+json": {
       "model_id": "e573421420c54a4f9af6685dd76531a8",
       "version_major": 2,
       "version_minor": 0
      },
      "text/plain": [
       "HBox(children=(HTML(value=''), FloatProgress(value=0.0, max=285.0), HTML(value='')))"
      ]
     },
     "metadata": {},
     "output_type": "display_data"
    },
    {
     "name": "stdout",
     "output_type": "stream",
     "text": [
      "loss: 0.22425\n",
      "loss: 0.10607\n",
      "loss: 14.44387\n",
      "\n"
     ]
    },
    {
     "data": {
      "application/vnd.jupyter.widget-view+json": {
       "model_id": "c1f1c053144a4b03a6e99f7a0f897166",
       "version_major": 2,
       "version_minor": 0
      },
      "text/plain": [
       "HBox(children=(HTML(value=''), FloatProgress(value=0.0, max=21.0), HTML(value='')))"
      ]
     },
     "metadata": {},
     "output_type": "display_data"
    },
    {
     "name": "stdout",
     "output_type": "stream",
     "text": [
      "ref: + но хорошо мужикоф содержите\n",
      "hyp: i т\n",
      "ref: i тако пѣхота далее\n",
      "hyp: i тако пѣхота далее\n",
      "ref: римут то б хотя шквадру от 7\n",
      "hyp: римут тоб хотя шквадру отц\n",
      "ref: рыхъ нужъдахъ пишетъ i то вы\n",
      "hyp: рыхъ нускъ далѣ пишетъ i товъi\n",
      "ref: чтоб мнѣ мое писмо поттвердит\n",
      "hyp: чтоб мнѣ мое писмо поттвердит\n",
      "ref: жанъ i лутче всякому своей\n",
      "hyp: жанъ i лутче всякому своей\n",
      "ref: зит\n",
      "hyp: зит\n",
      "ref: пѣхотою удержат\n",
      "hyp: пѣхотою удержат\n",
      "ref: нам здес зело докучает аднакож для\n",
      "hyp: нам здес зело до куает адднакож для\n",
      "ref: ет указ не описываяс всту\n",
      "hyp: е указ неопиы влаяс всту\n",
      "ref: ного и возна в заключе\n",
      "hyp: ного авозна в заключе\n",
      "ref: и протчег\n",
      "hyp: i протзег\n",
      "ref: 1\n",
      "hyp: 1\n",
      "ref: хотя за далностию i непърестаными отмѣ\n",
      "hyp: хотя задал ностию i нпърестаными отнѣ\n",
      "ref: обявъляю вам что я сюды приѣхал вчерас\n",
      "hyp: обявъляювъм чтоя сюды приѣхал в черас\n",
      "ref: государственных дѣл положит на въ\n",
      "hyp: говударственных дѣл положит на въ\n",
      "ref: заранѣе\n",
      "hyp: заранѣе\n",
      "ref: чтоб нашим людем на островѣ не ос\n",
      "hyp: чтоб нашим людем на островѣне ос\n",
      "ref: что мы которой мир i отдачю турком обѣ\n",
      "hyp: что мы которой мир i отдачю турком обѣ\n",
      "ref: долго войскъ держат не можем но\n",
      "hyp: долго войскъ держат не можем но\n",
      "\n",
      "loss: 12.25334\n",
      "CER: 8.52%, WER: 42.39%\n",
      "loss: best 9.93346 | cur 12.25334\n",
      "==================================================\n",
      "epoch: 41\n"
     ]
    },
    {
     "data": {
      "application/vnd.jupyter.widget-view+json": {
       "model_id": "48a309eb27394823aad067f9bd3d624d",
       "version_major": 2,
       "version_minor": 0
      },
      "text/plain": [
       "HBox(children=(HTML(value=''), FloatProgress(value=0.0, max=285.0), HTML(value='')))"
      ]
     },
     "metadata": {},
     "output_type": "display_data"
    },
    {
     "name": "stdout",
     "output_type": "stream",
     "text": [
      "loss: 0.10672\n",
      "loss: 0.11770\n",
      "loss: 0.22719\n",
      "\n"
     ]
    },
    {
     "data": {
      "application/vnd.jupyter.widget-view+json": {
       "model_id": "1ff5a91e1fd74ca382fc0a5ee0855ead",
       "version_major": 2,
       "version_minor": 0
      },
      "text/plain": [
       "HBox(children=(HTML(value=''), FloatProgress(value=0.0, max=21.0), HTML(value='')))"
      ]
     },
     "metadata": {},
     "output_type": "display_data"
    },
    {
     "name": "stdout",
     "output_type": "stream",
     "text": [
      "ref: + но хорошо мужикоф содержите\n",
      "hyp: + т\n",
      "ref: i тако пѣхота далее\n",
      "hyp: i тако пѣхота далее\n",
      "ref: римут то б хотя шквадру от 7\n",
      "hyp: римут тоб хотя шквадру отц\n",
      "ref: рыхъ нужъдахъ пишетъ i то вы\n",
      "hyp: рыхъ нужъ дахъ пишетъ i товъi\n",
      "ref: чтоб мнѣ мое писмо поттвердит\n",
      "hyp: чтоб мнѣ мое писмо пот твердитт\n",
      "ref: жанъ i лутче всякому своей\n",
      "hyp: жанъ i лутче всякому своей\n",
      "ref: зит\n",
      "hyp: зит\n",
      "ref: пѣхотою удержат\n",
      "hyp: пѣхотою удержат\n",
      "ref: нам здес зело докучает аднакож для\n",
      "hyp: нам здес зело до куает аднакож для\n",
      "ref: ет указ не описываяс всту\n",
      "hyp: ет указнеопиы влаяс всту\n",
      "ref: ного и возна в заключе\n",
      "hyp: ного а возна в закиюче\n",
      "ref: и протчег\n",
      "hyp: i протзег\n",
      "ref: 1\n",
      "hyp: 1\n",
      "ref: хотя за далностию i непърестаными отмѣ\n",
      "hyp: хотя задал ностию i нпърестаными отнѣ\n",
      "ref: обявъляю вам что я сюды приѣхал вчерас\n",
      "hyp: обявъляю вам что я сюды приѣхал в черас\n",
      "ref: государственных дѣл положит на въ\n",
      "hyp: государственных дѣл положит на въ\n",
      "ref: заранѣе\n",
      "hyp: заранѣе\n",
      "ref: чтоб нашим людем на островѣ не ос\n",
      "hyp: чтоб нашим людем наостровѣчне ос\n",
      "ref: что мы которой мир i отдачю турком обѣ\n",
      "hyp: что мы которой мир i отдачю турком обѣ\n",
      "ref: долго войскъ держат не можем но\n",
      "hyp: долго войскъ держат не можено\n",
      "\n",
      "loss: 12.60958\n",
      "CER: 8.29%, WER: 41.17%\n",
      "loss: best 9.93346 | cur 12.60958\n",
      "==================================================\n",
      "epoch: 42\n"
     ]
    },
    {
     "data": {
      "application/vnd.jupyter.widget-view+json": {
       "model_id": "cc3835e2fbcf41dbaa5d8d559149f887",
       "version_major": 2,
       "version_minor": 0
      },
      "text/plain": [
       "HBox(children=(HTML(value=''), FloatProgress(value=0.0, max=285.0), HTML(value='')))"
      ]
     },
     "metadata": {},
     "output_type": "display_data"
    },
    {
     "name": "stdout",
     "output_type": "stream",
     "text": [
      "loss: 7.55851\n",
      "loss: 6.78367\n",
      "loss: 0.23272\n",
      "\n"
     ]
    },
    {
     "data": {
      "application/vnd.jupyter.widget-view+json": {
       "model_id": "6f0bb94e0aae4affbec8bec40591f7a9",
       "version_major": 2,
       "version_minor": 0
      },
      "text/plain": [
       "HBox(children=(HTML(value=''), FloatProgress(value=0.0, max=21.0), HTML(value='')))"
      ]
     },
     "metadata": {},
     "output_type": "display_data"
    },
    {
     "name": "stdout",
     "output_type": "stream",
     "text": [
      "ref: + но хорошо мужикоф содержите\n",
      "hyp: + нт\n",
      "ref: i тако пѣхота далее\n",
      "hyp: i тако пѣхота далее\n",
      "ref: римут то б хотя шквадру от 7\n",
      "hyp: римут тоб хотя шквадру от7\n",
      "ref: рыхъ нужъдахъ пишетъ i то вы\n",
      "hyp: рыхъ нужъ дахѣ пишетъ i то выi\n",
      "ref: чтоб мнѣ мое писмо поттвердит\n",
      "hyp: чтоб мнѣ мое писмо поттвердит\n",
      "ref: жанъ i лутче всякому своей\n",
      "hyp: жанъ i лутче всякому своей\n",
      "ref: зит\n",
      "hyp: зат\n",
      "ref: пѣхотою удержат\n",
      "hyp: пѣхотою удержат\n",
      "ref: нам здес зело докучает аднакож для\n",
      "hyp: нам здес зело до куает аднакож для\n",
      "ref: ет указ не описываяс всту\n",
      "hyp: ет указ неопиы ваяс всту\n",
      "ref: ного и возна в заключе\n",
      "hyp: ного авозна в заключе\n",
      "ref: и протчег\n",
      "hyp: i протзег\n",
      "ref: 1\n",
      "hyp: 1\n",
      "ref: хотя за далностию i непърестаными отмѣ\n",
      "hyp: хотя задалностию i непърестаными отнѣ\n",
      "ref: обявъляю вам что я сюды приѣхал вчерас\n",
      "hyp: обявъляю вом что я сюды приѣхал в черас\n",
      "ref: государственных дѣл положит на въ\n",
      "hyp: говударственных дѣл положит на въ\n",
      "ref: заранѣе\n",
      "hyp: заранѣе\n",
      "ref: чтоб нашим людем на островѣ не ос\n",
      "hyp: чтоб нашим людем наостровѣ не ос\n",
      "ref: что мы которой мир i отдачю турком обѣ\n",
      "hyp: что мы которой мир i отдачю турком обѣ\n",
      "ref: долго войскъ держат не можем но\n",
      "hyp: долго войскъ держат не можено\n",
      "\n",
      "loss: 12.87211\n",
      "CER: 8.59%, WER: 43.10%\n",
      "loss: best 9.93346 | cur 12.87211\n",
      "==================================================\n",
      "epoch: 43\n"
     ]
    },
    {
     "data": {
      "application/vnd.jupyter.widget-view+json": {
       "model_id": "4d283239957a4a5e878fea9d3d5b7ed9",
       "version_major": 2,
       "version_minor": 0
      },
      "text/plain": [
       "HBox(children=(HTML(value=''), FloatProgress(value=0.0, max=285.0), HTML(value='')))"
      ]
     },
     "metadata": {},
     "output_type": "display_data"
    },
    {
     "name": "stdout",
     "output_type": "stream",
     "text": [
      "loss: 0.13575\n",
      "loss: 0.13399\n",
      "loss: 0.16840\n",
      "\n"
     ]
    },
    {
     "data": {
      "application/vnd.jupyter.widget-view+json": {
       "model_id": "df2f880c617e46d59c6d9062e8d045f0",
       "version_major": 2,
       "version_minor": 0
      },
      "text/plain": [
       "HBox(children=(HTML(value=''), FloatProgress(value=0.0, max=21.0), HTML(value='')))"
      ]
     },
     "metadata": {},
     "output_type": "display_data"
    },
    {
     "name": "stdout",
     "output_type": "stream",
     "text": [
      "ref: + но хорошо мужикоф содержите\n",
      "hyp: + нот\n",
      "ref: i тако пѣхота далее\n",
      "hyp: i тако пѣхота далее\n",
      "ref: римут то б хотя шквадру от 7\n",
      "hyp: римут то б хотя шквадру от7\n",
      "ref: рыхъ нужъдахъ пишетъ i то вы\n",
      "hyp: рыхъ нужъ дахъ пишетъ i товъi\n",
      "ref: чтоб мнѣ мое писмо поттвердит\n",
      "hyp: чтоб мнѣ мое писмо поттвердит\n",
      "ref: жанъ i лутче всякому своей\n",
      "hyp: жанъ i лутче всякому своей\n",
      "ref: зит\n",
      "hyp: зит\n",
      "ref: пѣхотою удержат\n",
      "hyp: пѣхотою удержат\n",
      "ref: нам здес зело докучает аднакож для\n",
      "hyp: нам здес зело до куает аднакож для\n",
      "ref: ет указ не описываяс всту\n",
      "hyp: ет указнеопиы ваяс всту\n",
      "ref: ного и возна в заключе\n",
      "hyp: ного а возна в заключе\n",
      "ref: и протчег\n",
      "hyp: i протзег\n",
      "ref: 1\n",
      "hyp: 1\n",
      "ref: хотя за далностию i непърестаными отмѣ\n",
      "hyp: хотя задал ностию i непърестаными отнѣ\n",
      "ref: обявъляю вам что я сюды приѣхал вчерас\n",
      "hyp: обявъляю вом что я сюды приѣхал в черас\n",
      "ref: государственных дѣл положит на въ\n",
      "hyp: государственных дѣл положит на въ\n",
      "ref: заранѣе\n",
      "hyp: заранѣе\n",
      "ref: чтоб нашим людем на островѣ не ос\n",
      "hyp: чтоб нашим людем на островѣне ос\n",
      "ref: что мы которой мир i отдачю турком обѣ\n",
      "hyp: что мы которой мир i отдачю турком обѣ\n",
      "ref: долго войскъ держат не можем но\n",
      "hyp: долго войскъ держат не можем но\n",
      "\n",
      "loss: 12.86294\n",
      "CER: 8.31%, WER: 41.73%\n",
      "loss: best 9.93346 | cur 12.86294\n",
      "==================================================\n",
      "epoch: 44\n"
     ]
    },
    {
     "data": {
      "application/vnd.jupyter.widget-view+json": {
       "model_id": "8f6e1beac4fd45f686f44a1179acab03",
       "version_major": 2,
       "version_minor": 0
      },
      "text/plain": [
       "HBox(children=(HTML(value=''), FloatProgress(value=0.0, max=285.0), HTML(value='')))"
      ]
     },
     "metadata": {},
     "output_type": "display_data"
    },
    {
     "name": "stdout",
     "output_type": "stream",
     "text": [
      "loss: 0.12115\n",
      "loss: 0.11577\n",
      "loss: 0.08963\n",
      "\n"
     ]
    },
    {
     "data": {
      "application/vnd.jupyter.widget-view+json": {
       "model_id": "33c77fc5a65b443490c0ddd8f3c5c958",
       "version_major": 2,
       "version_minor": 0
      },
      "text/plain": [
       "HBox(children=(HTML(value=''), FloatProgress(value=0.0, max=21.0), HTML(value='')))"
      ]
     },
     "metadata": {},
     "output_type": "display_data"
    },
    {
     "name": "stdout",
     "output_type": "stream",
     "text": [
      "ref: + но хорошо мужикоф содержите\n",
      "hyp: + т\n",
      "ref: i тако пѣхота далее\n",
      "hyp: i тако пѣхота далее\n",
      "ref: римут то б хотя шквадру от 7\n",
      "hyp: римут тоб хотя шквадру от7\n",
      "ref: рыхъ нужъдахъ пишетъ i то вы\n",
      "hyp: рыхъ нужъ дахѣ пишетъ i товъi\n",
      "ref: чтоб мнѣ мое писмо поттвердит\n",
      "hyp: чтоб мнѣ мое писмо поттвердит\n",
      "ref: жанъ i лутче всякому своей\n",
      "hyp: жанъ i лутче всякому своей\n",
      "ref: зит\n",
      "hyp: зит\n",
      "ref: пѣхотою удержат\n",
      "hyp: пѣхотою удержат\n",
      "ref: нам здес зело докучает аднакож для\n",
      "hyp: нам здес зело до куает аднакож для\n",
      "ref: ет указ не описываяс всту\n",
      "hyp: ет указ не опиы влаяс всту\n",
      "ref: ного и возна в заключе\n",
      "hyp: ного авозна в заключе\n",
      "ref: и протчег\n",
      "hyp: i протзег\n",
      "ref: 1\n",
      "hyp: 1\n",
      "ref: хотя за далностию i непърестаными отмѣ\n",
      "hyp: хотя задалностию i непърестаными отнѣ\n",
      "ref: обявъляю вам что я сюды приѣхал вчерас\n",
      "hyp: обявъляю вѣм что я сюды приѣхал в черас\n",
      "ref: государственных дѣл положит на въ\n",
      "hyp: говударственных дѣл положит на въ\n",
      "ref: заранѣе\n",
      "hyp: заранѣе\n",
      "ref: чтоб нашим людем на островѣ не ос\n",
      "hyp: чтоб нашим людем на островѣне ос\n",
      "ref: что мы которой мир i отдачю турком обѣ\n",
      "hyp: что мы которой мир i отдачю турком обѣ\n",
      "ref: долго войскъ держат не можем но\n",
      "hyp: долго войскъержат не можем но\n",
      "\n",
      "loss: 13.05395\n",
      "CER: 8.47%, WER: 42.58%\n",
      "Epoch    44: reducing learning rate of group 0 to 1.6807e-04.\n",
      "loss: best 9.93346 | cur 13.05395\n",
      "==================================================\n",
      "epoch: 45\n"
     ]
    },
    {
     "data": {
      "application/vnd.jupyter.widget-view+json": {
       "model_id": "6be9aa253e034d41b0b0549d74a63340",
       "version_major": 2,
       "version_minor": 0
      },
      "text/plain": [
       "HBox(children=(HTML(value=''), FloatProgress(value=0.0, max=285.0), HTML(value='')))"
      ]
     },
     "metadata": {},
     "output_type": "display_data"
    },
    {
     "name": "stdout",
     "output_type": "stream",
     "text": [
      "loss: 0.17768\n",
      "loss: 0.08469\n",
      "loss: 0.13488\n",
      "\n"
     ]
    },
    {
     "data": {
      "application/vnd.jupyter.widget-view+json": {
       "model_id": "534e8b39e42149e08f0157bd7dd005b3",
       "version_major": 2,
       "version_minor": 0
      },
      "text/plain": [
       "HBox(children=(HTML(value=''), FloatProgress(value=0.0, max=21.0), HTML(value='')))"
      ]
     },
     "metadata": {},
     "output_type": "display_data"
    },
    {
     "name": "stdout",
     "output_type": "stream",
     "text": [
      "ref: + но хорошо мужикоф содержите\n",
      "hyp: + от\n",
      "ref: i тако пѣхота далее\n",
      "hyp: i тако пѣхота далее\n",
      "ref: римут то б хотя шквадру от 7\n",
      "hyp: римут тоб хотя шквадру от7\n",
      "ref: рыхъ нужъдахъ пишетъ i то вы\n",
      "hyp: рыхъ нужъ дахъ пишетъ i товъi\n",
      "ref: чтоб мнѣ мое писмо поттвердит\n",
      "hyp: чтоб мнѣ мое писмо пот твердит\n",
      "ref: жанъ i лутче всякому своей\n",
      "hyp: жжанъ i лутче всякому своей\n",
      "ref: зит\n",
      "hyp: зат\n",
      "ref: пѣхотою удержат\n",
      "hyp: пѣхотою удержат\n",
      "ref: нам здес зело докучает аднакож для\n",
      "hyp: нам здес зело до куает аднакож для\n",
      "ref: ет указ не описываяс всту\n",
      "hyp: ет указне опиы влаяс всту\n",
      "ref: ного и возна в заключе\n",
      "hyp: ного а возна в заключе\n",
      "ref: и протчег\n",
      "hyp: i протег\n",
      "ref: 1\n",
      "hyp: 1\n",
      "ref: хотя за далностию i непърестаными отмѣ\n",
      "hyp: хотя задалностию i непърестаными отнѣ\n",
      "ref: обявъляю вам что я сюды приѣхал вчерас\n",
      "hyp: обявъляю вѣм что я сюды приѣхал в черас\n",
      "ref: государственных дѣл положит на въ\n",
      "hyp: государственных дѣл положит на въ\n",
      "ref: заранѣе\n",
      "hyp: заранѣе\n",
      "ref: чтоб нашим людем на островѣ не ос\n",
      "hyp: чтоб нашим людем на островѣне ос\n",
      "ref: что мы которой мир i отдачю турком обѣ\n",
      "hyp: что мы которой мир i отдачю турком обѣ\n",
      "ref: долго войскъ держат не можем но\n",
      "hyp: догго войскъдержат не можено\n",
      "\n",
      "loss: 12.76560\n",
      "CER: 8.38%, WER: 42.91%\n",
      "loss: best 9.93346 | cur 12.76560\n",
      "==================================================\n",
      "epoch: 46\n"
     ]
    },
    {
     "data": {
      "application/vnd.jupyter.widget-view+json": {
       "model_id": "3a3591855588441cafe7a6bc92715f28",
       "version_major": 2,
       "version_minor": 0
      },
      "text/plain": [
       "HBox(children=(HTML(value=''), FloatProgress(value=0.0, max=285.0), HTML(value='')))"
      ]
     },
     "metadata": {},
     "output_type": "display_data"
    },
    {
     "name": "stdout",
     "output_type": "stream",
     "text": [
      "loss: 0.11719\n",
      "loss: 0.04978\n",
      "loss: 0.07535\n",
      "\n"
     ]
    },
    {
     "data": {
      "application/vnd.jupyter.widget-view+json": {
       "model_id": "a9c82d0078624d4fa7ec61030ec44ed7",
       "version_major": 2,
       "version_minor": 0
      },
      "text/plain": [
       "HBox(children=(HTML(value=''), FloatProgress(value=0.0, max=21.0), HTML(value='')))"
      ]
     },
     "metadata": {},
     "output_type": "display_data"
    },
    {
     "name": "stdout",
     "output_type": "stream",
     "text": [
      "ref: + но хорошо мужикоф содержите\n",
      "hyp: + нт\n",
      "ref: i тако пѣхота далее\n",
      "hyp: i тако пѣ хота далее\n",
      "ref: римут то б хотя шквадру от 7\n",
      "hyp: римут тоб хотя шквадру отц7\n",
      "ref: рыхъ нужъдахъ пишетъ i то вы\n",
      "hyp: рыхъ нужъ дахъ пишетъ i товъi\n",
      "ref: чтоб мнѣ мое писмо поттвердит\n",
      "hyp: чтоб мнѣ мое писмо пот твердит\n",
      "ref: жанъ i лутче всякому своей\n",
      "hyp: жанъ i лутче всякому своей\n",
      "ref: зит\n",
      "hyp: зит\n",
      "ref: пѣхотою удержат\n",
      "hyp: пѣхотою удержат\n",
      "ref: нам здес зело докучает аднакож для\n",
      "hyp: нам здес зело до куает аднакож для\n",
      "ref: ет указ не описываяс всту\n",
      "hyp: ет указ не опиы влаяс всту\n",
      "ref: ного и возна в заключе\n",
      "hyp: ного авозна в заключе\n",
      "ref: и протчег\n",
      "hyp: i протзг\n",
      "ref: 1\n",
      "hyp: 1\n",
      "ref: хотя за далностию i непърестаными отмѣ\n",
      "hyp: хотя задалностию i нпърестаными отнѣ\n",
      "ref: обявъляю вам что я сюды приѣхал вчерас\n",
      "hyp: обявъляю вѣм чтоь я сюды приѣхал в черас\n",
      "ref: государственных дѣл положит на въ\n",
      "hyp: государственных дѣл положит на въ\n",
      "ref: заранѣе\n",
      "hyp: заранѣе\n",
      "ref: чтоб нашим людем на островѣ не ос\n",
      "hyp: чтоб нашим людем на островѣне ос\n",
      "ref: что мы которой мир i отдачю турком обѣ\n",
      "hyp: что мы которой мир i отдачю турком обѣ\n",
      "ref: долго войскъ держат не можем но\n",
      "hyp: доглго войскъдержат не може но\n",
      "\n",
      "loss: 12.88158\n",
      "CER: 8.42%, WER: 42.82%\n",
      "loss: best 9.93346 | cur 12.88158\n",
      "==================================================\n",
      "epoch: 47\n"
     ]
    },
    {
     "data": {
      "application/vnd.jupyter.widget-view+json": {
       "model_id": "d4a52287f9a14b968f5858caa20d1a3b",
       "version_major": 2,
       "version_minor": 0
      },
      "text/plain": [
       "HBox(children=(HTML(value=''), FloatProgress(value=0.0, max=285.0), HTML(value='')))"
      ]
     },
     "metadata": {},
     "output_type": "display_data"
    },
    {
     "name": "stdout",
     "output_type": "stream",
     "text": [
      "loss: 0.17987\n",
      "loss: 0.06455\n",
      "loss: 0.27924\n",
      "\n"
     ]
    },
    {
     "data": {
      "application/vnd.jupyter.widget-view+json": {
       "model_id": "917f91154ba14b6c9dc56c5bdf7468b3",
       "version_major": 2,
       "version_minor": 0
      },
      "text/plain": [
       "HBox(children=(HTML(value=''), FloatProgress(value=0.0, max=21.0), HTML(value='')))"
      ]
     },
     "metadata": {},
     "output_type": "display_data"
    },
    {
     "name": "stdout",
     "output_type": "stream",
     "text": [
      "ref: + но хорошо мужикоф содержите\n",
      "hyp: + от\n",
      "ref: i тако пѣхота далее\n",
      "hyp: i тако пѣ хота далее\n",
      "ref: римут то б хотя шквадру от 7\n",
      "hyp: римут тоб хотя шквадру отц7\n",
      "ref: рыхъ нужъдахъ пишетъ i то вы\n",
      "hyp: рыхъ нужъ дахѣ пишетъ i товъi\n",
      "ref: чтоб мнѣ мое писмо поттвердит\n",
      "hyp: чтоб мнѣ мое писмо поттвердит\n",
      "ref: жанъ i лутче всякому своей\n",
      "hyp: жанъ i лутче всякому своей\n",
      "ref: зит\n",
      "hyp: зат\n",
      "ref: пѣхотою удержат\n",
      "hyp: пѣхотою удержат\n",
      "ref: нам здес зело докучает аднакож для\n",
      "hyp: нам здес зело до куает аднакож для\n",
      "ref: ет указ не описываяс всту\n",
      "hyp: ет указ не опиы ваяс всту\n",
      "ref: ного и возна в заключе\n",
      "hyp: ного а возна в заключе\n",
      "ref: и протчег\n",
      "hyp: i протзег\n",
      "ref: 1\n",
      "hyp: 1\n",
      "ref: хотя за далностию i непърестаными отмѣ\n",
      "hyp: хотя задал ностию i нпърестаными отнѣ\n",
      "ref: обявъляю вам что я сюды приѣхал вчерас\n",
      "hyp: обявъляю вѣм чть я сюды приѣхал в черас\n",
      "ref: государственных дѣл положит на въ\n",
      "hyp: государственных дѣл положит на въ\n",
      "ref: заранѣе\n",
      "hyp: заранѣе\n",
      "ref: чтоб нашим людем на островѣ не ос\n",
      "hyp: чтоб нашим людем на островѣне ос\n",
      "ref: что мы которой мир i отдачю турком обѣ\n",
      "hyp: что мы которой мир i отдачю турком обѣ\n",
      "ref: долго войскъ держат не можем но\n",
      "hyp: долго войскъдержат не можемно\n",
      "\n",
      "loss: 12.79326\n",
      "CER: 8.33%, WER: 42.25%\n",
      "loss: best 9.93346 | cur 12.79326\n",
      "==================================================\n",
      "epoch: 48\n"
     ]
    },
    {
     "data": {
      "application/vnd.jupyter.widget-view+json": {
       "model_id": "26e44a42706c4319841c052a7b36da24",
       "version_major": 2,
       "version_minor": 0
      },
      "text/plain": [
       "HBox(children=(HTML(value=''), FloatProgress(value=0.0, max=285.0), HTML(value='')))"
      ]
     },
     "metadata": {},
     "output_type": "display_data"
    },
    {
     "name": "stdout",
     "output_type": "stream",
     "text": [
      "loss: 0.16471\n",
      "loss: 0.08539\n",
      "loss: 0.07766\n",
      "\n"
     ]
    },
    {
     "data": {
      "application/vnd.jupyter.widget-view+json": {
       "model_id": "ed81b20ac1c84c2890e00a23910c6ed0",
       "version_major": 2,
       "version_minor": 0
      },
      "text/plain": [
       "HBox(children=(HTML(value=''), FloatProgress(value=0.0, max=21.0), HTML(value='')))"
      ]
     },
     "metadata": {},
     "output_type": "display_data"
    },
    {
     "name": "stdout",
     "output_type": "stream",
     "text": [
      "ref: + но хорошо мужикоф содержите\n",
      "hyp: + от\n",
      "ref: i тако пѣхота далее\n",
      "hyp: i тако пѣхота далее\n",
      "ref: римут то б хотя шквадру от 7\n",
      "hyp: римут то б хотя шква дру отц7\n",
      "ref: рыхъ нужъдахъ пишетъ i то вы\n",
      "hyp: рыхъ нудоъ далъпишетъ i товъi\n",
      "ref: чтоб мнѣ мое писмо поттвердит\n",
      "hyp: чтоб мнѣ мое писмо поттвердит\n",
      "ref: жанъ i лутче всякому своей\n",
      "hyp: жанъ i лутче всякому своей\n",
      "ref: зит\n",
      "hyp: зат\n",
      "ref: пѣхотою удержат\n",
      "hyp: пѣхотою удержат\n",
      "ref: нам здес зело докучает аднакож для\n",
      "hyp: нам здес зело до куает адднакож для\n",
      "ref: ет указ не описываяс всту\n",
      "hyp: ет указнеопиы ваяс всту\n",
      "ref: ного и возна в заключе\n",
      "hyp: ного авозна в заключе\n",
      "ref: и протчег\n",
      "hyp: i протзег\n",
      "ref: 1\n",
      "hyp: 1\n",
      "ref: хотя за далностию i непърестаными отмѣ\n",
      "hyp: хотя задал ностию i нпърестаными отнѣ\n",
      "ref: обявъляю вам что я сюды приѣхал вчерас\n",
      "hyp: обявъляю вѣм чть я сюды приѣхал в черас\n",
      "ref: государственных дѣл положит на въ\n",
      "hyp: государственных дѣл положит на въ\n",
      "ref: заранѣе\n",
      "hyp: заранѣе\n",
      "ref: чтоб нашим людем на островѣ не ос\n",
      "hyp: чтоб нашим людем на островѣне ос\n",
      "ref: что мы которой мир i отдачю турком обѣ\n",
      "hyp: что мы которой мир i отдачю турком обѣ\n",
      "ref: долго войскъ держат не можем но\n",
      "hyp: догго войскъдержат не можемно\n",
      "\n",
      "loss: 13.37234\n",
      "CER: 8.47%, WER: 42.58%\n",
      "loss: best 9.93346 | cur 13.37234\n",
      "==================================================\n",
      "epoch: 49\n"
     ]
    },
    {
     "data": {
      "application/vnd.jupyter.widget-view+json": {
       "model_id": "4f20124807b24c82878302409c907d61",
       "version_major": 2,
       "version_minor": 0
      },
      "text/plain": [
       "HBox(children=(HTML(value=''), FloatProgress(value=0.0, max=285.0), HTML(value='')))"
      ]
     },
     "metadata": {},
     "output_type": "display_data"
    },
    {
     "name": "stdout",
     "output_type": "stream",
     "text": [
      "loss: 0.04315\n",
      "loss: 0.06839\n",
      "loss: 0.20208\n",
      "\n"
     ]
    },
    {
     "data": {
      "application/vnd.jupyter.widget-view+json": {
       "model_id": "8d84424949664d909d963017c6652c03",
       "version_major": 2,
       "version_minor": 0
      },
      "text/plain": [
       "HBox(children=(HTML(value=''), FloatProgress(value=0.0, max=21.0), HTML(value='')))"
      ]
     },
     "metadata": {},
     "output_type": "display_data"
    },
    {
     "name": "stdout",
     "output_type": "stream",
     "text": [
      "ref: + но хорошо мужикоф содержите\n",
      "hyp: + т\n",
      "ref: i тако пѣхота далее\n",
      "hyp: i тако пѣ хота далее\n",
      "ref: римут то б хотя шквадру от 7\n",
      "hyp: римут тоб хотя шквадру от7\n",
      "ref: рыхъ нужъдахъ пишетъ i то вы\n",
      "hyp: рыхъ нужъ дахъ пишетъ i товъi\n",
      "ref: чтоб мнѣ мое писмо поттвердит\n",
      "hyp: чтоб мнѣ мое писмо поттвердит\n",
      "ref: жанъ i лутче всякому своей\n",
      "hyp: жанъ i лутче всякому своей\n",
      "ref: зит\n",
      "hyp: зит\n",
      "ref: пѣхотою удержат\n",
      "hyp: пѣхотою удержат\n",
      "ref: нам здес зело докучает аднакож для\n",
      "hyp: нам здес зело до куает аднакож для\n",
      "ref: ет указ не описываяс всту\n",
      "hyp: ет указ неопиы влаяс всту\n",
      "ref: ного и возна в заключе\n",
      "hyp: ного а возна в заключе\n",
      "ref: и протчег\n",
      "hyp: i протг\n",
      "ref: 1\n",
      "hyp: 1\n",
      "ref: хотя за далностию i непърестаными отмѣ\n",
      "hyp: хотя задал ностию i наърестаными отнѣ\n",
      "ref: обявъляю вам что я сюды приѣхал вчерас\n",
      "hyp: обявъляю вѣм что я сюды приѣхал в че рас\n",
      "ref: государственных дѣл положит на въ\n",
      "hyp: государственных дѣл положит на въ\n",
      "ref: заранѣе\n",
      "hyp: заранѣе\n",
      "ref: чтоб нашим людем на островѣ не ос\n",
      "hyp: чтоб нашим людем на островѣне ос\n",
      "ref: что мы которой мир i отдачю турком обѣ\n",
      "hyp: что мы которой мир i отдачю турком обѣ\n",
      "ref: долго войскъ держат не можем но\n",
      "hyp: доглго войскъдержат не можем но\n",
      "\n",
      "loss: 13.32467\n",
      "CER: 8.23%, WER: 41.45%\n",
      "loss: best 9.93346 | cur 13.32467\n",
      "==================================================\n",
      "epoch: 50\n"
     ]
    },
    {
     "data": {
      "application/vnd.jupyter.widget-view+json": {
       "model_id": "e9fe4dcd74d74dda8c62301107110e1b",
       "version_major": 2,
       "version_minor": 0
      },
      "text/plain": [
       "HBox(children=(HTML(value=''), FloatProgress(value=0.0, max=285.0), HTML(value='')))"
      ]
     },
     "metadata": {},
     "output_type": "display_data"
    },
    {
     "name": "stdout",
     "output_type": "stream",
     "text": [
      "loss: 0.04253\n",
      "loss: 3.13092\n",
      "loss: 0.07728\n",
      "\n"
     ]
    },
    {
     "data": {
      "application/vnd.jupyter.widget-view+json": {
       "model_id": "25705350a7dc4cd3b100bfe04535977d",
       "version_major": 2,
       "version_minor": 0
      },
      "text/plain": [
       "HBox(children=(HTML(value=''), FloatProgress(value=0.0, max=21.0), HTML(value='')))"
      ]
     },
     "metadata": {},
     "output_type": "display_data"
    },
    {
     "name": "stdout",
     "output_type": "stream",
     "text": [
      "ref: + но хорошо мужикоф содержите\n",
      "hyp: + ет\n",
      "ref: i тако пѣхота далее\n",
      "hyp: i тако пѣ хота далее\n",
      "ref: римут то б хотя шквадру от 7\n",
      "hyp: римут то б хотя шквадру отц\n",
      "ref: рыхъ нужъдахъ пишетъ i то вы\n",
      "hyp: рыхъ нужъ дахъ пишетъ i товъi\n",
      "ref: чтоб мнѣ мое писмо поттвердит\n",
      "hyp: чтоб мнѣ мое писмо поттвердит\n",
      "ref: жанъ i лутче всякому своей\n",
      "hyp: жанъ i лутче всякому своей\n",
      "ref: зит\n",
      "hyp: зит\n",
      "ref: пѣхотою удержат\n",
      "hyp: пѣхотою удержат\n",
      "ref: нам здес зело докучает аднакож для\n",
      "hyp: нам здес зело до куает аднакож для\n",
      "ref: ет указ не описываяс всту\n",
      "hyp: ет указ неопиы ваяс всту\n",
      "ref: ного и возна в заключе\n",
      "hyp: ного а возна в заключе\n",
      "ref: и протчег\n",
      "hyp: i протег\n",
      "ref: 1\n",
      "hyp: 1\n",
      "ref: хотя за далностию i непърестаными отмѣ\n",
      "hyp: хотя задал ностию i нпърестаными отнѣ\n",
      "ref: обявъляю вам что я сюды приѣхал вчерас\n",
      "hyp: обявъляю вѣм что я сюды приѣхал в челас\n",
      "ref: государственных дѣл положит на въ\n",
      "hyp: государственных дѣл положит на въ\n",
      "ref: заранѣе\n",
      "hyp: заранѣе\n",
      "ref: чтоб нашим людем на островѣ не ос\n",
      "hyp: чтоб нашим людем на островѣне ос\n",
      "ref: что мы которой мир i отдачю турком обѣ\n",
      "hyp: что мы которой мир i отдачю турком обѣ\n",
      "ref: долго войскъ держат не можем но\n",
      "hyp: долго войскъдержат не може но\n",
      "\n",
      "loss: 13.40092\n",
      "CER: 8.09%, WER: 40.37%\n",
      "Epoch    50: reducing learning rate of group 0 to 1.1765e-04.\n",
      "loss: best 9.93346 | cur 13.40092\n",
      "==================================================\n",
      "epoch: 51\n"
     ]
    },
    {
     "data": {
      "application/vnd.jupyter.widget-view+json": {
       "model_id": "ec5aaddd36934be4a4d62c0880a067b9",
       "version_major": 2,
       "version_minor": 0
      },
      "text/plain": [
       "HBox(children=(HTML(value=''), FloatProgress(value=0.0, max=285.0), HTML(value='')))"
      ]
     },
     "metadata": {},
     "output_type": "display_data"
    },
    {
     "name": "stdout",
     "output_type": "stream",
     "text": [
      "loss: 0.06030\n",
      "loss: 0.02839\n",
      "loss: 0.12042\n",
      "\n"
     ]
    },
    {
     "data": {
      "application/vnd.jupyter.widget-view+json": {
       "model_id": "da37032945bf436ca72f5381900227d9",
       "version_major": 2,
       "version_minor": 0
      },
      "text/plain": [
       "HBox(children=(HTML(value=''), FloatProgress(value=0.0, max=21.0), HTML(value='')))"
      ]
     },
     "metadata": {},
     "output_type": "display_data"
    },
    {
     "name": "stdout",
     "output_type": "stream",
     "text": [
      "ref: + но хорошо мужикоф содержите\n",
      "hyp: + то\n",
      "ref: i тако пѣхота далее\n",
      "hyp: i тако пѣхота далее\n",
      "ref: римут то б хотя шквадру от 7\n",
      "hyp: римут тоб хотя шквадру отц7\n",
      "ref: рыхъ нужъдахъ пишетъ i то вы\n",
      "hyp: рыхъ нужъ дахъ пишетъ i товъi\n",
      "ref: чтоб мнѣ мое писмо поттвердит\n",
      "hyp: чтоб мнѣмое писмо поттвердит\n",
      "ref: жанъ i лутче всякому своей\n",
      "hyp: жанъ i лутче всякому своей\n",
      "ref: зит\n",
      "hyp: зит\n",
      "ref: пѣхотою удержат\n",
      "hyp: пѣхотою удержат\n",
      "ref: нам здес зело докучает аднакож для\n",
      "hyp: нам здес зело до куает аднакож для\n",
      "ref: ет указ не описываяс всту\n",
      "hyp: ет указ неопиы ваяс всту\n",
      "ref: ного и возна в заключе\n",
      "hyp: ного а возна в заключе\n",
      "ref: и протчег\n",
      "hyp: i протег\n",
      "ref: 1\n",
      "hyp: 1\n",
      "ref: хотя за далностию i непърестаными отмѣ\n",
      "hyp: хотя задал ностию i нпърестаными отнѣ\n",
      "ref: обявъляю вам что я сюды приѣхал вчерас\n",
      "hyp: обявъляю вѣм чтоь я сюды приѣхал в черас\n",
      "ref: государственных дѣл положит на въ\n",
      "hyp: государственных дѣл положит на въ\n",
      "ref: заранѣе\n",
      "hyp: заранѣе\n",
      "ref: чтоб нашим людем на островѣ не ос\n",
      "hyp: чтоб нашим людем на островѣне ос\n",
      "ref: что мы которой мир i отдачю турком обѣ\n",
      "hyp: что мы которой мир i отдачю турком обѣ\n",
      "ref: долго войскъ держат не можем но\n",
      "hyp: долго войскъдержат не можем но\n",
      "\n",
      "loss: 13.22458\n",
      "CER: 8.26%, WER: 41.40%\n",
      "loss: best 9.93346 | cur 13.22458\n",
      "==================================================\n",
      "epoch: 52\n"
     ]
    },
    {
     "data": {
      "application/vnd.jupyter.widget-view+json": {
       "model_id": "6d14bfdf8b2e4388b3bcddb192c189ab",
       "version_major": 2,
       "version_minor": 0
      },
      "text/plain": [
       "HBox(children=(HTML(value=''), FloatProgress(value=0.0, max=285.0), HTML(value='')))"
      ]
     },
     "metadata": {},
     "output_type": "display_data"
    },
    {
     "name": "stdout",
     "output_type": "stream",
     "text": [
      "loss: 0.06864\n",
      "loss: 0.05530\n",
      "loss: 0.04518\n",
      "\n"
     ]
    },
    {
     "data": {
      "application/vnd.jupyter.widget-view+json": {
       "model_id": "d51c3a34c1824acf96bfaccdb62389be",
       "version_major": 2,
       "version_minor": 0
      },
      "text/plain": [
       "HBox(children=(HTML(value=''), FloatProgress(value=0.0, max=21.0), HTML(value='')))"
      ]
     },
     "metadata": {},
     "output_type": "display_data"
    },
    {
     "name": "stdout",
     "output_type": "stream",
     "text": [
      "ref: + но хорошо мужикоф содержите\n",
      "hyp: + ноо\n",
      "ref: i тако пѣхота далее\n",
      "hyp: i тако пѣ хота далее\n",
      "ref: римут то б хотя шквадру от 7\n",
      "hyp: римут тоб хотя шквадру от7\n",
      "ref: рыхъ нужъдахъ пишетъ i то вы\n",
      "hyp: рыхъ нужъ дахъ пишетъ i товъi\n",
      "ref: чтоб мнѣ мое писмо поттвердит\n",
      "hyp: чтоб мнѣ мое писмо поттвердит\n",
      "ref: жанъ i лутче всякому своей\n",
      "hyp: жанъ i лутче всякому своей\n",
      "ref: зит\n",
      "hyp: зит\n",
      "ref: пѣхотою удержат\n",
      "hyp: пѣхотою удержат\n",
      "ref: нам здес зело докучает аднакож для\n",
      "hyp: нам здес зело до куает аднакож для\n",
      "ref: ет указ не описываяс всту\n",
      "hyp: ет указ неопиы влаяс всту\n",
      "ref: ного и возна в заключе\n",
      "hyp: ного а возна в заключе\n",
      "ref: и протчег\n",
      "hyp: i протзег\n",
      "ref: 1\n",
      "hyp: 1\n",
      "ref: хотя за далностию i непърестаными отмѣ\n",
      "hyp: хотя задал ностию i нпърестаными отнѣ\n",
      "ref: обявъляю вам что я сюды приѣхал вчерас\n",
      "hyp: обявъляю вѣм чтоь я сюды приѣхал в черас\n",
      "ref: государственных дѣл положит на въ\n",
      "hyp: говударственных дѣл положит на въ\n",
      "ref: заранѣе\n",
      "hyp: заранѣе\n",
      "ref: чтоб нашим людем на островѣ не ос\n",
      "hyp: чтоб нашим людем на островѣне ос\n",
      "ref: что мы которой мир i отдачю турком обѣ\n",
      "hyp: что мы которой мир i отдачю турком обѣ\n",
      "ref: долго войскъ держат не можем но\n",
      "hyp: долго войскъдержат не можем но\n",
      "\n",
      "loss: 13.33818\n",
      "CER: 8.27%, WER: 41.64%\n",
      "loss: best 9.93346 | cur 13.33818\n",
      "==================================================\n",
      "epoch: 53\n"
     ]
    },
    {
     "data": {
      "application/vnd.jupyter.widget-view+json": {
       "model_id": "76b94e1db05c47aa80cacfd8a5a1d9c4",
       "version_major": 2,
       "version_minor": 0
      },
      "text/plain": [
       "HBox(children=(HTML(value=''), FloatProgress(value=0.0, max=285.0), HTML(value='')))"
      ]
     },
     "metadata": {},
     "output_type": "display_data"
    },
    {
     "name": "stdout",
     "output_type": "stream",
     "text": [
      "loss: 0.05404\n",
      "loss: 0.02373\n",
      "loss: 0.01723\n",
      "\n"
     ]
    },
    {
     "data": {
      "application/vnd.jupyter.widget-view+json": {
       "model_id": "8e745d34379b4400b2261c1c7b48f8ff",
       "version_major": 2,
       "version_minor": 0
      },
      "text/plain": [
       "HBox(children=(HTML(value=''), FloatProgress(value=0.0, max=21.0), HTML(value='')))"
      ]
     },
     "metadata": {},
     "output_type": "display_data"
    },
    {
     "name": "stdout",
     "output_type": "stream",
     "text": [
      "ref: + но хорошо мужикоф содержите\n",
      "hyp: + нат\n",
      "ref: i тако пѣхота далее\n",
      "hyp: i тако пѣхота далее\n",
      "ref: римут то б хотя шквадру от 7\n",
      "hyp: римут тоб хотя шквадру отц\n",
      "ref: рыхъ нужъдахъ пишетъ i то вы\n",
      "hyp: рыхъ нужъ дахъ пишетъ i товъi\n",
      "ref: чтоб мнѣ мое писмо поттвердит\n",
      "hyp: чтоб мнѣ мое писмо поттвердит\n",
      "ref: жанъ i лутче всякому своей\n",
      "hyp: жанъ i лутче всякому своей\n",
      "ref: зит\n",
      "hyp: зит\n",
      "ref: пѣхотою удержат\n",
      "hyp: пѣхотою удержат\n",
      "ref: нам здес зело докучает аднакож для\n",
      "hyp: нам здес зело до куает аднакож для\n",
      "ref: ет указ не описываяс всту\n",
      "hyp: ет указ неопиы влаяс всту\n",
      "ref: ного и возна в заключе\n",
      "hyp: ного а возна в заключе\n",
      "ref: и протчег\n",
      "hyp: i протзег\n",
      "ref: 1\n",
      "hyp: 1\n",
      "ref: хотя за далностию i непърестаными отмѣ\n",
      "hyp: хотя задал ностию i нпърестаными отнѣ\n",
      "ref: обявъляю вам что я сюды приѣхал вчерас\n",
      "hyp: обявъляю вом что я сюды приѣхал в черас\n",
      "ref: государственных дѣл положит на въ\n",
      "hyp: говударственных дѣл положит на въ\n",
      "ref: заранѣе\n",
      "hyp: заранѣе\n",
      "ref: чтоб нашим людем на островѣ не ос\n",
      "hyp: чтоб нашим людем на островѣне ос\n",
      "ref: что мы которой мир i отдачю турком обѣ\n",
      "hyp: что мы которой мир i отдачю турком обѣ\n",
      "ref: долго войскъ держат не можем но\n",
      "hyp: долго войскъдержат не можем но\n",
      "\n",
      "loss: 13.35650\n",
      "CER: 8.27%, WER: 40.37%\n",
      "loss: best 9.93346 | cur 13.35650\n",
      "==================================================\n",
      "epoch: 54\n"
     ]
    },
    {
     "data": {
      "application/vnd.jupyter.widget-view+json": {
       "model_id": "abc7525e93ec42c99496fba40e1c29b9",
       "version_major": 2,
       "version_minor": 0
      },
      "text/plain": [
       "HBox(children=(HTML(value=''), FloatProgress(value=0.0, max=285.0), HTML(value='')))"
      ]
     },
     "metadata": {},
     "output_type": "display_data"
    },
    {
     "name": "stdout",
     "output_type": "stream",
     "text": [
      "loss: 6.73614\n",
      "loss: 0.05697\n",
      "loss: 0.04679\n",
      "\n"
     ]
    },
    {
     "data": {
      "application/vnd.jupyter.widget-view+json": {
       "model_id": "de93d7b736b24c319d4c996b26a9bf77",
       "version_major": 2,
       "version_minor": 0
      },
      "text/plain": [
       "HBox(children=(HTML(value=''), FloatProgress(value=0.0, max=21.0), HTML(value='')))"
      ]
     },
     "metadata": {},
     "output_type": "display_data"
    },
    {
     "name": "stdout",
     "output_type": "stream",
     "text": [
      "ref: + но хорошо мужикоф содержите\n",
      "hyp: + н оо\n",
      "ref: i тако пѣхота далее\n",
      "hyp: i тако пѣхота далее\n",
      "ref: римут то б хотя шквадру от 7\n",
      "hyp: римут тоб хотя шквадру отц\n",
      "ref: рыхъ нужъдахъ пишетъ i то вы\n",
      "hyp: рыхъ нужъ дахъ пишетъ i товъi\n",
      "ref: чтоб мнѣ мое писмо поттвердит\n",
      "hyp: чтоб мнѣ мое писмо поттвердит\n",
      "ref: жанъ i лутче всякому своей\n",
      "hyp: жанъ i лутче всякому своей\n",
      "ref: зит\n",
      "hyp: зат\n",
      "ref: пѣхотою удержат\n",
      "hyp: пѣхотою удержат\n",
      "ref: нам здес зело докучает аднакож для\n",
      "hyp: нам здес зело до куает аднакож для\n",
      "ref: ет указ не описываяс всту\n",
      "hyp: ет указ неопиы ваяс всту\n",
      "ref: ного и возна в заключе\n",
      "hyp: ного авозна в заключе\n",
      "ref: и протчег\n",
      "hyp: i протзг\n",
      "ref: 1\n",
      "hyp: 1\n",
      "ref: хотя за далностию i непърестаными отмѣ\n",
      "hyp: хотя задал ностию i нпърестаными отнѣ\n",
      "ref: обявъляю вам что я сюды приѣхал вчерас\n",
      "hyp: обявъляю вѣм что я сюды приѣхал в черас\n",
      "ref: государственных дѣл положит на въ\n",
      "hyp: государственных дѣл положит на въ\n",
      "ref: заранѣе\n",
      "hyp: заранѣе\n",
      "ref: чтоб нашим людем на островѣ не ос\n",
      "hyp: чтоб нашим людем на островѣ не ос\n",
      "ref: что мы которой мир i отдачю турком обѣ\n",
      "hyp: что мы которой мир i отдачю турком обѣ\n",
      "ref: долго войскъ держат не можем но\n",
      "hyp: долго войскъдержат не можем но\n",
      "\n",
      "loss: 13.49303\n",
      "CER: 8.38%, WER: 41.97%\n",
      "loss: best 9.93346 | cur 13.49303\n",
      "==================================================\n",
      "epoch: 55\n"
     ]
    },
    {
     "data": {
      "application/vnd.jupyter.widget-view+json": {
       "model_id": "a4be98c9170a4760b66bbbed2e041b1c",
       "version_major": 2,
       "version_minor": 0
      },
      "text/plain": [
       "HBox(children=(HTML(value=''), FloatProgress(value=0.0, max=285.0), HTML(value='')))"
      ]
     },
     "metadata": {},
     "output_type": "display_data"
    },
    {
     "name": "stdout",
     "output_type": "stream",
     "text": [
      "loss: 0.10233\n",
      "loss: 0.09932\n",
      "loss: 0.04309\n",
      "\n"
     ]
    },
    {
     "data": {
      "application/vnd.jupyter.widget-view+json": {
       "model_id": "58ca9c5c566b409b89f03086b54682e1",
       "version_major": 2,
       "version_minor": 0
      },
      "text/plain": [
       "HBox(children=(HTML(value=''), FloatProgress(value=0.0, max=21.0), HTML(value='')))"
      ]
     },
     "metadata": {},
     "output_type": "display_data"
    },
    {
     "name": "stdout",
     "output_type": "stream",
     "text": [
      "ref: + но хорошо мужикоф содержите\n",
      "hyp: + наат\n",
      "ref: i тако пѣхота далее\n",
      "hyp: i тако пѣхота далее\n",
      "ref: римут то б хотя шквадру от 7\n",
      "hyp: римут тоб хотя шквадру отц\n",
      "ref: рыхъ нужъдахъ пишетъ i то вы\n",
      "hyp: рыхъ нужъ дахъ пишетъ i товъi\n",
      "ref: чтоб мнѣ мое писмо поттвердит\n",
      "hyp: чтоб мнѣ мое писмо поттвердитт\n",
      "ref: жанъ i лутче всякому своей\n",
      "hyp: жанъ i лутче всякому своей\n",
      "ref: зит\n",
      "hyp: зат\n",
      "ref: пѣхотою удержат\n",
      "hyp: пѣхотою удержат\n",
      "ref: нам здес зело докучает аднакож для\n",
      "hyp: нам здес зело до куает аднакож для\n",
      "ref: ет указ не описываяс всту\n",
      "hyp: ет указнеопиы влаяс всту\n",
      "ref: ного и возна в заключе\n",
      "hyp: ного а возна в заключе\n",
      "ref: и протчег\n",
      "hyp: i протзг\n",
      "ref: 1\n",
      "hyp: 1\n",
      "ref: хотя за далностию i непърестаными отмѣ\n",
      "hyp: хотя задал ностию i непърестаными отнѣ\n",
      "ref: обявъляю вам что я сюды приѣхал вчерас\n",
      "hyp: обявъляю вѣм что я сюды приѣхал в челас\n",
      "ref: государственных дѣл положит на въ\n",
      "hyp: государственных дѣл положит на въ\n",
      "ref: заранѣе\n",
      "hyp: заранѣе\n",
      "ref: чтоб нашим людем на островѣ не ос\n",
      "hyp: чтоб нашим людем на островѣне ос\n",
      "ref: что мы которой мир i отдачю турком обѣ\n",
      "hyp: что мы которой мир i отдачю турком обѣ\n",
      "ref: долго войскъ держат не можем но\n",
      "hyp: долго войскъдержат не можем но\n",
      "\n",
      "loss: 13.54467\n",
      "CER: 8.37%, WER: 41.17%\n",
      "loss: best 9.93346 | cur 13.54467\n",
      "==================================================\n",
      "epoch: 56\n"
     ]
    },
    {
     "data": {
      "application/vnd.jupyter.widget-view+json": {
       "model_id": "9aa8006944d84228ac18ca5ef9029290",
       "version_major": 2,
       "version_minor": 0
      },
      "text/plain": [
       "HBox(children=(HTML(value=''), FloatProgress(value=0.0, max=285.0), HTML(value='')))"
      ]
     },
     "metadata": {},
     "output_type": "display_data"
    },
    {
     "name": "stdout",
     "output_type": "stream",
     "text": [
      "loss: 0.04125\n",
      "loss: 0.08440\n",
      "loss: 0.05968\n",
      "\n"
     ]
    },
    {
     "data": {
      "application/vnd.jupyter.widget-view+json": {
       "model_id": "3024a7f45c094f678bc5839d2c8d868b",
       "version_major": 2,
       "version_minor": 0
      },
      "text/plain": [
       "HBox(children=(HTML(value=''), FloatProgress(value=0.0, max=21.0), HTML(value='')))"
      ]
     },
     "metadata": {},
     "output_type": "display_data"
    },
    {
     "name": "stdout",
     "output_type": "stream",
     "text": [
      "ref: + но хорошо мужикоф содержите\n",
      "hyp: + ноет\n",
      "ref: i тако пѣхота далее\n",
      "hyp: i тако пѣ хота далее\n",
      "ref: римут то б хотя шквадру от 7\n",
      "hyp: римут тоб хотя шквадру отц\n",
      "ref: рыхъ нужъдахъ пишетъ i то вы\n",
      "hyp: рыхъ нужъ дахъ пишетъ i товъi\n",
      "ref: чтоб мнѣ мое писмо поттвердит\n",
      "hyp: чтоб мнѣ мое писмо поттвердит\n",
      "ref: жанъ i лутче всякому своей\n",
      "hyp: жанъ i лутче всякому своей\n",
      "ref: зит\n",
      "hyp: зиат\n",
      "ref: пѣхотою удержат\n",
      "hyp: пѣхотою удержат\n",
      "ref: нам здес зело докучает аднакож для\n",
      "hyp: нам здес зело до куает аднакож для\n",
      "ref: ет указ не описываяс всту\n",
      "hyp: ет указнеопиы ваяс всту\n",
      "ref: ного и возна в заключе\n",
      "hyp: ного а возна в заключе\n",
      "ref: и протчег\n",
      "hyp: i протзег\n",
      "ref: 1\n",
      "hyp: 1\n",
      "ref: хотя за далностию i непърестаными отмѣ\n",
      "hyp: хотя задалностию i непърестаными отнѣ\n",
      "ref: обявъляю вам что я сюды приѣхал вчерас\n",
      "hyp: обявъляю вѣм что я сюды приѣхал в челас\n",
      "ref: государственных дѣл положит на въ\n",
      "hyp: государственных дѣл положит на въ\n",
      "ref: заранѣе\n",
      "hyp: заранѣе\n",
      "ref: чтоб нашим людем на островѣ не ос\n",
      "hyp: чтоб нашим людем наостровѣне ос\n",
      "ref: что мы которой мир i отдачю турком обѣ\n",
      "hyp: что мы которой мир i отдачю турком обѣ\n",
      "ref: долго войскъ держат не можем но\n",
      "hyp: долго войскъдержат не може но\n",
      "\n",
      "loss: 13.63007\n",
      "CER: 8.28%, WER: 40.89%\n",
      "Epoch    56: reducing learning rate of group 0 to 8.2354e-05.\n",
      "loss: best 9.93346 | cur 13.63007\n",
      "==================================================\n",
      "epoch: 57\n"
     ]
    },
    {
     "data": {
      "application/vnd.jupyter.widget-view+json": {
       "model_id": "f69d05924f82487d97aef055c73a1617",
       "version_major": 2,
       "version_minor": 0
      },
      "text/plain": [
       "HBox(children=(HTML(value=''), FloatProgress(value=0.0, max=285.0), HTML(value='')))"
      ]
     },
     "metadata": {},
     "output_type": "display_data"
    },
    {
     "name": "stdout",
     "output_type": "stream",
     "text": [
      "loss: 0.04381\n",
      "loss: 0.03034\n",
      "loss: 0.04719\n",
      "\n"
     ]
    },
    {
     "data": {
      "application/vnd.jupyter.widget-view+json": {
       "model_id": "8d75e1e38d8f449ca2447ea8cc97c4f3",
       "version_major": 2,
       "version_minor": 0
      },
      "text/plain": [
       "HBox(children=(HTML(value=''), FloatProgress(value=0.0, max=21.0), HTML(value='')))"
      ]
     },
     "metadata": {},
     "output_type": "display_data"
    },
    {
     "name": "stdout",
     "output_type": "stream",
     "text": [
      "ref: + но хорошо мужикоф содержите\n",
      "hyp: + наа\n",
      "ref: i тако пѣхота далее\n",
      "hyp: i тако пѣхота далее\n",
      "ref: римут то б хотя шквадру от 7\n",
      "hyp: римут тоб хотя шквадру отц\n",
      "ref: рыхъ нужъдахъ пишетъ i то вы\n",
      "hyp: рыхъ нужъ дахъ пишетъ i товъi\n",
      "ref: чтоб мнѣ мое писмо поттвердит\n",
      "hyp: чтоб мнѣ мое писмо поттвердит\n",
      "ref: жанъ i лутче всякому своей\n",
      "hyp: жанъ i лутче всякому своей\n",
      "ref: зит\n",
      "hyp: зит\n",
      "ref: пѣхотою удержат\n",
      "hyp: пѣхотою удержат\n",
      "ref: нам здес зело докучает аднакож для\n",
      "hyp: нам здес зело до куает аднакож для\n",
      "ref: ет указ не описываяс всту\n",
      "hyp: ет указнеопиы ваяс всту\n",
      "ref: ного и возна в заключе\n",
      "hyp: ного авозна в заключе\n",
      "ref: и протчег\n",
      "hyp: i протзег\n",
      "ref: 1\n",
      "hyp: 1\n",
      "ref: хотя за далностию i непърестаными отмѣ\n",
      "hyp: хотя задалностию i непърестаными отнѣ\n",
      "ref: обявъляю вам что я сюды приѣхал вчерас\n",
      "hyp: обявъляю вам что я сюды приѣхал в челас\n",
      "ref: государственных дѣл положит на въ\n",
      "hyp: государственных дѣл положит на въ\n",
      "ref: заранѣе\n",
      "hyp: заранѣе\n",
      "ref: чтоб нашим людем на островѣ не ос\n",
      "hyp: чтоб нашим людем на островѣне ос\n",
      "ref: что мы которой мир i отдачю турком обѣ\n",
      "hyp: что мы которой мир i отдачю турком обѣ\n",
      "ref: долго войскъ держат не можем но\n",
      "hyp: долго войскъдержат не можем но\n",
      "\n",
      "loss: 13.52883\n",
      "CER: 8.18%, WER: 40.65%\n",
      "loss: best 9.93346 | cur 13.52883\n",
      "==================================================\n",
      "epoch: 58\n"
     ]
    },
    {
     "data": {
      "application/vnd.jupyter.widget-view+json": {
       "model_id": "542631242962488a90b2fddaace7a367",
       "version_major": 2,
       "version_minor": 0
      },
      "text/plain": [
       "HBox(children=(HTML(value=''), FloatProgress(value=0.0, max=285.0), HTML(value='')))"
      ]
     },
     "metadata": {},
     "output_type": "display_data"
    },
    {
     "name": "stdout",
     "output_type": "stream",
     "text": [
      "loss: 0.04951\n",
      "loss: 0.03724\n",
      "\n"
     ]
    },
    {
     "ename": "KeyboardInterrupt",
     "evalue": "",
     "output_type": "error",
     "traceback": [
      "\u001b[0;31m---------------------------------------------------------------------------\u001b[0m",
      "\u001b[0;31mKeyboardInterrupt\u001b[0m                         Traceback (most recent call last)",
      "\u001b[0;32m<ipython-input-30-6523114ac573>\u001b[0m in \u001b[0;36m<module>\u001b[0;34m\u001b[0m\n\u001b[1;32m      8\u001b[0m     \u001b[0mprint\u001b[0m\u001b[0;34m(\u001b[0m\u001b[0;34m\"=\"\u001b[0m \u001b[0;34m*\u001b[0m \u001b[0;36m50\u001b[0m\u001b[0;34m)\u001b[0m\u001b[0;34m\u001b[0m\u001b[0;34m\u001b[0m\u001b[0m\n\u001b[1;32m      9\u001b[0m     \u001b[0mprint\u001b[0m\u001b[0;34m(\u001b[0m\u001b[0;34mf\"epoch: {i_epoch + 1}\"\u001b[0m\u001b[0;34m)\u001b[0m\u001b[0;34m\u001b[0m\u001b[0;34m\u001b[0m\u001b[0m\n\u001b[0;32m---> 10\u001b[0;31m     \u001b[0mtrain_model\u001b[0m\u001b[0;34m(\u001b[0m\u001b[0;34m)\u001b[0m\u001b[0;34m\u001b[0m\u001b[0;34m\u001b[0m\u001b[0m\n\u001b[0m\u001b[1;32m     11\u001b[0m     \u001b[0mprev_loss\u001b[0m \u001b[0;34m=\u001b[0m \u001b[0mcur_loss\u001b[0m\u001b[0;34m\u001b[0m\u001b[0;34m\u001b[0m\u001b[0m\n\u001b[1;32m     12\u001b[0m     \u001b[0mcur_loss\u001b[0m \u001b[0;34m=\u001b[0m \u001b[0mval_model\u001b[0m\u001b[0;34m(\u001b[0m\u001b[0;34m)\u001b[0m\u001b[0;34m\u001b[0m\u001b[0;34m\u001b[0m\u001b[0m\n",
      "\u001b[0;32m<ipython-input-27-aba4e266f3c7>\u001b[0m in \u001b[0;36mtrain_model\u001b[0;34m()\u001b[0m\n\u001b[1;32m      5\u001b[0m         \u001b[0moptimizer\u001b[0m\u001b[0;34m.\u001b[0m\u001b[0mzero_grad\u001b[0m\u001b[0;34m(\u001b[0m\u001b[0;34m)\u001b[0m\u001b[0;34m\u001b[0m\u001b[0;34m\u001b[0m\u001b[0m\n\u001b[1;32m      6\u001b[0m         \u001b[0mlogits\u001b[0m \u001b[0;34m=\u001b[0m \u001b[0mmodel\u001b[0m\u001b[0;34m(\u001b[0m\u001b[0mimages\u001b[0m\u001b[0;34m)\u001b[0m\u001b[0;34m.\u001b[0m\u001b[0mtranspose\u001b[0m\u001b[0;34m(\u001b[0m\u001b[0;36m0\u001b[0m\u001b[0;34m,\u001b[0m \u001b[0;36m1\u001b[0m\u001b[0;34m)\u001b[0m\u001b[0;34m\u001b[0m\u001b[0;34m\u001b[0m\u001b[0m\n\u001b[0;32m----> 7\u001b[0;31m         \u001b[0mloss\u001b[0m \u001b[0;34m=\u001b[0m \u001b[0mcriterion\u001b[0m\u001b[0;34m(\u001b[0m\u001b[0mF\u001b[0m\u001b[0;34m.\u001b[0m\u001b[0mlog_softmax\u001b[0m\u001b[0;34m(\u001b[0m\u001b[0mlogits\u001b[0m\u001b[0;34m,\u001b[0m \u001b[0mdim\u001b[0m\u001b[0;34m=\u001b[0m\u001b[0;34m-\u001b[0m\u001b[0;36m1\u001b[0m\u001b[0;34m)\u001b[0m\u001b[0;34m,\u001b[0m \u001b[0mtargets\u001b[0m\u001b[0;34m,\u001b[0m \u001b[0mtorch\u001b[0m\u001b[0;34m.\u001b[0m\u001b[0mones_like\u001b[0m\u001b[0;34m(\u001b[0m\u001b[0mtarget_lengths\u001b[0m\u001b[0;34m)\u001b[0m \u001b[0;34m*\u001b[0m \u001b[0;36m255\u001b[0m\u001b[0;34m,\u001b[0m \u001b[0mtarget_lengths\u001b[0m\u001b[0;34m)\u001b[0m\u001b[0;34m.\u001b[0m\u001b[0mmean\u001b[0m\u001b[0;34m(\u001b[0m\u001b[0;34m)\u001b[0m\u001b[0;34m\u001b[0m\u001b[0;34m\u001b[0m\u001b[0m\n\u001b[0m\u001b[1;32m      8\u001b[0m         \u001b[0mloss\u001b[0m\u001b[0;34m.\u001b[0m\u001b[0mbackward\u001b[0m\u001b[0;34m(\u001b[0m\u001b[0;34m)\u001b[0m\u001b[0;34m\u001b[0m\u001b[0;34m\u001b[0m\u001b[0m\n\u001b[1;32m      9\u001b[0m         \u001b[0moptimizer\u001b[0m\u001b[0;34m.\u001b[0m\u001b[0mstep\u001b[0m\u001b[0;34m(\u001b[0m\u001b[0;34m)\u001b[0m\u001b[0;34m\u001b[0m\u001b[0;34m\u001b[0m\u001b[0m\n",
      "\u001b[0;32m~/anaconda3/envs/digitalp/lib/python3.7/site-packages/torch/nn/modules/module.py\u001b[0m in \u001b[0;36m_call_impl\u001b[0;34m(self, *input, **kwargs)\u001b[0m\n\u001b[1;32m    720\u001b[0m             \u001b[0mresult\u001b[0m \u001b[0;34m=\u001b[0m \u001b[0mself\u001b[0m\u001b[0;34m.\u001b[0m\u001b[0m_slow_forward\u001b[0m\u001b[0;34m(\u001b[0m\u001b[0;34m*\u001b[0m\u001b[0minput\u001b[0m\u001b[0;34m,\u001b[0m \u001b[0;34m**\u001b[0m\u001b[0mkwargs\u001b[0m\u001b[0;34m)\u001b[0m\u001b[0;34m\u001b[0m\u001b[0;34m\u001b[0m\u001b[0m\n\u001b[1;32m    721\u001b[0m         \u001b[0;32melse\u001b[0m\u001b[0;34m:\u001b[0m\u001b[0;34m\u001b[0m\u001b[0;34m\u001b[0m\u001b[0m\n\u001b[0;32m--> 722\u001b[0;31m             \u001b[0mresult\u001b[0m \u001b[0;34m=\u001b[0m \u001b[0mself\u001b[0m\u001b[0;34m.\u001b[0m\u001b[0mforward\u001b[0m\u001b[0;34m(\u001b[0m\u001b[0;34m*\u001b[0m\u001b[0minput\u001b[0m\u001b[0;34m,\u001b[0m \u001b[0;34m**\u001b[0m\u001b[0mkwargs\u001b[0m\u001b[0;34m)\u001b[0m\u001b[0;34m\u001b[0m\u001b[0;34m\u001b[0m\u001b[0m\n\u001b[0m\u001b[1;32m    723\u001b[0m         for hook in itertools.chain(\n\u001b[1;32m    724\u001b[0m                 \u001b[0m_global_forward_hooks\u001b[0m\u001b[0;34m.\u001b[0m\u001b[0mvalues\u001b[0m\u001b[0;34m(\u001b[0m\u001b[0;34m)\u001b[0m\u001b[0;34m,\u001b[0m\u001b[0;34m\u001b[0m\u001b[0;34m\u001b[0m\u001b[0m\n",
      "\u001b[0;32m~/anaconda3/envs/digitalp/lib/python3.7/site-packages/torch/nn/modules/loss.py\u001b[0m in \u001b[0;36mforward\u001b[0;34m(self, log_probs, targets, input_lengths, target_lengths)\u001b[0m\n\u001b[1;32m   1358\u001b[0m     \u001b[0;32mdef\u001b[0m \u001b[0mforward\u001b[0m\u001b[0;34m(\u001b[0m\u001b[0mself\u001b[0m\u001b[0;34m,\u001b[0m \u001b[0mlog_probs\u001b[0m\u001b[0;34m:\u001b[0m \u001b[0mTensor\u001b[0m\u001b[0;34m,\u001b[0m \u001b[0mtargets\u001b[0m\u001b[0;34m:\u001b[0m \u001b[0mTensor\u001b[0m\u001b[0;34m,\u001b[0m \u001b[0minput_lengths\u001b[0m\u001b[0;34m:\u001b[0m \u001b[0mTensor\u001b[0m\u001b[0;34m,\u001b[0m \u001b[0mtarget_lengths\u001b[0m\u001b[0;34m:\u001b[0m \u001b[0mTensor\u001b[0m\u001b[0;34m)\u001b[0m \u001b[0;34m->\u001b[0m \u001b[0mTensor\u001b[0m\u001b[0;34m:\u001b[0m\u001b[0;34m\u001b[0m\u001b[0;34m\u001b[0m\u001b[0m\n\u001b[1;32m   1359\u001b[0m         return F.ctc_loss(log_probs, targets, input_lengths, target_lengths, self.blank, self.reduction,\n\u001b[0;32m-> 1360\u001b[0;31m                           self.zero_infinity)\n\u001b[0m\u001b[1;32m   1361\u001b[0m \u001b[0;34m\u001b[0m\u001b[0m\n\u001b[1;32m   1362\u001b[0m \u001b[0;31m# TODO: L1HingeEmbeddingCriterion\u001b[0m\u001b[0;34m\u001b[0m\u001b[0;34m\u001b[0m\u001b[0;34m\u001b[0m\u001b[0m\n",
      "\u001b[0;32m~/anaconda3/envs/digitalp/lib/python3.7/site-packages/torch/nn/functional.py\u001b[0m in \u001b[0;36mctc_loss\u001b[0;34m(log_probs, targets, input_lengths, target_lengths, blank, reduction, zero_infinity)\u001b[0m\n\u001b[1;32m   2153\u001b[0m     \"\"\"\n\u001b[1;32m   2154\u001b[0m     return torch.ctc_loss(log_probs, targets, input_lengths, target_lengths, blank, _Reduction.get_enum(reduction),\n\u001b[0;32m-> 2155\u001b[0;31m                           zero_infinity)\n\u001b[0m\u001b[1;32m   2156\u001b[0m \u001b[0;34m\u001b[0m\u001b[0m\n\u001b[1;32m   2157\u001b[0m \u001b[0;34m\u001b[0m\u001b[0m\n",
      "\u001b[0;31mKeyboardInterrupt\u001b[0m: "
     ]
    }
   ],
   "source": [
    "num_epochs = 300\n",
    "best_loss = float(\"infinity\")\n",
    "prev_loss = float(\"infinity\")\n",
    "cur_loss = float(\"infinity\")\n",
    "lr = 1e-4\n",
    "num_epochs_not_improved = 0\n",
    "for i_epoch in range(num_epochs):\n",
    "    print(\"=\" * 50)\n",
    "    print(f\"epoch: {i_epoch + 1}\")\n",
    "    train_model()\n",
    "    prev_loss = cur_loss\n",
    "    cur_loss = val_model()\n",
    "    reduce_lr.step(cur_loss)\n",
    "    if best_loss < cur_loss:\n",
    "        num_epochs_not_improved += 1\n",
    "        print(\"not improved\")\n",
    "        torch.save(model.state_dict(), EXP_DIR / \"model_last.pt\")\n",
    "    else:\n",
    "        num_epochs_not_improved = 0\n",
    "        best_loss = cur_loss\n",
    "        torch.save(model.state_dict(), EXP_DIR / \"model_best.pt\")\n",
    "        \n",
    "    print(f\"loss: best {best_loss:.5f} | cur {cur_loss:.5f}\")\n",
    "    if num_epochs_not_improved > 10:\n",
    "        break"
   ]
  },
  {
   "cell_type": "code",
   "execution_count": 85,
   "metadata": {},
   "outputs": [
    {
     "data": {
      "text/plain": [
       "<All keys matched successfully>"
      ]
     },
     "execution_count": 85,
     "metadata": {},
     "output_type": "execute_result"
    }
   ],
   "source": [
    "model.load_state_dict(torch.load(EXP_DIR / \"model_best.pt\"))"
   ]
  },
  {
   "cell_type": "code",
   "execution_count": 86,
   "metadata": {},
   "outputs": [
    {
     "data": {
      "application/vnd.jupyter.widget-view+json": {
       "model_id": "44eedecd8fa241429a41b5c39c52c206",
       "version_major": 2,
       "version_minor": 0
      },
      "text/plain": [
       "HBox(children=(HTML(value=''), FloatProgress(value=0.0, max=21.0), HTML(value='')))"
      ]
     },
     "metadata": {},
     "output_type": "display_data"
    },
    {
     "name": "stdout",
     "output_type": "stream",
     "text": [
      "ref: + но хорошо мужикоф содержите\n",
      "hyp: + \n",
      "ref: i тако пѣхота далее\n",
      "hyp: iтакопѣхота дале\n",
      "ref: римут то б хотя шквадру от 7\n",
      "hyp: римут то б хотя шквадру отц\n",
      "ref: рыхъ нужъдахъ пишетъ i то вы\n",
      "hyp: рыхъ нужъ дахѣ пишетъ i товы\n",
      "ref: чтоб мнѣ мое писмо поттвердит\n",
      "hyp: чтоб мнѣ мое писмо пот твердит\n",
      "ref: жанъ i лутче всякому своей\n",
      "hyp: жанъ i лутче всякому своей\n",
      "ref: зит\n",
      "hyp: зит\n",
      "ref: пѣхотою удержат\n",
      "hyp: пѣхотою удержат\n",
      "ref: нам здес зело докучает аднакож для\n",
      "hyp: нам здес зело до куает аднакож для\n",
      "ref: ет указ не описываяс всту\n",
      "hyp: ет указнеопиы ваяс всту\n",
      "ref: ного и возна в заключе\n",
      "hyp: ного а возна в заключе\n",
      "ref: и протчег\n",
      "hyp: i протзег\n",
      "ref: 1\n",
      "hyp: 1\n",
      "ref: хотя за далностию i непърестаными отмѣ\n",
      "hyp: хотя задал ностию i наърестаны ми отнѣ\n",
      "ref: обявъляю вам что я сюды приѣхал вчерас\n",
      "hyp: обявъляю вом чтоя сюды приѣхал в черас\n",
      "ref: государственных дѣл положит на въ\n",
      "hyp: государственных дѣл положит новъ\n",
      "ref: заранѣе\n",
      "hyp: заранѣе\n",
      "ref: чтоб нашим людем на островѣ не ос\n",
      "hyp: чтоб нашим людем наостровѣ не ос\n",
      "ref: что мы которой мир i отдачю турком обѣ\n",
      "hyp: что мы которой мир i отдачю турком обѣ\n",
      "ref: долго войскъ держат не можем но\n",
      "hyp: дулго войскъдержат не можеко\n",
      "\n",
      "loss: 9.93346\n",
      "CER: 9.31%, WER: 45.69%\n"
     ]
    },
    {
     "data": {
      "text/plain": [
       "9.933461883693065"
      ]
     },
     "execution_count": 86,
     "metadata": {},
     "output_type": "execute_result"
    }
   ],
   "source": [
    "val_model()"
   ]
  },
  {
   "cell_type": "code",
   "execution_count": 37,
   "metadata": {},
   "outputs": [],
   "source": [
    "from ctcdecode import CTCBeamDecoder"
   ]
  },
  {
   "cell_type": "code",
   "execution_count": 79,
   "metadata": {},
   "outputs": [],
   "source": [
    "decoder = CTCBeamDecoder(\n",
    "    encoder.id2char,\n",
    "    model_path=None,\n",
    "    alpha=0,\n",
    "    beta=0,\n",
    "    cutoff_top_n=40,\n",
    "    cutoff_prob=1.0,\n",
    "    beam_width=100,\n",
    "    num_processes=4,\n",
    "    blank_id=0,\n",
    "    log_probs_input=True\n",
    ")\n",
    "# beam_results, beam_scores, timesteps, out_lens = decoder.decode(output)"
   ]
  },
  {
   "cell_type": "code",
   "execution_count": 80,
   "metadata": {},
   "outputs": [],
   "source": [
    "def val_model_beam_search():\n",
    "    model.eval()\n",
    "    num_items = 0\n",
    "    loss_accum = 0.0\n",
    "    total_chars = 0\n",
    "    error_chars = 0\n",
    "    total_words = 0\n",
    "    error_words = 0\n",
    "    with torch.no_grad():    \n",
    "        for batch_idx, (images, texts, targets, target_lengths) in enumerate(tqdm(val_loader)):\n",
    "            images, targets, target_lengths = images.cuda(), targets.to(torch.int32).cuda(), target_lengths.to(torch.int32).cuda()\n",
    "            logits = model(images).transpose(0, 1) # LxBxT\n",
    "            log_logits = F.log_softmax(logits, dim=-1)\n",
    "            loss = criterion(log_logits, targets, torch.full_like(target_lengths, 255), target_lengths)\n",
    "            loss_accum += loss.sum().item()\n",
    "            num_items += len(texts)\n",
    "            beam_results, beam_scores, timesteps, out_lens = decoder.decode(log_logits.transpose(0, 1).detach())\n",
    "\n",
    "            for i in range(beam_results.shape[0]):\n",
    "                ref = texts[i]\n",
    "                total_chars += len(ref)\n",
    "                encoded_text = beam_results[i, 0, :out_lens[i][0]]\n",
    "                hyp = encoder.decode(encoded_text.numpy().tolist())\n",
    "                error_chars += editdistance.eval(hyp, ref)\n",
    "                total_words += len(ref.split())\n",
    "                error_words += editdistance.eval(hyp.split(), ref.split())\n",
    "                if batch_idx == 0:\n",
    "                    print(f\"ref: {ref}\")\n",
    "                    print(f\"hyp: {hyp}\")\n",
    "            \n",
    "            \n",
    "    loss_accum /= num_items\n",
    "    print(f\"loss: {loss_accum:.5f}\")\n",
    "    print(f\"CER: {error_chars / total_chars * 100:.2f}%, WER: {error_words / total_words * 100:.2f}%\")\n",
    "    return loss_accum"
   ]
  },
  {
   "cell_type": "code",
   "execution_count": 81,
   "metadata": {},
   "outputs": [
    {
     "data": {
      "application/vnd.jupyter.widget-view+json": {
       "model_id": "f4eee0bf17794a5e96705abcfbec05ee",
       "version_major": 2,
       "version_minor": 0
      },
      "text/plain": [
       "HBox(children=(HTML(value=''), FloatProgress(value=0.0, max=21.0), HTML(value='')))"
      ]
     },
     "metadata": {},
     "output_type": "display_data"
    },
    {
     "name": "stdout",
     "output_type": "stream",
     "text": [
      "ref: + но хорошо мужикоф содержите\n",
      "hyp: +      т\n",
      "ref: i тако пѣхота далее\n",
      "hyp: iта копѣхота далее\n",
      "ref: римут то б хотя шквадру от 7\n",
      "hyp: римут то б хотя шк вадру отц\n",
      "ref: рыхъ нужъдахъ пишетъ i то вы\n",
      "hyp: рыхъ нужъ дахѣ пишетъ i товы\n",
      "ref: чтоб мнѣ мое писмо поттвердит\n",
      "hyp: чтоб мнѣ мое писмо пот твердит\n",
      "ref: жанъ i лутче всякому своей\n",
      "hyp: жанъ i лутче всякому своей\n",
      "ref: зит\n",
      "hyp: зит\n",
      "ref: пѣхотою удержат\n",
      "hyp: пѣхотою удержат\n",
      "ref: нам здес зело докучает аднакож для\n",
      "hyp: нам здес зело до куает аднакож для\n",
      "ref: ет указ не описываяс всту\n",
      "hyp: ет указнеопиы влаяс всту\n",
      "ref: ного и возна в заключе\n",
      "hyp: ного а возна в заключе\n",
      "ref: и протчег\n",
      "hyp: i протзег\n",
      "ref: 1\n",
      "hyp: 1\n",
      "ref: хотя за далностию i непърестаными отмѣ\n",
      "hyp: хотя задал ностию i наърестаны ми отнѣ\n",
      "ref: обявъляю вам что я сюды приѣхал вчерас\n",
      "hyp: обявъляю вом чтоя сюды приѣхал в черас\n",
      "ref: государственных дѣл положит на въ\n",
      "hyp: государственных дѣл положит но въ\n",
      "ref: заранѣе\n",
      "hyp: заранѣе\n",
      "ref: чтоб нашим людем на островѣ не ос\n",
      "hyp: чтоб нашим людем наостровѣ не ос\n",
      "ref: что мы которой мир i отдачю турком обѣ\n",
      "hyp: что мы которой мир i отдачю турком обѣ\n",
      "ref: долго войскъ держат не можем но\n",
      "hyp: дулго войскъдержат не може ко\n",
      "\n",
      "loss: 9.93346\n",
      "CER: 9.17%, WER: 45.50%\n"
     ]
    },
    {
     "data": {
      "text/plain": [
       "9.933461883693065"
      ]
     },
     "execution_count": 81,
     "metadata": {},
     "output_type": "execute_result"
    }
   ],
   "source": [
    "val_model_beam_search()"
   ]
  },
  {
   "cell_type": "code",
   "execution_count": null,
   "metadata": {},
   "outputs": [],
   "source": []
  },
  {
   "cell_type": "code",
   "execution_count": null,
   "metadata": {},
   "outputs": [],
   "source": [
    "# loss: 9.93346\n",
    "# CER: 9.31%, WER: 45.69%"
   ]
  },
  {
   "cell_type": "code",
   "execution_count": null,
   "metadata": {},
   "outputs": [],
   "source": [
    "# beam search, 100 (standardr)\n",
    "# loss: 9.93346\n",
    "# CER: 9.17%, WER: 45.50%"
   ]
  },
  {
   "cell_type": "code",
   "execution_count": null,
   "metadata": {},
   "outputs": [],
   "source": [
    "# loss: 13.52883\n",
    "# CER: 8.18%, WER: 40.65%\n",
    "# loss: best 9.93346 | cur 13.52883"
   ]
  }
 ],
 "metadata": {
  "kernelspec": {
   "display_name": "Python (digitalp)",
   "language": "python",
   "name": "digitalp"
  },
  "language_info": {
   "codemirror_mode": {
    "name": "ipython",
    "version": 3
   },
   "file_extension": ".py",
   "mimetype": "text/x-python",
   "name": "python",
   "nbconvert_exporter": "python",
   "pygments_lexer": "ipython3",
   "version": "3.7.8"
  }
 },
 "nbformat": 4,
 "nbformat_minor": 4
}

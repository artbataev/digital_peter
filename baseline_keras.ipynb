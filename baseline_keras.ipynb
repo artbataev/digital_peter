{
 "cells": [
  {
   "cell_type": "code",
   "execution_count": 10,
   "metadata": {
    "colab": {},
    "colab_type": "code",
    "id": "WyBpW92f6Ara",
    "scrolled": true
   },
   "outputs": [],
   "source": [
    "import numpy as np\n",
    "import cv2\n",
    "import os\n",
    "import string\n",
    "import matplotlib.pyplot as plt\n",
    "import tqdm\n",
    "from os.path import join\n",
    "from collections import Counter\n",
    "import re \n",
    "import io\n",
    "import copy\n",
    "from tensorflow.keras import layers\n",
    "import editdistance\n",
    "import pickle\n",
    "\n",
    "from tensorflow.keras.preprocessing.sequence import pad_sequences\n",
    "from tensorflow.keras import layers\n",
    "\n",
    "from tensorflow.keras.layers import Dense, LSTM,GRU, Reshape, BatchNormalization, Input, Conv2D, MaxPool2D, Lambda, Bidirectional\n",
    "from tensorflow.keras.models import Model\n",
    "from tensorflow.keras.activations import relu, sigmoid, softmax\n",
    "import tensorflow.keras.backend as K\n",
    "from tensorflow.keras.utils import to_categorical\n",
    "from tensorflow.keras.callbacks import ModelCheckpoint"
   ]
  },
  {
   "cell_type": "markdown",
   "metadata": {},
   "source": [
    "Бейзлайн запускался на машине со следующими версиями библиотек."
   ]
  },
  {
   "cell_type": "code",
   "execution_count": 2,
   "metadata": {},
   "outputs": [
    {
     "name": "stdout",
     "output_type": "stream",
     "text": [
      "TensorFlow version: 2.2.0\n",
      "Keras version: 2.4.3\n"
     ]
    }
   ],
   "source": [
    "import keras\n",
    "import tensorflow as tf\n",
    "print('TensorFlow version:', tf.__version__)\n",
    "print('Keras version:', keras.__version__)"
   ]
  },
  {
   "cell_type": "markdown",
   "metadata": {},
   "source": [
    "* CUDA 10.1\n",
    "* cv2 4.3.0\n",
    "* numpy 1.19.2\n",
    "* re 2.2.1\n",
    "* tqdm 4.46.0\n",
    "* matplotlib 3.3.2"
   ]
  },
  {
   "cell_type": "markdown",
   "metadata": {
    "colab_type": "text",
    "id": "XYb61RIzE_kW"
   },
   "source": [
    "**Укажем пути для изображений и текста.**"
   ]
  },
  {
   "cell_type": "code",
   "execution_count": 4,
   "metadata": {},
   "outputs": [
    {
     "name": "stdout",
     "output_type": "stream",
     "text": [
      "6196\n"
     ]
    }
   ],
   "source": [
    "#В этой папке лежат txt файлы перевода\n",
    "trans_dir = 'data/train/words'\n",
    "#В этой папке лежат  jpg файлы изображений\n",
    "image_dir = 'data/train/images'\n",
    "\n",
    "print(len(os.listdir(trans_dir)))"
   ]
  },
  {
   "cell_type": "markdown",
   "metadata": {},
   "source": [
    "Посмотрим на отдельное изображение."
   ]
  },
  {
   "cell_type": "code",
   "execution_count": 5,
   "metadata": {},
   "outputs": [],
   "source": [
    "example = os.listdir(image_dir)[0]"
   ]
  },
  {
   "cell_type": "code",
   "execution_count": 6,
   "metadata": {},
   "outputs": [
    {
     "data": {
      "image/png": "[encoded data removed]",
      "text/plain": [
       "<Figure size 432x288 with 1 Axes>"
      ]
     },
     "metadata": {
      "needs_background": "light"
     },
     "output_type": "display_data"
    }
   ],
   "source": [
    "img = plt.imread(image_dir+'/'+example)\n",
    "plt.imshow(img)\n",
    "plt.show()"
   ]
  },
  {
   "cell_type": "markdown",
   "metadata": {},
   "source": [
    "И его перевод."
   ]
  },
  {
   "cell_type": "code",
   "execution_count": 7,
   "metadata": {
    "scrolled": true
   },
   "outputs": [
    {
     "name": "stdout",
     "output_type": "stream",
     "text": [
      "ходѣ] но вы тогъда сказали\n"
     ]
    }
   ],
   "source": [
    "with io.open(trans_dir+'/'+example[:-3]+'txt', 'r',  encoding='utf8') as file:\n",
    "    data = file.read()\n",
    "\n",
    "print(data)"
   ]
  },
  {
   "cell_type": "markdown",
   "metadata": {},
   "source": [
    "В текстах встречаются слова, содержащие английские символы.\n",
    "\n",
    "Но так как английских символов в целом не очень много, то из train-выборки можно удалить строки с ними (и обучаться только на оставшихся строках). Так мы и сделаем в текущем бейзлайне. Это сократит алфавит (и, как следствие, избавит нас от лишней шумности). \n",
    "\n",
    "При этом надо понимать, что в тестовой выборке английские символы, скорее всего, будут присутствовать. Поэтому будут и вынужденные ошибки, связанные с нашей вольной фильтрацией обучающей выборки.\n",
    "\n",
    "Впрочем, метод распознавания всегда выбираете вы сами. \n",
    "\n",
    "Кроме того, советуем внимательно изучить train-выборку глазами."
   ]
  },
  {
   "cell_type": "code",
   "execution_count": 8,
   "metadata": {},
   "outputs": [],
   "source": [
    "english = ['a', 'b', 'c', 'd', 'e', 'f', 'g', 'h', 'm', 'n' ,'o', 'p', 'r', 's', 't', 'u', 'w']"
   ]
  },
  {
   "cell_type": "code",
   "execution_count": 11,
   "metadata": {},
   "outputs": [],
   "source": [
    "with open(\"data/train_uttids_set.pkl\", \"rb\") as f:\n",
    "    train_uttids = pickle.load(f)\n",
    "with open(\"data/val_uttids_set.pkl\", \"rb\") as f:\n",
    "    val_uttids = pickle.load(f)"
   ]
  },
  {
   "cell_type": "code",
   "execution_count": 12,
   "metadata": {},
   "outputs": [],
   "source": [
    "def text_to_labels(text):\n",
    "    return list(map(lambda x: letters.index(x), text))"
   ]
  },
  {
   "cell_type": "markdown",
   "metadata": {},
   "source": [
    "Следующая функция подготавливает лэйблы, то есть переведенный текст. Как уже было сказано, игнорируются примеры, содержащие английские буквы."
   ]
  },
  {
   "cell_type": "code",
   "execution_count": 15,
   "metadata": {},
   "outputs": [],
   "source": [
    "def process_texts(image_dir,trans_dir):\n",
    "    lens = []\n",
    "    include_english = 0\n",
    "    letters = ''\n",
    "\n",
    "    lines = []\n",
    "    names = []\n",
    "    \n",
    "    all_files = os.listdir(trans_dir)\n",
    "    for filename in os.listdir(image_dir):\n",
    "        if filename[:-3]+'txt' in all_files:\n",
    "            name, ext = os.path.splitext(filename)\n",
    "            txt_filepath = join(trans_dir, name + '.txt')\n",
    "            with open(txt_filepath, 'r') as file:\n",
    "                data = file.read()\n",
    "                if len(data)==0:\n",
    "                    continue\n",
    "                if len(set(data).intersection(english))>0:\n",
    "                    print(f\"skipping {name}: {data}\")\n",
    "                    continue\n",
    "\n",
    "                lines.append(data)\n",
    "                names.append(filename)\n",
    "                lens.append(len(data))\n",
    "                letters += data\n",
    "    print('Максимальная длина строки:', max(Counter(lens).keys()))\n",
    "    print('Количество строк с английскими буквами ',include_english)\n",
    "\n",
    "    return names,lines,Counter(letters)"
   ]
  },
  {
   "cell_type": "markdown",
   "metadata": {},
   "source": [
    "В итоге мы получаем список изображений, соответствующий ему обработанный список строк и словарь символов."
   ]
  },
  {
   "cell_type": "code",
   "execution_count": 16,
   "metadata": {},
   "outputs": [
    {
     "name": "stdout",
     "output_type": "stream",
     "text": [
      "skipping 209_31_12: d другой столбъ с короною явъляюшей\n",
      "skipping 19_5_0: min her +\n",
      "skipping 215_38_10: а в точку f iз которой протчия линеi дѣлай\n",
      "skipping 217_40_19: бери дистанциi на линii e f гдѣ доткнулис линѣ\n",
      "skipping 163_7_0: sire\n",
      "skipping 163_4_4: iз санктъпитербурха въ 27 д генваря piter\n",
      "skipping 217_40_11: казывает в обѣiх углах d] аш] потом\n",
      "skipping 133_36_0: mrsi\n",
      "skipping 425_37_0: p s також донеси i то к в\n",
      "skipping 217_40_14: e f потом iз точки  g начерти полкруга\n",
      "skipping 188_4_14: мушкѣтная стрелба h какъ все то\n",
      "skipping 182_4_6: пушки стала а реданы при b bd дѣат\n",
      "skipping 14_29_10: р s карабль наш сваятого петра сего\n",
      "skipping 109_7_1: cну i осмотря все быт с полным до\n",
      "skipping 217_40_21: черчивай паралелныя линѣi гдѣ линѣя a g\n",
      "skipping 356_4_4: iз лагара въ 27 д iюня piter\n",
      "skipping 188_4_21: aa\n",
      "skipping 163_6_4: p s\n",
      "skipping 17_7_10: р s поздравляем сим днем\n",
      "skipping 22_11_13: piter\n",
      "skipping 164_13_0: sire\n",
      "skipping 337_41_2: гиc областей что\n",
      "skipping 163_6_0: siire\n",
      "skipping 217_40_15: h i i раздели [с которой кругом доткнулся б точки c] i раз\n",
      "skipping 356_6_6: piter\n",
      "skipping 214_37_11: разстоянием a f здѣлай полцыркуля ⊕ h a i\n",
      "skipping 460_3_5: вителныi cенат ко\n",
      "skipping 214_37_23: ⊕ iз точки f\n",
      "skipping 110_14_5: ps получили мы третево дни въве\n",
      "skipping 356_5_0: + sire\n",
      "skipping 212_34_14: борствер е куртины ж f f f f\n",
      "skipping 383_12_16: в лагоре пот полтавою въ 11 д iюня 1709 piter\n",
      "skipping 41_10_1: monsieur\n",
      "skipping 20_19_5: piter\n",
      "skipping 20_16_0: monsinir +\n",
      "skipping 217_40_23: есть полдиаметра h g паралелна линѣi а g\n",
      "skipping 404_1_22: + h малыя ка\n",
      "skipping 41_13_2: iз преображенскова piter\n",
      "skipping 164_12_2: p s благодарствую за вашу превысокую\n",
      "skipping 214_37_14: до линеi остъвестъ потом iз точки b сквоз точки\n",
      "skipping 356_3_1: sir\n",
      "skipping 143_2_9: iз солцы въ 20 д сентебря 1709 piter\n",
      "skipping 182_5_0: рофъ воденой кругом n труба ко\n",
      "skipping 182_5_4: о профиль сего бор бастиона в p s\n",
      "skipping 19_4_7: ps получили мы писмо от гетмана х князю\n",
      "skipping 164_13_6: p s\n",
      "skipping 356_1_0: sire\n",
      "skipping 133_35_1: p s я зело со удивълением услышал\n",
      "skipping 19_9_0: min her +\n",
      "skipping 143_4_4: iз варшавы въ 24 д piter\n",
      "skipping 40_1_1: mein her\n",
      "skipping 404_1_24: e для осушки\n",
      "skipping 400_2_10: позади плана фигуры е еше план f ко\n",
      "skipping 41_13_4: ps найпаче всего смотрѣт дабы турок\n",
      "skipping 182_5_6: стрелба iз кофора s\n",
      "skipping 212_34_13: возвожно iз профиля наружная земля d\n",
      "skipping 173_1_1: cуды на каспълѣ починит i пос\n",
      "skipping 19_4_5: piter\n",
      "skipping 356_7_0: sire\n",
      "skipping 109_3_1: ps для бога старайтес прислат\n",
      "skipping 149_5_11: iз торна въ 30 д сентебря piter\n",
      "skipping 313_12_4: невозможно] i стал ic пушек стрелят\n",
      "skipping 217_40_18: я то разделителныя точки до линѣi e f потом\n",
      "skipping 214_37_12: i раздели оной на двенатцат частей iз точки f прочер\n",
      "skipping 20_17_6: p s о вышеписанном о фъсем королю\n",
      "skipping 163_4_6: p s я вижу вашего величества нѣка\n",
      "skipping 35_4_11: piter\n",
      "skipping 19_7_9: piter\n",
      "skipping 8_2_11: р s отпиши ко мнѣ х которому\n",
      "skipping 23_12_10: iз лагору 23 д iюня 1709 piter\n",
      "skipping 20_17_4: piter\n",
      "skipping 214_37_10: назначь на нордной линеi от а до в точку f потом\n",
      "skipping 182_5_2: в роф n проведенная назначена точками\n",
      "skipping 197_16_7: iз санктъпитербурха въ 10 д октебря 1710 piter\n",
      "skipping 143_3_9: дарствую i посылаю при сем к вам нѣc\n",
      "skipping 356_8_6: piter\n",
      "skipping 163_1_0: sir\n",
      "skipping 19_8_0: iз въ 14 д юня 1709 piter\n",
      "skipping 85_55_1: ps понеже безотложно бытие мое\n",
      "skipping 188_4_10: въляет сло c въверху над мостом бор\n",
      "skipping 356_1_7: piter\n",
      "skipping 239_34_9: ния дѣcства бут воiнския\n",
      "skipping 58_9_6: ps\n",
      "skipping 404_1_16: f вал начинающейся от тветцникоф\n",
      "skipping 22_11_15: въ 19 д iюня 1709 p s +\n",
      "skipping 20_14_0: min her +\n",
      "skipping 188_4_13: зуры пушечныя f поверхъ оного\n",
      "skipping 403_1_6: d канал ко оной\n",
      "skipping 217_40_20: i оныя i стаф iх въверху на линеi h i потом про\n",
      "skipping 182_5_5: кофор врѣзанай во оном r мушкѣтная\n",
      "skipping 151_7_11: iз санктъ питербурха piter\n",
      "Максимальная длина строки: 71\n",
      "Количество строк с английскими буквами  0\n"
     ]
    }
   ],
   "source": [
    "names,lines,cnt = process_texts(image_dir,trans_dir)"
   ]
  },
  {
   "cell_type": "code",
   "execution_count": 17,
   "metadata": {},
   "outputs": [
    {
     "name": "stdout",
     "output_type": "stream",
     "text": [
      "Символы train:   ) + / 0 1 2 3 4 5 6 7 8 9 [ ] i k l | × ǂ а б в г д е ж з и й к л м н о п р с т у ф х ц ч ш щ ъ ы ь э ю я і ѣ – … ⊕ ⊗\n",
      "количество: 60\n"
     ]
    }
   ],
   "source": [
    "letters = set(cnt.keys())\n",
    "\n",
    "letters = sorted(list(letters))\n",
    "print('Символы train:', ' '.join(letters))\n",
    "print(\"количество:\", len(letters))"
   ]
  },
  {
   "cell_type": "markdown",
   "metadata": {},
   "source": [
    "Следующая функция подгружает изображения, меняет их до необходимого размера и нормирует."
   ]
  },
  {
   "cell_type": "code",
   "execution_count": 18,
   "metadata": {
    "colab": {},
    "colab_type": "code",
    "id": "aXbMbbD5CREV"
   },
   "outputs": [],
   "source": [
    "def process_image(img):\n",
    "    w, h,_ = img.shape\n",
    "    \n",
    "    new_w = 128\n",
    "    new_h = int(h * (new_w / w))\n",
    "    img = cv2.resize(img, (new_h, new_w))\n",
    "    w, h,_ = img.shape\n",
    "    \n",
    "    img = img.astype('float32')\n",
    "    \n",
    "    if w < 128:\n",
    "        add_zeros = np.full((128-w, h,3), 255)\n",
    "        img = np.concatenate((img, add_zeros))\n",
    "        w, h,_ = img.shape\n",
    "    \n",
    "    if h < 1024:\n",
    "        add_zeros = np.full((w, 1024-h,3), 255)\n",
    "        img = np.concatenate((img, add_zeros), axis=1)\n",
    "        w, h,_ = img.shape\n",
    "        \n",
    "    if h > 1024 or w > 128:\n",
    "        dim = (1024,128)\n",
    "        img = cv2.resize(img, dim)\n",
    "    \n",
    "    img = cv2.subtract(255, img)\n",
    "\n",
    "    img = img / 255\n",
    "    \n",
    "    return img"
   ]
  },
  {
   "cell_type": "markdown",
   "metadata": {
    "colab_type": "text",
    "id": "77zmid7KHly9"
   },
   "source": [
    "**Подготовим обучающие и валидационные данные.**"
   ]
  },
  {
   "cell_type": "code",
   "execution_count": 19,
   "metadata": {},
   "outputs": [],
   "source": [
    "def generate_data(lines,names,image_dir):\n",
    "    data_images = []\n",
    "    data_labels = []\n",
    "    data_input_length = []\n",
    "    data_label_length = []\n",
    "    data_original_text = []\n",
    "    data_original_image = []\n",
    "    \n",
    "    max_label_len = 0\n",
    "    for line, name in tqdm.tqdm_notebook(zip(lines,names)):\n",
    "        img = cv2.imread(image_dir+'/'+name)\n",
    "        original_image = copy.deepcopy(img)\n",
    "        img = process_image(img)\n",
    "        try:\n",
    "            label = text_to_labels(line)\n",
    "        except:\n",
    "            print('bad_label')\n",
    "            continue\n",
    "        data_images.append(img)\n",
    "        data_labels.append(label)\n",
    "        data_input_length.append(255)\n",
    "        data_label_length.append(len(line))\n",
    "        data_original_text.append(line)\n",
    "        data_original_image.append(original_image)\n",
    "        \n",
    "        if len(line) > max_label_len:\n",
    "            max_label_len = len(line)\n",
    "        \n",
    "    return data_images, data_labels, data_input_length, data_label_length, \\\n",
    "            data_original_text, data_original_image, max_label_len"
   ]
  },
  {
   "cell_type": "markdown",
   "metadata": {},
   "source": [
    "Создадим обучающую и валидационную выборки."
   ]
  },
  {
   "cell_type": "code",
   "execution_count": 22,
   "metadata": {},
   "outputs": [],
   "source": [
    "lines_train = []\n",
    "names_train = []\n",
    "\n",
    "lines_val = []\n",
    "names_val = []\n",
    "\n",
    "\n",
    "for num,(line, name) in enumerate(zip(lines,names)):\n",
    "    uttid = name.split(\".\")[0]\n",
    "    if uttid in val_uttids:\n",
    "        lines_val.append(line)\n",
    "        names_val.append(name)\n",
    "    elif uttid in train_uttids:\n",
    "        lines_train.append(line)\n",
    "        names_train.append(name)\n",
    "    else:\n",
    "        raise Exception(f\"unknown {uttid}\")"
   ]
  },
  {
   "cell_type": "code",
   "execution_count": 23,
   "metadata": {
    "scrolled": true
   },
   "outputs": [
    {
     "name": "stderr",
     "output_type": "stream",
     "text": [
      "/home/artbataev/anaconda3/envs/digitalp/lib/python3.7/site-packages/ipykernel_launcher.py:10: TqdmDeprecationWarning: This function will be removed in tqdm==5.0.0\n",
      "Please use `tqdm.notebook.tqdm` instead of `tqdm.tqdm_notebook`\n",
      "  # Remove the CWD from sys.path while we load stuff.\n"
     ]
    },
    {
     "data": {
      "application/vnd.jupyter.widget-view+json": {
       "model_id": "23e3c9d4a87045d685d65324b51fc32a",
       "version_major": 2,
       "version_minor": 0
      },
      "text/plain": [
       "HBox(children=(HTML(value=''), FloatProgress(value=1.0, bar_style='info', layout=Layout(width='20px'), max=1.0…"
      ]
     },
     "metadata": {},
     "output_type": "display_data"
    },
    {
     "name": "stdout",
     "output_type": "stream",
     "text": [
      "\n"
     ]
    }
   ],
   "source": [
    "train_images, train_labels, train_input_length, train_label_length, train_original_text, train_original_image, \\\n",
    "        train_max_label_len = generate_data(lines_train, names_train, image_dir)"
   ]
  },
  {
   "cell_type": "code",
   "execution_count": 24,
   "metadata": {
    "scrolled": true
   },
   "outputs": [
    {
     "name": "stderr",
     "output_type": "stream",
     "text": [
      "/home/artbataev/anaconda3/envs/digitalp/lib/python3.7/site-packages/ipykernel_launcher.py:10: TqdmDeprecationWarning: This function will be removed in tqdm==5.0.0\n",
      "Please use `tqdm.notebook.tqdm` instead of `tqdm.tqdm_notebook`\n",
      "  # Remove the CWD from sys.path while we load stuff.\n"
     ]
    },
    {
     "data": {
      "application/vnd.jupyter.widget-view+json": {
       "model_id": "24c194a5dbc44930b5a5a3dc68b14c82",
       "version_major": 2,
       "version_minor": 0
      },
      "text/plain": [
       "HBox(children=(HTML(value=''), FloatProgress(value=1.0, bar_style='info', layout=Layout(width='20px'), max=1.0…"
      ]
     },
     "metadata": {},
     "output_type": "display_data"
    },
    {
     "name": "stdout",
     "output_type": "stream",
     "text": [
      "\n"
     ]
    }
   ],
   "source": [
    "val_images, val_labels, val_input_length, val_label_length, val_original_text, val_original_image, \\\n",
    "        val_max_label_len = generate_data(lines_val, names_val, image_dir)"
   ]
  },
  {
   "cell_type": "code",
   "execution_count": 25,
   "metadata": {},
   "outputs": [
    {
     "name": "stdout",
     "output_type": "stream",
     "text": [
      "71\n"
     ]
    }
   ],
   "source": [
    "max_label_len = max(train_max_label_len,val_max_label_len)\n",
    "print(max_label_len)"
   ]
  },
  {
   "cell_type": "markdown",
   "metadata": {},
   "source": [
    "Выведем пару обработанных изображений с переводом."
   ]
  },
  {
   "cell_type": "code",
   "execution_count": 26,
   "metadata": {},
   "outputs": [
    {
     "name": "stderr",
     "output_type": "stream",
     "text": [
      "Clipping input data to the valid range for imshow with RGB data ([0..1] for floats or [0..255] for integers).\n"
     ]
    },
    {
     "name": "stdout",
     "output_type": "stream",
     "text": [
      "въ 28 д сего мѣсяца без всякого сопъроти\n"
     ]
    },
    {
     "data": {
      "image/png": "[encoded data removed]",
      "text/plain": [
       "<Figure size 432x288 with 1 Axes>"
      ]
     },
     "metadata": {
      "needs_background": "light"
     },
     "output_type": "display_data"
    },
    {
     "name": "stderr",
     "output_type": "stream",
     "text": [
      "Clipping input data to the valid range for imshow with RGB data ([0..1] for floats or [0..255] for integers).\n"
     ]
    },
    {
     "name": "stdout",
     "output_type": "stream",
     "text": [
      "ване\n"
     ]
    },
    {
     "data": {
      "image/png": "[encoded data removed]",
      "text/plain": [
       "<Figure size 432x288 with 1 Axes>"
      ]
     },
     "metadata": {
      "needs_background": "light"
     },
     "output_type": "display_data"
    }
   ],
   "source": [
    "rnd = np.random.choice(range(len(train_images)),2)\n",
    "\n",
    "for i in rnd:\n",
    "    print(train_original_text[i])\n",
    "    plt.imshow(train_images[i])\n",
    "    plt.show()"
   ]
  },
  {
   "cell_type": "markdown",
   "metadata": {
    "colab_type": "text",
    "id": "S08OVL07IsRY"
   },
   "source": [
    "**Дополним строки до максимальной длины**"
   ]
  },
  {
   "cell_type": "code",
   "execution_count": 27,
   "metadata": {
    "colab": {},
    "colab_type": "code",
    "id": "CqJP3ZfnCbX5"
   },
   "outputs": [],
   "source": [
    "train_padded_label = pad_sequences(train_labels, \n",
    "                             maxlen=max_label_len, \n",
    "                             padding='post',\n",
    "                             value=len(letters))\n",
    "\n",
    "val_padded_label = pad_sequences(val_labels, \n",
    "                             maxlen=max_label_len, \n",
    "                             padding='post',\n",
    "                             value=len(letters))"
   ]
  },
  {
   "cell_type": "code",
   "execution_count": 28,
   "metadata": {
    "colab": {
     "base_uri": "https://localhost:8080/",
     "height": 34
    },
    "colab_type": "code",
    "id": "rPN6audwCnCO",
    "outputId": "245631e4-ae4f-40ca-d3c6-713cdf2d8fe6",
    "scrolled": true
   },
   "outputs": [
    {
     "data": {
      "text/plain": [
       "((5693, 71), (412, 71))"
      ]
     },
     "execution_count": 28,
     "metadata": {},
     "output_type": "execute_result"
    }
   ],
   "source": [
    "train_padded_label.shape, val_padded_label.shape"
   ]
  },
  {
   "cell_type": "code",
   "execution_count": 29,
   "metadata": {
    "colab": {},
    "colab_type": "code",
    "id": "AsGyb8qGCoqb"
   },
   "outputs": [],
   "source": [
    "train_images = np.asarray(train_images)\n",
    "train_input_length = np.asarray(train_input_length)\n",
    "train_label_length = np.asarray(train_label_length)\n",
    "\n",
    "val_images = np.asarray(val_images)\n",
    "val_input_length = np.asarray(val_input_length)\n",
    "val_label_length = np.asarray(val_label_length)"
   ]
  },
  {
   "cell_type": "code",
   "execution_count": 30,
   "metadata": {
    "colab": {
     "base_uri": "https://localhost:8080/",
     "height": 34
    },
    "colab_type": "code",
    "id": "ynka_dx2D05g",
    "outputId": "a9528c37-881f-4fda-ad94-73894acc166c"
   },
   "outputs": [
    {
     "data": {
      "text/plain": [
       "(5693, 128, 1024, 3)"
      ]
     },
     "execution_count": 30,
     "metadata": {},
     "output_type": "execute_result"
    }
   ],
   "source": [
    "train_images.shape"
   ]
  },
  {
   "cell_type": "markdown",
   "metadata": {
    "colab_type": "text",
    "id": "1bcjvY3bKFXj"
   },
   "source": [
    "## **Строим модель**"
   ]
  },
  {
   "cell_type": "markdown",
   "metadata": {},
   "source": [
    "Модель состоит из нескольких слоев CNN, GRU и использует ctc_loss. [Вот](https://www.youtube.com/watch?v=SAfJ6nP2rrI) хорошее видео о нем на русском."
   ]
  },
  {
   "cell_type": "code",
   "execution_count": 31,
   "metadata": {},
   "outputs": [],
   "source": [
    "inputs = Input(shape=(128,1024,3))\n",
    "\n",
    "conv_1 = Conv2D(64, (3,3), activation = 'relu', padding='same')(inputs)\n",
    "pool_1 = MaxPool2D(pool_size=(4, 2), strides=2)(conv_1)\n",
    "\n",
    "conv_2 = Conv2D(128, (3,3), activation = 'relu', padding='same')(pool_1)\n",
    "pool_2 = MaxPool2D(pool_size=(4, 2), strides=2)(conv_2)\n",
    "\n",
    "conv_3 = Conv2D(256, (3,3), activation = 'relu', padding='same')(pool_2)\n",
    "\n",
    "conv_4 = Conv2D(256, (3,3), activation = 'relu', padding='same')(conv_3)\n",
    "\n",
    "pool_4 = MaxPool2D(pool_size=(4, 1),padding='same')(conv_4)\n",
    "\n",
    "conv_5 = Conv2D(512, (3,3), activation = 'relu', padding='same')(pool_4)\n",
    "\n",
    "batch_norm_5 = BatchNormalization()(conv_5)\n",
    "\n",
    "conv_6 = Conv2D(512, (3,3), activation = 'relu', padding='same')(batch_norm_5)\n",
    "batch_norm_6 = BatchNormalization()(conv_6)\n",
    "pool_6 = MaxPool2D(pool_size=(4, 1),padding='same')(batch_norm_6)\n",
    "\n",
    "conv_7 = Conv2D(512, (2,2), activation = 'relu')(pool_6)\n",
    "\n",
    "squeezed = Lambda(lambda x: K.squeeze(x, 1))(conv_7)\n",
    "\n",
    "blstm_1 = Bidirectional(GRU(256, return_sequences=True, dropout = 0.2))(squeezed)\n",
    "blstm_2 = Bidirectional(GRU(256, return_sequences=True, dropout = 0.2))(blstm_1)\n",
    "\n",
    "outputs = Dense(len(letters)+1, activation = 'softmax')(blstm_2)\n",
    "act_model = Model(inputs=inputs, outputs=outputs)\n",
    "    \n",
    "the_labels = Input(name='the_labels', shape=[max_label_len], dtype='float32')\n",
    "input_length = Input(name='input_length', shape=[1], dtype='int64')\n",
    "label_length = Input(name='label_length', shape=[1], dtype='int64')\n",
    "\n",
    "def ctc_lambda_func(args):\n",
    "    y_pred, labels, input_length, label_length = args\n",
    "\n",
    "    return K.ctc_batch_cost(labels, y_pred, input_length, label_length)\n",
    "\n",
    "loss_out = Lambda(ctc_lambda_func, output_shape=(1,), name='ctc')([outputs, the_labels, input_length, label_length])\n",
    "\n",
    "model = Model(inputs=[inputs, the_labels, input_length, label_length], outputs=loss_out)"
   ]
  },
  {
   "cell_type": "code",
   "execution_count": 33,
   "metadata": {},
   "outputs": [
    {
     "name": "stdout",
     "output_type": "stream",
     "text": [
      "Model: \"model\"\n",
      "_________________________________________________________________\n",
      "Layer (type)                 Output Shape              Param #   \n",
      "=================================================================\n",
      "input_1 (InputLayer)         [(None, 128, 1024, 3)]    0         \n",
      "_________________________________________________________________\n",
      "conv2d (Conv2D)              (None, 128, 1024, 64)     1792      \n",
      "_________________________________________________________________\n",
      "max_pooling2d (MaxPooling2D) (None, 63, 512, 64)       0         \n",
      "_________________________________________________________________\n",
      "conv2d_1 (Conv2D)            (None, 63, 512, 128)      73856     \n",
      "_________________________________________________________________\n",
      "max_pooling2d_1 (MaxPooling2 (None, 30, 256, 128)      0         \n",
      "_________________________________________________________________\n",
      "conv2d_2 (Conv2D)            (None, 30, 256, 256)      295168    \n",
      "_________________________________________________________________\n",
      "conv2d_3 (Conv2D)            (None, 30, 256, 256)      590080    \n",
      "_________________________________________________________________\n",
      "max_pooling2d_2 (MaxPooling2 (None, 8, 256, 256)       0         \n",
      "_________________________________________________________________\n",
      "conv2d_4 (Conv2D)            (None, 8, 256, 512)       1180160   \n",
      "_________________________________________________________________\n",
      "batch_normalization (BatchNo (None, 8, 256, 512)       2048      \n",
      "_________________________________________________________________\n",
      "conv2d_5 (Conv2D)            (None, 8, 256, 512)       2359808   \n",
      "_________________________________________________________________\n",
      "batch_normalization_1 (Batch (None, 8, 256, 512)       2048      \n",
      "_________________________________________________________________\n",
      "max_pooling2d_3 (MaxPooling2 (None, 2, 256, 512)       0         \n",
      "_________________________________________________________________\n",
      "conv2d_6 (Conv2D)            (None, 1, 255, 512)       1049088   \n",
      "_________________________________________________________________\n",
      "lambda (Lambda)              (None, 255, 512)          0         \n",
      "_________________________________________________________________\n",
      "bidirectional (Bidirectional (None, 255, 512)          1182720   \n",
      "_________________________________________________________________\n",
      "bidirectional_1 (Bidirection (None, 255, 512)          1182720   \n",
      "_________________________________________________________________\n",
      "dense (Dense)                (None, 255, 61)           31293     \n",
      "=================================================================\n",
      "Total params: 7,950,781\n",
      "Trainable params: 7,948,733\n",
      "Non-trainable params: 2,048\n",
      "_________________________________________________________________\n"
     ]
    }
   ],
   "source": [
    "act_model.summary()"
   ]
  },
  {
   "cell_type": "code",
   "execution_count": 36,
   "metadata": {},
   "outputs": [
    {
     "data": {
      "text/plain": [
       "True"
      ]
     },
     "execution_count": 36,
     "metadata": {},
     "output_type": "execute_result"
    }
   ],
   "source": [
    "np.all(train_input_length == 255)"
   ]
  },
  {
   "cell_type": "code",
   "execution_count": 37,
   "metadata": {
    "scrolled": true
   },
   "outputs": [
    {
     "name": "stdout",
     "output_type": "stream",
     "text": [
      "Epoch 1/300\n",
      "\n",
      "Epoch 00001: val_accuracy improved from -inf to 0.00000, saving model to checkpoint/model.hdf5\n",
      "285/285 - 82s - loss: 97.1710 - accuracy: 0.0000e+00 - val_loss: 91.0031 - val_accuracy: 0.0000e+00 - lr: 0.0010\n",
      "Epoch 2/300\n",
      "\n",
      "Epoch 00002: val_accuracy did not improve from 0.00000\n",
      "285/285 - 80s - loss: 89.3219 - accuracy: 0.0000e+00 - val_loss: 87.2287 - val_accuracy: 0.0000e+00 - lr: 0.0010\n",
      "Epoch 3/300\n",
      "\n",
      "Epoch 00003: val_accuracy did not improve from 0.00000\n",
      "285/285 - 80s - loss: 78.8230 - accuracy: 0.0000e+00 - val_loss: 92.5419 - val_accuracy: 0.0000e+00 - lr: 0.0010\n",
      "Epoch 4/300\n",
      "\n",
      "Epoch 00004: val_accuracy did not improve from 0.00000\n",
      "285/285 - 80s - loss: 36.5967 - accuracy: 1.7565e-04 - val_loss: 62.1775 - val_accuracy: 0.0000e+00 - lr: 0.0010\n",
      "Epoch 5/300\n",
      "\n",
      "Epoch 00005: val_accuracy improved from 0.00000 to 0.00728, saving model to checkpoint/model.hdf5\n",
      "285/285 - 82s - loss: 18.9235 - accuracy: 0.0026 - val_loss: 15.8422 - val_accuracy: 0.0073 - lr: 0.0010\n",
      "Epoch 6/300\n",
      "\n",
      "Epoch 00006: val_accuracy improved from 0.00728 to 0.01942, saving model to checkpoint/model.hdf5\n",
      "285/285 - 82s - loss: 14.2641 - accuracy: 0.0155 - val_loss: 14.2118 - val_accuracy: 0.0194 - lr: 0.0010\n",
      "Epoch 7/300\n",
      "\n",
      "Epoch 00007: val_accuracy improved from 0.01942 to 0.02427, saving model to checkpoint/model.hdf5\n",
      "285/285 - 82s - loss: 11.7377 - accuracy: 0.0242 - val_loss: 13.0802 - val_accuracy: 0.0243 - lr: 0.0010\n",
      "Epoch 8/300\n",
      "\n",
      "Epoch 00008: val_accuracy improved from 0.02427 to 0.03155, saving model to checkpoint/model.hdf5\n",
      "285/285 - 82s - loss: 9.9944 - accuracy: 0.0360 - val_loss: 12.8453 - val_accuracy: 0.0316 - lr: 0.0010\n",
      "Epoch 9/300\n",
      "\n",
      "Epoch 00009: val_accuracy did not improve from 0.03155\n",
      "285/285 - 81s - loss: 8.7455 - accuracy: 0.0432 - val_loss: 11.3494 - val_accuracy: 0.0316 - lr: 0.0010\n",
      "Epoch 10/300\n",
      "\n",
      "Epoch 00010: val_accuracy did not improve from 0.03155\n",
      "285/285 - 82s - loss: 7.7995 - accuracy: 0.0516 - val_loss: 12.5485 - val_accuracy: 0.0194 - lr: 0.0010\n",
      "Epoch 11/300\n",
      "\n",
      "Epoch 00011: val_accuracy improved from 0.03155 to 0.04854, saving model to checkpoint/model.hdf5\n",
      "285/285 - 82s - loss: 7.0369 - accuracy: 0.0632 - val_loss: 10.7503 - val_accuracy: 0.0485 - lr: 0.0010\n",
      "Epoch 12/300\n",
      "\n",
      "Epoch 00012: val_accuracy did not improve from 0.04854\n",
      "285/285 - 82s - loss: 6.3138 - accuracy: 0.0761 - val_loss: 11.4091 - val_accuracy: 0.0364 - lr: 0.0010\n",
      "Epoch 13/300\n",
      "\n",
      "Epoch 00013: val_accuracy improved from 0.04854 to 0.06796, saving model to checkpoint/model.hdf5\n",
      "285/285 - 82s - loss: 5.9585 - accuracy: 0.0812 - val_loss: 11.4360 - val_accuracy: 0.0680 - lr: 0.0010\n",
      "Epoch 14/300\n",
      "\n",
      "Epoch 00014: val_accuracy did not improve from 0.06796\n",
      "285/285 - 81s - loss: 5.7111 - accuracy: 0.0898 - val_loss: 11.2439 - val_accuracy: 0.0534 - lr: 0.0010\n",
      "Epoch 15/300\n",
      "\n",
      "Epoch 00015: val_accuracy did not improve from 0.06796\n",
      "285/285 - 81s - loss: 5.2573 - accuracy: 0.1108 - val_loss: 11.3010 - val_accuracy: 0.0607 - lr: 0.0010\n",
      "Epoch 16/300\n",
      "\n",
      "Epoch 00016: val_accuracy improved from 0.06796 to 0.08010, saving model to checkpoint/model.hdf5\n",
      "285/285 - 82s - loss: 4.8743 - accuracy: 0.1296 - val_loss: 10.9249 - val_accuracy: 0.0801 - lr: 0.0010\n",
      "Epoch 17/300\n",
      "\n",
      "Epoch 00017: val_accuracy improved from 0.08010 to 0.09951, saving model to checkpoint/model.hdf5\n",
      "285/285 - 82s - loss: 3.7547 - accuracy: 0.1943 - val_loss: 10.4650 - val_accuracy: 0.0995 - lr: 7.0000e-04\n",
      "Epoch 18/300\n",
      "\n",
      "Epoch 00018: val_accuracy did not improve from 0.09951\n",
      "285/285 - 81s - loss: 3.0293 - accuracy: 0.2816 - val_loss: 10.7762 - val_accuracy: 0.0922 - lr: 7.0000e-04\n",
      "Epoch 19/300\n",
      "\n",
      "Epoch 00019: val_accuracy improved from 0.09951 to 0.12379, saving model to checkpoint/model.hdf5\n",
      "285/285 - 82s - loss: 2.8541 - accuracy: 0.3260 - val_loss: 10.9951 - val_accuracy: 0.1238 - lr: 7.0000e-04\n",
      "Epoch 20/300\n",
      "\n",
      "Epoch 00020: val_accuracy did not improve from 0.12379\n",
      "285/285 - 82s - loss: 2.6750 - accuracy: 0.3715 - val_loss: 11.1245 - val_accuracy: 0.1141 - lr: 7.0000e-04\n",
      "Epoch 21/300\n",
      "\n",
      "Epoch 00021: val_accuracy did not improve from 0.12379\n",
      "285/285 - 81s - loss: 2.6629 - accuracy: 0.3813 - val_loss: 12.1826 - val_accuracy: 0.0947 - lr: 7.0000e-04\n",
      "Epoch 22/300\n",
      "\n",
      "Epoch 00022: val_accuracy did not improve from 0.12379\n",
      "285/285 - 81s - loss: 2.8448 - accuracy: 0.3626 - val_loss: 11.7185 - val_accuracy: 0.0947 - lr: 7.0000e-04\n",
      "Epoch 23/300\n",
      "\n",
      "Epoch 00023: val_accuracy improved from 0.12379 to 0.15777, saving model to checkpoint/model.hdf5\n",
      "285/285 - 82s - loss: 2.2997 - accuracy: 0.4723 - val_loss: 11.0727 - val_accuracy: 0.1578 - lr: 4.9000e-04\n",
      "Epoch 24/300\n",
      "\n",
      "Epoch 00024: val_accuracy did not improve from 0.15777\n",
      "285/285 - 81s - loss: 1.9569 - accuracy: 0.5911 - val_loss: 11.3458 - val_accuracy: 0.1408 - lr: 4.9000e-04\n",
      "Epoch 25/300\n",
      "\n",
      "Epoch 00025: val_accuracy improved from 0.15777 to 0.16262, saving model to checkpoint/model.hdf5\n",
      "285/285 - 82s - loss: 1.7443 - accuracy: 0.6800 - val_loss: 11.5835 - val_accuracy: 0.1626 - lr: 4.9000e-04\n",
      "Epoch 26/300\n",
      "\n",
      "Epoch 00026: val_accuracy did not improve from 0.16262\n",
      "285/285 - 81s - loss: 1.7778 - accuracy: 0.6757 - val_loss: 11.9314 - val_accuracy: 0.1286 - lr: 4.9000e-04\n",
      "Epoch 27/300\n",
      "\n",
      "Epoch 00027: val_accuracy did not improve from 0.16262\n",
      "285/285 - 81s - loss: 1.7810 - accuracy: 0.6726 - val_loss: 11.9162 - val_accuracy: 0.1529 - lr: 4.9000e-04\n",
      "Epoch 28/300\n",
      "\n",
      "Epoch 00028: val_accuracy did not improve from 0.16262\n",
      "285/285 - 81s - loss: 1.5772 - accuracy: 0.7620 - val_loss: 11.9752 - val_accuracy: 0.1602 - lr: 3.4300e-04\n",
      "Epoch 29/300\n",
      "\n",
      "Epoch 00029: val_accuracy did not improve from 0.16262\n",
      "285/285 - 81s - loss: 1.4388 - accuracy: 0.8259 - val_loss: 11.8430 - val_accuracy: 0.1626 - lr: 3.4300e-04\n",
      "Epoch 30/300\n",
      "\n",
      "Epoch 00030: val_accuracy improved from 0.16262 to 0.16990, saving model to checkpoint/model.hdf5\n",
      "285/285 - 82s - loss: 1.3788 - accuracy: 0.8639 - val_loss: 12.4220 - val_accuracy: 0.1699 - lr: 3.4300e-04\n",
      "Epoch 31/300\n",
      "\n",
      "Epoch 00031: val_accuracy did not improve from 0.16990\n",
      "285/285 - 82s - loss: 1.3985 - accuracy: 0.8556 - val_loss: 12.4913 - val_accuracy: 0.1505 - lr: 3.4300e-04\n",
      "Epoch 32/300\n",
      "\n",
      "Epoch 00032: val_accuracy improved from 0.16990 to 0.17718, saving model to checkpoint/model.hdf5\n",
      "285/285 - 81s - loss: 1.3947 - accuracy: 0.8553 - val_loss: 12.5397 - val_accuracy: 0.1772 - lr: 3.4300e-04\n",
      "Epoch 33/300\n",
      "\n",
      "Epoch 00033: val_accuracy improved from 0.17718 to 0.19417, saving model to checkpoint/model.hdf5\n",
      "285/285 - 82s - loss: 1.3287 - accuracy: 0.8906 - val_loss: 12.1679 - val_accuracy: 0.1942 - lr: 2.4010e-04\n",
      "Epoch 34/300\n",
      "\n",
      "Epoch 00034: val_accuracy did not improve from 0.19417\n",
      "285/285 - 81s - loss: 1.2566 - accuracy: 0.9246 - val_loss: 12.5858 - val_accuracy: 0.1699 - lr: 2.4010e-04\n",
      "Epoch 35/300\n",
      "\n",
      "Epoch 00035: val_accuracy did not improve from 0.19417\n",
      "285/285 - 81s - loss: 1.2347 - accuracy: 0.9343 - val_loss: 12.5495 - val_accuracy: 0.1699 - lr: 2.4010e-04\n",
      "Epoch 36/300\n",
      "\n",
      "Epoch 00036: val_accuracy did not improve from 0.19417\n",
      "285/285 - 82s - loss: 1.2331 - accuracy: 0.9325 - val_loss: 12.5719 - val_accuracy: 0.1723 - lr: 2.4010e-04\n",
      "Epoch 37/300\n",
      "\n",
      "Epoch 00037: val_accuracy did not improve from 0.19417\n",
      "285/285 - 81s - loss: 1.2591 - accuracy: 0.9192 - val_loss: 13.1587 - val_accuracy: 0.1650 - lr: 2.4010e-04\n",
      "Epoch 00037: early stopping\n"
     ]
    }
   ],
   "source": [
    "batch_size = 20\n",
    "epochs = 300\n",
    "\n",
    "from tensorflow.keras.callbacks import EarlyStopping,ReduceLROnPlateau\n",
    "\n",
    "model.compile(loss={'ctc': lambda y_true, y_pred: y_pred}, optimizer = 'adam', metrics=['accuracy'])\n",
    "\n",
    "os.makedirs('checkpoint', exist_ok=True)\n",
    "\n",
    "filepath=\"checkpoint/model.hdf5\"\n",
    "es = EarlyStopping(monitor='val_loss', mode='min', verbose=1, patience=20)\n",
    "reduce_lr = ReduceLROnPlateau(monitor='val_loss', factor=0.7,\n",
    "                              patience=5, min_lr=0.00001)\n",
    "\n",
    "checkpoint = ModelCheckpoint(filepath=filepath, monitor='val_accuracy', verbose=1, save_best_only=True, mode='auto')\n",
    "callbacks_list = [checkpoint,es,reduce_lr]\n",
    "\n",
    "history = model.fit(x=[train_images, train_padded_label, train_input_length, train_label_length],\n",
    "                    y=np.zeros(len(train_images)),\n",
    "                    batch_size=batch_size, \n",
    "                    epochs=epochs, \n",
    "                    validation_data=([val_images, val_padded_label, val_input_length, val_label_length], [np.zeros(len(val_images))]),\n",
    "                    verbose=2,\n",
    "                    callbacks=callbacks_list)\n"
   ]
  },
  {
   "cell_type": "markdown",
   "metadata": {},
   "source": [
    "Посмотрим качество на валидации."
   ]
  },
  {
   "cell_type": "code",
   "execution_count": null,
   "metadata": {},
   "outputs": [],
   "source": [
    "# loss: 91 -> 87 -> 92 -> 62 -> 15 -> 14 -> 13 -> 12 -> 11 -> 12 -> 10..."
   ]
  },
  {
   "cell_type": "code",
   "execution_count": 38,
   "metadata": {},
   "outputs": [],
   "source": [
    "import time"
   ]
  },
  {
   "cell_type": "code",
   "execution_count": 39,
   "metadata": {
    "scrolled": true
   },
   "outputs": [
    {
     "name": "stdout",
     "output_type": "stream",
     "text": [
      "WARNING:tensorflow:From /home/artbataev/anaconda3/envs/digitalp/lib/python3.7/site-packages/tensorflow/python/keras/backend.py:5871: sparse_to_dense (from tensorflow.python.ops.sparse_ops) is deprecated and will be removed in a future version.\n",
      "Instructions for updating:\n",
      "Create a `tf.sparse.SparseTensor` and use `tf.sparse.to_dense` instead.\n",
      "4.532464265823364\n"
     ]
    }
   ],
   "source": [
    "start = time.time()\n",
    "act_model.load_weights(filepath)\n",
    "prediction = act_model.predict(val_images)\n",
    "\n",
    "decoded = K.ctc_decode(prediction, \n",
    "                       input_length=np.ones(prediction.shape[0]) * prediction.shape[1],\n",
    "                       greedy=True)[0][0]\n",
    "out = K.get_value(decoded)\n",
    "end = time.time()\n",
    "print(end-start)"
   ]
  },
  {
   "cell_type": "code",
   "execution_count": null,
   "metadata": {},
   "outputs": [],
   "source": []
  },
  {
   "cell_type": "code",
   "execution_count": 40,
   "metadata": {
    "scrolled": true
   },
   "outputs": [
    {
     "name": "stdout",
     "output_type": "stream",
     "text": [
      "Ground truth -> Recognized\n",
      "[ERR:26] \"+ но хорошо мужикоф содержите\" -> \"+ к\"\n",
      "[ERR:2] \"i тако пѣхота далее\" -> \"iтако пѣхота дале\"\n",
      "[ERR:2] \"римут то б хотя шквадру от 7\" -> \"римут то б хотя шк вадру от7\"\n",
      "[ERR:1] \"рыхъ нужъдахъ пишетъ i то вы\" -> \"рыхъ нужъ дахъ пишетъ i то вы\"\n",
      "[OK] \"чтоб мнѣ мое писмо поттвердит\" -> \"чтоб мнѣ мое писмо поттвердит\"\n",
      "[OK] \"жанъ i лутче всякому своей\" -> \"жанъ i лутче всякому своей\"\n",
      "[OK] \"зит\" -> \"зит\"\n",
      "[OK] \"пѣхотою удержат\" -> \"пѣхотою удержат\"\n",
      "[ERR:3] \"нам здес зело докучает аднакож для\" -> \"нам здес зело до куает аднакождля\"\n",
      "[ERR:2] \"ет указ не описываяс всту\" -> \"ет указ не опиывлаяс всту\"\n",
      "[ERR:4] \"ного и возна в заключе\" -> \"ного авѣзна в закиюче\"\n",
      "[ERR:3] \"и протчег\" -> \"i протзеб\"\n",
      "[OK] \"1\" -> \"1\"\n",
      "[ERR:3] \"хотя за далностию i непърестаными отмѣ\" -> \"хотя задалностию i непърестаны ми отнѣ\"\n",
      "[ERR:1] \"обявъляю вам что я сюды приѣхал вчерас\" -> \"обявъляю вам что я сюды приѣхал вчера\"\n",
      "[ERR:1] \"государственных дѣл положит на въ\" -> \"посударственных дѣл положит на въ\"\n",
      "[ERR:1] \"заранѣе\" -> \"за ранѣе\"\n",
      "[ERR:2] \"чтоб нашим людем на островѣ не ос\" -> \"чтоб нашим людем на островѣнен ос\"\n",
      "[ERR:2] \"что мы которой мир i отдачю турком обѣ\" -> \"что мы которой мир i от дачю турком осѣ\"\n",
      "[ERR:3] \"долго войскъ держат не можем но\" -> \"досго войскъ держат не може ко\"\n",
      "[ERR:2] \"новых наших непъриятелей хот\" -> \"новых наших непъриятелей х то\"\n",
      "[ERR:3] \"також зѣло нужно чтоб вы еще къ че\" -> \"також зѣло нужно чтоб вы еще кыце\"\n",
      "[ERR:2] \"оная готова i с протчими полками а iмен\" -> \"онаяготова iс протчими полками а iмен\"\n",
      "[OK] \"сим мѣстом i кривицом\" -> \"сим мѣстом i кривицом\"\n",
      "[ERR:3] \"го что чаяли транпорту быт ко гданску\" -> \"го что чаяли тран портубыт когданску\"\n",
      "[ERR:1] \"апърѣля\" -> \"а пърѣля\"\n",
      "[OK] \"+\" -> \"+\"\n",
      "[ERR:1] \"же более уже половины здѣлана\" -> \"же более уже половины здѣла на\"\n",
      "[OK] \"те\" -> \"те\"\n",
      "[OK] \"саксонцоф надѣетца невозможно\" -> \"саксонцоф надѣетца невозможно\"\n",
      "[ERR:3] \"ремени то в войскѣ нашем таiт i понеже\" -> \"ренени то в войскѣ нашемтаi i понеже\"\n",
      "[ERR:8] \"да четверной лапушкѣ втраiом\" -> \"дачот ворнойле пушкѣ в траiом\"\n",
      "[ERR:3] \"но въ ни въ какое дѣйство оного скло\" -> \"новъ ни въ пакое дѣйство оного сыло\"\n",
      "[ERR:2] \"духъ дол ежели ж может i доро\" -> \"дзхо дол ежели ж может i доро\"\n",
      "[ERR:6] \"ного с кѣм с ни ср своiм намѣрением\" -> \"ного скѣ снасо своiм намѣрением\"\n",
      "[ERR:3] \"зоноф не вывадит\" -> \"зон невывадит\"\n",
      "[ERR:5] \"приказывал я к тебѣ с шепелевым чтоб\" -> \"приказываля к тесбѣ сшепелеым что\"\n",
      "[OK] \"будет\" -> \"будет\"\n",
      "[ERR:4] \"ровых i двух тысячь нѣт о пъровиантѣ тру\" -> \"ровых i двух тысянънѣт опъровиантѣ тру\"\n",
      "[ERR:1] \"шведская надежда послѣд\" -> \"шведская надерда послѣд\"\n",
      "[ERR:2] \"ка кд так i по дан\" -> \"ка к д так i подан\"\n",
      "[ERR:1] \"ли оныя карабли\" -> \"ли оныя карахли\"\n",
      "[ERR:1] \"в голстиндию\" -> \"в голстинию\"\n",
      "[ERR:50] \"сказывают что в ден в виду непъриятели стоят а к ноче\" -> \"в ч\"\n",
      "[OK] \"на них въ сенат\" -> \"на них въ сенат\"\n",
      "[ERR:3] \"понеже всей помераниi ключъ\" -> \"понеже всей помераниi кию чь\"\n",
      "[ERR:2] \"пехотою i силны] но ждем караля датского\" -> \"пѣхотою i силны] нождем караля датского\"\n",
      "[OK] \"со въсѣхъ трех сторон\" -> \"со въсѣхъ трех сторон\"\n",
      "[ERR:1] \"господин посол\" -> \"посподин посол\"\n",
      "[ERR:1] \"том же б обнадежили что\" -> \"томже б обнадежили что\"\n",
      "[OK] \"впред знат\" -> \"впред знат\"\n",
      "[ERR:9] \"граф никита моiсеевичъ зотоф взял на\" -> \"грофники тамоi сее вичь зотоф в зялна\"\n",
      "[ERR:1] \"привѣсть то хотя б\" -> \"превѣсть то хотя б\"\n",
      "[ERR:1] \"бы тѣм отвесть непъриятеля от полта\" -> \"бы тѣм отвесть непъриятеля отполта\"\n",
      "[ERR:1] \"ся фрунтом протиф дама [а нашим за\" -> \"ся фрунтом протиф дама [а нашим з\"\n",
      "[ERR:1] \"отвѣт на писмо г в а\" -> \"отвѣт на писме г в а\"\n",
      "[ERR:2] \"ковых дачах опъре\" -> \"ковых дачах о поре\"\n",
      "[OK] \"генералом дневат но\" -> \"генералом дневат но\"\n",
      "[ERR:3] \"портъ будет iли уже нынѣ i есть\" -> \"портъ будет iли уж с нынѣ iесть\"\n",
      "[ERR:3] \"на которых бы чрез озеро\" -> \"на к о трых бы чрез озеро\"\n",
      "[OK] \"3\" -> \"3\"\n",
      "[OK] \"товит работником припасы\" -> \"товит работником припасы\"\n",
      "[ERR:9] \"[на нашем на своем жаловане i хлѣбѣ\" -> \"[ кн ашо нас воем жаловоне i хлѣбѣ\"\n",
      "[OK] \"такъже б i то помыслит надоб\" -> \"такъже б i то помыслит надоб\"\n",
      "[ERR:1] \"но но дается на рассуждение вам\" -> \"ноно дается на рассуждение вам\"\n",
      "[ERR:4] \"примѣрофъ шныхъ\" -> \"примѣ рофъшныл1\"\n",
      "[ERR:2] \"ной мир учинят тогда з голштендиi княж\" -> \"ной миручинят тогда зголштендиi княж\"\n",
      "[ERR:3] \"9 8\" -> \"ф5\"\n",
      "[OK] \"зу\" -> \"зу\"\n",
      "[ERR:4] \"та так же разсуждал как i я\" -> \"та так же разсуж далкакiя\"\n",
      "[OK] \"лижатца разорит а людей в киефъ\" -> \"лижатца разорит а людей в киефъ\"\n",
      "[OK] \"ц i г точию яко пъ\" -> \"ц i г точию яко пъ\"\n",
      "[OK] \"ны но толко на пъроход а особливо пушки\" -> \"ны но толко на пъроход а особливо пушки\"\n",
      "[ERR:1] \"i сакъсофъ\" -> \"i сакъ софъ\"\n",
      "[OK] \"ли к полкам гдѣ оны\" -> \"ли к полкам гдѣ оны\"\n",
      "[ERR:2] \"умѣшкал дабы сегодня въвечеру\" -> \"умѣшкал дабы сего дня въ вечеру\"\n",
      "[ERR:1] \"ротчия] болше 30 сажен перетя\" -> \"ротчия] болше 30 сажет перетя\"\n",
      "[ERR:1] \"лучил в которых пи\" -> \"кучил в которых пи\"\n",
      "[ERR:2] \"нем набрат правианту в полше i вывес\" -> \"нем на брат правиасту в полше i вывес\"\n",
      "[ERR:5] \"iмѣют такую же силу i свободность как i оборфискал\" -> \"iмѣют такуюже силу i своборность как i обор ниска\"\n",
      "[ERR:4] \"посылаю со фъсѣх писем трипликаты\" -> \"посылаю с офъѣх писем три пликаты\"\n",
      "[ERR:3] \"на пис ваше отвѣтствую\" -> \"напис ваше ответстоую\"\n",
      "[ERR:6] \"судоф стояла чего для мнѣние iмѣли дабы\" -> \"судоф с птоялачего для мнѣние i мѣлиабы\"\n",
      "[ERR:1] \"получили вѣдомость чрез фистума\" -> \"получили вѣдомость чрез фисту ма\"\n",
      "[ERR:6] \"том на мѣсецъ лтиллериским\" -> \"том намѣсецы упиле риским\"\n",
      "[ERR:2] \"с фелтъмарщалком поставит в доб\" -> \"сфелтъмарщалком поствит в доб\"\n",
      "[OK] \"для безопасности оных курса учини\" -> \"для безопасности оных курса учини\"\n",
      "[ERR:2] \"знаешь оной зело потребен\" -> \"знаешь оной зело потче бен\"\n",
      "[OK] \"му государю i въсему го\" -> \"му государю i въсему го\"\n",
      "[ERR:7] \"что лутче способнее i не убыточ\" -> \"что лоту с пособнее iне у бытон\"\n",
      "[ERR:2] \"х куракину iзвол с ним о том сносит\" -> \"х куракину iзволсним о том сносит\"\n",
      "[ERR:1] \"генерала л брюса\" -> \"генерала i брюса\"\n",
      "[ERR:4] \"ше на саксонских войскъ здѣс останетца\" -> \"шена аксонских войстъ здѣс одтанетца\"\n",
      "[ERR:6] \"ности вредит а наiпаче тшiт\" -> \"ности вредит а на iпачепм\"\n",
      "[ERR:3] \"сие обяви i проси отповеди дабы мы по тому\" -> \"рие обяви i прои отповеди дабы мы потому\"\n",
      "[ERR:7] \"вам придат i на сей час возмите к себѣ\" -> \"вам придат i начечас возмитекебѣ\"\n",
      "[ERR:2] \"г а здѣлат контроли\" -> \"га здѣлат конпроли\"\n",
      "[ERR:1] \"такое великое число предста\" -> \"такое великае число предста\"\n",
      "[ERR:3] \"бы непъриятел незапно не напал iли б нам\" -> \"бы непъриятел не закно не нагал iли б нам\"\n",
      "[ERR:1] \"меi i стат междо рѣкъ тут гдѣ непърия\" -> \"меi i стат междорѣкъ тут гдѣ непърия\"\n",
      "[ERR:6] \"талофъ\" -> \"+ те\"\n",
      "[ERR:1] \"могу слѣдовать + i тако прошу\" -> \"могу слѣдоват + i тако прошу\"\n",
      "[ERR:2] \"кордебаталиi вмѣс\" -> \"кор дебаталиi в мѣс\"\n",
      "[ERR:4] \"поклонис теткѣ от меня в протчем\" -> \"поклонистеткѣ отменя в прочет\"\n",
      "[ERR:2] \"щиi престол i на нем сѣдя\" -> \"щщиi престол  на нем сѣдя\"\n",
      "[ERR:2] \"вом которой постъ тежелѣ\" -> \"вом которой понтъ тежел\"\n",
      "[ERR:4] \"дабы свой дисператной пут могли с помощию\" -> \"дабы с вой дис пеоратной путмогли с помощию\"\n",
      "[ERR:2] \"терянием многова чис\" -> \"терянием много вачис\"\n",
      "[ERR:2] \"воровъство запорожское i совѣтует чтоб\" -> \"воро въство за порожское i совѣтует чтоб\"\n",
      "[ERR:4] \"бѣлой жолтой i красной позват г л го\" -> \"бѣлой жол той с краснос позват г л4 го\"\n",
      "[OK] \"но i турки возвратятца\" -> \"но i турки возвратятца\"\n",
      "[ERR:1] \"⊗ понеже непъриятел\" -> \" понеже непъриятел\"\n",
      "[ERR:1] \"7\" -> \"1\"\n",
      "[ERR:4] \"ниi а не при губернаторѣ лантърих\" -> \"ниi а ме пригубернторѣ ластърих\"\n",
      "[OK] \"5\" -> \"5\"\n",
      "[OK] \"тъ бочес\" -> \"тъ бочес\"\n",
      "[ERR:3] \"ко iзбъ а людей оставит по разсмотрению\" -> \"ко iзбъ ллюдей оставит поразсмотрению\"\n",
      "[ERR:4] \"что вы не могли далее iтит за худою\" -> \"что вы не мог кидалее iтет за худою\"\n",
      "[ERR:6] \"збират магазеiсны по река i устроiват по рекам\" -> \"збират магазеiнны порена i устрават порекам\"\n",
      "[ERR:8] \"отвътствую что лутче б i надежнее зимою\" -> \"от въсрапъ что я утче б i надежнее зимою\"\n",
      "[OK] \"ну [о чем пространно ко оному писано для\" -> \"ну [о чем пространно ко оному писано для\"\n",
      "[ERR:1] \"тупникоф вѣдает без въсякого б опа\" -> \"тупникодф вѣдает без въсякого б опа\"\n",
      "[ERR:2] \"всегда iмѣя фут па\" -> \"всегда iмѣя фунпа\"\n",
      "[ERR:1] \"iз лагору 11 д iюля 1711 петръ\" -> \"iз лагору 11 д iюля 171 петръ\"\n",
      "[ERR:2] \"шую кампанию сей кор\" -> \"шую кахпанию сейкор\"\n",
      "[ERR:2] \"войко розпущено каралю шведскому пос\" -> \"войко розпущано каралюшведскому пос\"\n",
      "[ERR:2] \"i барон левелволдъ\" -> \"i барослевелволдъ\"\n",
      "[OK] \"на 5\" -> \"на 5\"\n",
      "[OK] \"лости как напърет сего\" -> \"лости как напърет сего\"\n",
      "[ERR:7] \"i амунициi\" -> \"iбмуно аца\"\n",
      "[ERR:1] \"время прокормитца а к розлитием\" -> \"время прокормитца а крозлитием\"\n",
      "[ERR:1] \"ба доволно получил i для того его\" -> \"бадоволно получил i для того его\"\n",
      "[ERR:1] \"чин капитана камандера толко в сем\" -> \"чинкапитана камандера толко в сем\"\n",
      "[OK] \"сих крепостѣй\" -> \"сих крепостѣй\"\n",
      "[OK] \"выписат iз шведских\" -> \"выписат iз шведских\"\n",
      "[OK] \"5\" -> \"5\"\n",
      "[OK] \"тѣх ссылат с наказанем на галеры а рекру\" -> \"тѣх ссылат с наказанем на галеры а рекру\"\n",
      "[ERR:1] \"может получит + войски рус\" -> \"может получит + войскирус\"\n",
      "[OK] \"примаетца\" -> \"примаетца\"\n",
      "[ERR:7] \"i спрашиват чье i записыват а для\" -> \"iсправшиватчье i за пивкват адля\"\n",
      "[ERR:1] \"там взят в протчем словесно\" -> \"там взят в протчем словежно\"\n",
      "[ERR:1] \"жья дернъ к доскам е сквоз оной амбри\" -> \"жьядернъ к доскам е сквоз оной амбри\"\n",
      "[ERR:1] \"чтоб он не слабо в сем дѣле пос\" -> \"чтоб от не слабо в сем дѣле пос\"\n",
      "[ERR:7] \"ло а въ ревелѣ указ такой с был чтоб трет\" -> \"ло а т зъ ревелѣ указ такой бню чтоб трет\"\n",
      "[ERR:1] \"а я за счастье себѣ ставълю что\" -> \"а я засчастье себѣ ставълю что\"\n",
      "[ERR:1] \"4\" -> \"+\"\n",
      "[ERR:7] \"ца лутче к ревелю iли перноу в дарогѣ вездѣ ѣхат\" -> \"ца лоте кревълю i лирерноу в дарогѣ вездѣ ѣхат\"\n",
      "[ERR:2] \"самому с войском в указ\" -> \"самому с войском вукай\"\n",
      "[ERR:3] \"ралы надобнее для со\" -> \"раны надобнее дляо\"\n",
      "[ERR:2] \"крѣпъкой ситуациi\" -> \"крѣпъкоз сутуациi\"\n",
      "[ERR:6] \"да хотя i горазда обнадежил корол меня в бытнос\" -> \"дахотя i горазда обнадеожил королменя в быт но ж\"\n",
      "[ERR:3] \"тите о забавах i тово нет у нас поне\" -> \"тите озабевах i товонет у нас поне\"\n",
      "[ERR:1] \"я державы в прот\" -> \"я держа вы в прот\"\n",
      "[OK] \"амбурского дѣла в таком\" -> \"амбурского дѣла в таком\"\n",
      "[ERR:1] \"он мнѣ репортовал что у них бу\" -> \"он мнѣрепортовал что у них бу\"\n",
      "[ERR:1] \"1\" -> \"+\"\n",
      "[ERR:4] \"ном дѣ обязатца каким договором с прус\" -> \"ным дѣ обязатца каким договором спроу\"\n",
      "[ERR:1] \"за блага разсуждает\" -> \"за бла га разсуждает\"\n",
      "[ERR:4] \"го великого суншта нѣт] iбо сие начало i конецъ фло\" -> \"го великогокунштанѣт] i бо сие начало i конецъ фло\"\n",
      "[OK] \"чтоб сие княжство от непърия\" -> \"чтоб сие княжство от непърия\"\n",
      "[ERR:4] \"былъ учинит\" -> \"биимъ усинит\"\n",
      "[ERR:1] \"скоряя отдачю i розорене окончат\" -> \"скоряя отдачю iрозорене окончат\"\n",
      "[ERR:2] \"кв\" -> \"но\"\n",
      "[ERR:4] \"о вас о чем желаю вѣдат а особливо как\" -> \"овас о чем желаювѣядат а о собливо как\"\n",
      "[OK] \"+\" -> \"+\"\n",
      "[ERR:7] \"ѣхат в новъгородской уѣздъ в то мѣсто гдѣ\" -> \"ѣхат в но въ городской уѣздъ втомѣ стогдо\"\n",
      "[ERR:2] \"ѣхал приказал ад гулденлеву чтоб\" -> \"ѣлал приказал адгулденлеву чтоб\"\n",
      "[ERR:3] \"спортѣ iмѣет того\" -> \"рортѣ iмѣет то го\"\n",
      "[OK] \"тож\" -> \"тож\"\n",
      "[ERR:3] \"отдават на откуп дабы тѣ в сужбѣ бу\" -> \"отдават на откугдабытѣ в сужбѣ бу\"\n",
      "[ERR:2] \"доволства лутче б не чинит чему\" -> \"даволства лутчеб не чинит чему\"\n",
      "[ERR:1] \"ца на брауншвитской съѣздъ гдѣ\" -> \"ца на бра уншвитской съѣздъ гдѣ\"\n",
      "[ERR:3] \"по своему обнадеживанию + iли сам\" -> \"посвоему обкадежи ванию + iли сам\"\n",
      "[OK] \"4\" -> \"4\"\n",
      "[ERR:3] \"все войско конное i пѣще с согласия\" -> \"всевойско конное i пѣще согласия\"\n",
      "[ERR:10] \"нам подлинно знат i не опустит дѣлат iли iтит вон так\" -> \"нам подлиннанат i не опустин дѣлан iли татвантак\"\n",
      "[ERR:3] \"под моч то оных i отаковать + а тар\" -> \"подмочто оных i отаковат + а тар\"\n",
      "[ERR:1] \"гой подряду г кудрявъцова iбо оныя велѣно подрядом\" -> \"гой годряду г кудрявъцова iбо оныя велѣно подрядом\"\n",
      "[ERR:2] \"акортъ с непъриятелем никогда\" -> \"а кортѣ с непъриятелем никогда\"\n",
      "[ERR:1] \"же резиденцию вам iмѣт в питербурхѣ\" -> \"жерезиденцию вам iмѣт в питербурхѣ\"\n",
      "[OK] \"4\" -> \"4\"\n",
      "[ERR:2] \"i ежели б не такая крѣпкая паса\" -> \"i ежли б не такая крѣккая паса\"\n",
      "[OK] \"паснее к вам проѣздъ былъ\" -> \"паснее к вам проѣздъ былъ\"\n",
      "[ERR:2] \"водит до беркен i потом буду\" -> \"водит доберкен i потом сбуду\"\n",
      "[ERR:7] \"рах нѣт ли каких iну шанцаф кото\" -> \"рах нѣтли какихк ст шанцад ото\"\n",
      "[OK] \"ланныя\" -> \"ланныя\"\n",
      "[ERR:1] \"зимоват iли ретироватца бы\" -> \"зимоват iли ретароватца бы\"\n",
      "[ERR:2] \"послѣ в озовѣ мочно додѣлат] i будущею весною\" -> \"посмѣ возовѣ мочно додѣлат] i будущею весною\"\n",
      "[OK] \"чат во iмя господне сего лѣта сим работником\" -> \"чат во iмя господне сего лѣта сим работником\"\n",
      "[OK] \"раниi буде же нѣт то б не дат разрѣ\" -> \"раниi буде же нѣт то б не дат разрѣ\"\n",
      "[ERR:5] \"му три тысечи рублеф денегъ\" -> \"мутри ты сечирублетф денего\"\n",
      "[ERR:1] \"пъру а потом iскат случитца с корпусом\" -> \"пъру а потом iскат случцитца с корпусом\"\n",
      "[ERR:2] \"которая у стралзунта прибавя\" -> \"котория устралзунта прибавя\"\n",
      "[ERR:5] \"рудит во многих мѣстах i тое\" -> \"рудит вомногих иѣстах птою\"\n",
      "[ERR:1] \"контроскарпъ дѣлат просто без разрѣ\" -> \"контроскарпъдѣлат просто без разрѣ\"\n",
      "[ERR:4] \"когда на какой окордъ город ри\" -> \"кодат на какой окардъ городри\"\n",
      "[ERR:2] \"во въремя курса iмѣт всегда\" -> \"во въремя  упса iмѣт всегда\"\n",
      "[ERR:1] \"что дѣлат в небыти моем сыну мое\" -> \"что дѣлат в небытимоем сыну мое\"\n",
      "[ERR:2] \"писмо ваше я получил на каторое для\" -> \"писмо ваше я получил на ноторое для\"\n",
      "[ERR:1] \"+ мы писменнойе указ дали сенату\" -> \"+ мы писменной указ дали сенату\"\n",
      "[ERR:3] \"которыя iмѣем с чюжими областьми\" -> \"которыя iмѣем счюжими о бластъми\"\n",
      "[ERR:3] \"на то на въсе рол полской соiзволилъ\" -> \"нато на въсе волполской соiзволилъ\"\n",
      "[ERR:2] \"дѣли а по упъровълениi укрепъления сего га\" -> \"дѣли а поупоровълениi укрепъления сего га\"\n",
      "[ERR:2] \"iнако ежели онѣ не будут дволны а нуж\" -> \"i нако ежели онѣ не будут дволны а нуб\"\n",
      "[ERR:1] \"надлежит конечно петдесят тя\" -> \"надложит конечно петдесят тя\"\n",
      "[ERR:8] \"во i как возможно секретно сие дѣло дѣлайте\" -> \"вѣ i ашвозвожно секретно сие дѣло цѣ лате\"\n",
      "[ERR:2] \"тах обрѣтаютца\" -> \"тах обрѣта отца\"\n",
      "[ERR:2] \"туды нашим не послѣдоват развѣ\" -> \"туды нашим не послѣ дават развѣ\"\n",
      "[ERR:4] \"валаксъ а оттол которым путем iтит к вам\" -> \"валаксъ а от толко торым путем iтат к вам\"\n",
      "[ERR:1] \"не годны\" -> \"негодны\"\n",
      "[OK] \"петръ\" -> \"петръ\"\n",
      "[ERR:3] \"чрез оружие росиiское\" -> \"через оружие посиское\"\n",
      "[ERR:4] \"сеце писем не получим то в первых чис\" -> \"сеце пи сем рет получим то в первых чи\"\n",
      "[ERR:2] \"в ползу было i не iзволте терят\" -> \"в ползу былоi не iзволтетерят\"\n",
      "[ERR:1] \"толко послѣ питя вод так еже не могу\" -> \"толко послѣпитя вод так еже не могу\"\n",
      "[ERR:2] \"г а\" -> \"а\"\n",
      "[ERR:6] \"ордер де баталиi\" -> \"одефсбаталиi\"\n",
      "[ERR:5] \"шам утомилис також крайней нуж\" -> \"шам у томи листкож крайнейнуж\"\n",
      "[ERR:4] \"первое что г отютантъ вашъ сказывал что\" -> \"перво что г отюталта вашь сказывал что\"\n",
      "[ERR:5] \"паче же о совершонном поряткѣ\" -> \"пачеже о совершеожном перяткъ\"\n",
      "[OK] \"тогда преображен\" -> \"тогда преображен\"\n",
      "[ERR:3] \"не въступат под смертною\" -> \"невъступат под сиертою\"\n",
      "[ERR:4] \"а еже iбо хотя б одна сторона\" -> \"бержи iбо хотя б одна сторона\"\n",
      "[ERR:4] \"лежащих i во въ\" -> \"лежашсим i вовъ\"\n",
      "[OK] \"+\" -> \"+\"\n",
      "[ERR:1] \"рѣкам i чистым полям далее\" -> \"рѣ кам i чистым полям далее\"\n",
      "[ERR:5] \"[не два но три] мо перво к нам\" -> \"[недванори] мо перво к нан\"\n",
      "[ERR:2] \"а мы сюды приѣхали въ 23 д сего мѣ\" -> \"а мы сюды приѣхали въ 28 д сегомѣ\"\n",
      "[OK] \"рала порутчика рансова таким обра\" -> \"рала порутчика рансова таким обра\"\n",
      "[ERR:2] \"в вышеписанное число вышли всѣ сюды\" -> \"в вышеписанное число вышли всѣюды\"\n",
      "[ERR:2] \"на 1 ю\" -> \"на iю\"\n",
      "[ERR:3] \"лежит нынѣ паки о наступлениi\" -> \"нехит нынѣ паки о нас туплениi\"\n",
      "[ERR:1] \"ваниi с турками дана полная\" -> \"ваниi стурками дана полная\"\n",
      "[ERR:2] \"доволной провиянтъ а iмен\" -> \"доволной провиясть а iмен\"\n",
      "[ERR:2] \"получена вѣдомость что\" -> \"полученее вѣдомость что\"\n",
      "[ERR:2] \"чтоб к в датской своiм\" -> \"чтоб к в датской свам\"\n",
      "[ERR:1] \"+18\" -> \" 18\"\n",
      "[ERR:1] \"всѣм ожидат ежели на сие не соiзволит\" -> \"всѣ ожидат ежели на сие не соiзволит\"\n",
      "[ERR:3] \"рихтероф губернаторам не вѣдат ни добръ iх но су\" -> \"рихтероф губернаторам невѣдат ни добръ iх нобу\"\n",
      "[ERR:1] \"въступит в союз протиф шведа тогда гвардию\" -> \"вѣступит в союз протиф шведа тогда гвардию\"\n",
      "[ERR:2] \"час непъриятелской комфузиi\" -> \"час непъриятелской ком фузяi\"\n",
      "[OK] \"мы указ послали чтоб вы около\" -> \"мы указ послали чтоб вы около\"\n",
      "[ERR:2] \"аднакож так храбро билис что шведоф з де\" -> \"аднакож так храбробилис что шведоф зде\"\n",
      "[ERR:3] \"писмо ваше купно з жестоким отказазом\" -> \"писмо ваше к учпно i жестоким отказазом\"\n",
      "[ERR:1] \"нынѣ войском пос ко\" -> \"нынѣ войском поско\"\n",
      "[ERR:1] \"жено чтоб хотя i тур\" -> \"жено чтоб хотя iтур\"\n",
      "[OK] \"болѣе мѣсеца\" -> \"болѣе мѣсеца\"\n",
      "[OK] \"слѣдоват\" -> \"слѣдоват\"\n",
      "[ERR:2] \"по приближениi нашем все от нас удалялся ко\" -> \"по приближениi нашем все от на удалялсяко\"\n",
      "[ERR:4] \"дат такавы жъ посылаютца\" -> \"дат такавыжѣ посвиаютца\"\n",
      "[ERR:1] \"ратца камисару к в\" -> \"ратца камиару к в\"\n",
      "[ERR:1] \"приѣхаф ему в копенгаген\" -> \"приѣхаф ему в коренгаген\"\n",
      "[ERR:2] \"лей как отцу приемыш от раднова iбо горазда малы\" -> \"лей как отцу приемыш отраднова iбо горазда налы\"\n",
      "[ERR:13] \"взят к преоброжен              400\" -> \"взят к преоброжен 400\"\n",
      "[ERR:7] \"с собою] iз ахтырок а в ахтырки мы\" -> \"собою] i захтырок а вастыркимы\"\n",
      "[ERR:3] \"iли крѣпъкого дерева] будет указыват сонцем часы\" -> \"iли крѣпъкогодеревалл будет указыват сонцем часы\"\n",
      "[ERR:3] \"ной синявин iзвол в том скорой\" -> \"ной синявин iзвол втом с чрой\"\n",
      "[OK] \"i дават жалованя камисаром а офи\" -> \"i дават жалованя камисаром а офи\"\n",
      "[ERR:6] \"[а буде iх не найдет однѣм] iтит к питерб\" -> \"[абуде iх не найдет однѣм ] iтит питарс\"\n",
      "[ERR:2] \"которыя послѣ того писаны как писал\" -> \"ко торыя послѣтого писаны как писал\"\n",
      "[OK] \"1713\" -> \"1713\"\n",
      "[OK] \"та в самом нужном\" -> \"та в самом нужном\"\n",
      "[OK] \"вѣчная\" -> \"вѣчная\"\n",
      "[ERR:2] \"добрыя i iскусныя iбо на каждам положе\" -> \"добрыя i i скусныя iбо на каждар положе\"\n",
      "[ERR:3] \"натору казанскому а с ним полкам азофской\" -> \"на тору казанскому асним полкам азофской\"\n",
      "[ERR:1] \"к непъриятелю в руки тово накърѣпъ\" -> \"к непъриятелю вруки тово накърѣпъ\"\n",
      "[OK] \"с помощию божиею по\" -> \"с помощию божиею по\"\n",
      "[ERR:1] \"iзвѣщение о караблях обрѣтающихся\" -> \"iзвѣщение о караблях обрѣтающих ся\"\n",
      "[OK] \"городских прибавит по крайней нужде\" -> \"городских прибавит по крайней нужде\"\n",
      "[ERR:3] \"го наказаня на маеора шведского раз\" -> \"го наказаня на мае орашвед ского раз\"\n",
      "[ERR:2] \"зунта не были мы принуждены\" -> \"зунта не былимы принуждесы\"\n",
      "[ERR:3] \"дина фабрициуса са\" -> \"динафабрици усаса\"\n",
      "[ERR:3] \"сказат что вся непъриятелская си\" -> \"сказан что всянепъриятел[кая си\"\n",
      "[OK] \"лю\" -> \"лю\"\n",
      "[ERR:5] \"а как сие писмо получиш поезжай сю\" -> \"а как сие писмо получи по ежайсъ\"\n",
      "[OK] \"петръ\" -> \"петръ\"\n",
      "[ERR:5] \"дѣла у нас зело было iзрядно пошло но от\" -> \"дѣла унас зело быиоiзрядно пошно но о\"\n",
      "[ERR:5] \"которых проход зело узак а с възят\" -> \"коорых проход зело узаксвъзят\"\n",
      "[ERR:5] \"[кромѣ полкоф полевой армѣi] iз укъраiнцофъ такъже\" -> \"[кромѣ полкоф полевой армы] iз укъраiцофъ такъ хже\"\n",
      "[ERR:1] \"союзники i единым\" -> \"союзники i кдиным\"\n",
      "[ERR:2] \"23 д 1711 петръ\" -> \"23 д 171110 петръ\"\n",
      "[ERR:2] \"милость хвалите i ежели оное\" -> \"милость хвалите i ежели о нае\"\n",
      "[ERR:1] \"при том же\" -> \"при томже\"\n",
      "[OK] \"до въремени оставъляю дабы\" -> \"до въремени оставъляю дабы\"\n",
      "[ERR:3] \"возит на берег i весною по полой водѣ\" -> \"вадит на берег i ведною по полой водѣ\"\n",
      "[ERR:2] \"удасться] i ежели похотят в том писанное\" -> \"удастьсi] i ежели похотят в то писанное\"\n",
      "[ERR:1] \"кѣ непъриятел захватит\" -> \"кѣ непъриятелзахватит\"\n",
      "[ERR:2] \"отдат оных г репънину в смоленскѣ\" -> \"отдат оных грепъниму в смоленскѣ\"\n",
      "[ERR:1] \"7\" -> \"1\"\n",
      "[ERR:2] \"сюды пришли i отсел пойдут скоро в са\" -> \"сюды пришли i отсел пойдутскоро вса\"\n",
      "[OK] \"а ежели стетин получим то чаю болше друз\" -> \"а ежели стетин получим то чаю болше друз\"\n",
      "[ERR:2] \"руки писмом в сенат к москвѣ для высыл\" -> \"руки писмо всенат к москвѣ для высыл\"\n",
      "[ERR:1] \"селдей добрых самых 5 бочонкоф\" -> \"селдей добрых самых 5 боонкоф\"\n",
      "[ERR:5] \"де ж i то правъда iли хотя i щесна\" -> \"дет i х топравъда iли хотя iщесна\"\n",
      "[OK] \"i жаловане при пол\" -> \"i жаловане при пол\"\n",
      "[OK] \"шереметеву которому так\" -> \"шереметеву которому так\"\n",
      "[ERR:1] \"наших убито\" -> \"нащих убито\"\n",
      "[ERR:1] \"сячи на датчанъ напал которыя доб\" -> \"сячина датчанъ напал которыя доб\"\n",
      "[ERR:5] \"пред нашими [хотя i пушек столко ж число да не\" -> \"преднаши ми [хотя i пушек столкож исло дане\"\n",
      "[OK] \"выя в голандиi iли гдѣ iндѣ доброй препор\" -> \"выя в голандиi iли гдѣ iндѣ доброй препор\"\n",
      "[ERR:2] \"пишеш ваша милость\" -> \"пишеш вашамилостъ\"\n",
      "[ERR:5] \"двѣ тысячи рублефъ того ради\" -> \"двѣ тысячироб лефъ то горади\"\n",
      "[OK] \"ѣхат ему со върученными\" -> \"ѣхат ему со върученными\"\n",
      "[ERR:3] \"по пъри приездѣ\" -> \"в пъри приезѣ\"\n",
      "[ERR:3] \"сказат во въсѣм государтвѣ [дабы невѣдѣнием\" -> \"сказат ва въсем государтвѣ [дабы невѣдѣнем\"\n",
      "[ERR:3] \"три iзволте на оных припасат экипаж по нес\" -> \"три iзволте на оных припасат эки паж понен\"\n",
      "[ERR:3] \"ся получил а въ городѣ не отказываем нынешнего\" -> \"ся получил а въ городѣ не от казывоем ны нешнего\"\n",
      "[ERR:1] \"ленно дали також зѣло нужно\" -> \"леннодали також зѣло нужно\"\n",
      "[ERR:2] \"посылаем гддѣ сами увидите\" -> \"посылаем гддѣ самиувидете\"\n",
      "[OK] \"закапаватца по ука\" -> \"закапаватца по ука\"\n",
      "[ERR:1] \"зат что прямою дорогою нелзя за повѣтрием\" -> \"зат что прямою дорогою нелзяза повѣтрием\"\n",
      "[OK] \"зело слабы а на саксонцоф\" -> \"зело слабы а на саксонцоф\"\n",
      "[ERR:1] \"сие невозможно поне\" -> \"сие невозножно поне\"\n",
      "[ERR:6] \"возможно i во i тако ж\" -> \"возможно i ватако\"\n",
      "[ERR:1] \"с чего копию прилагаем\" -> \"счего копию прилагаем\"\n",
      "[OK] \"ежели непърия\" -> \"ежели непърия\"\n",
      "[ERR:4] \"iз варшавы въ 25 авъгуста 1711 петръ\" -> \"iзваршавы въ 2 авогуста 171i петръ\"\n",
      "[OK] \"михайло голофкин\" -> \"михайло голофкин\"\n",
      "[ERR:4] \"по нынешним конюнктурам доволно кромѣ 10 пункта\" -> \"пянынешним коню ктурам доволно кромѣ 10 пукта\"\n",
      "[ERR:5] \"от разбитого верха стѣны на бѣрмъ\" -> \"от разбитого верхастѣны набомю\"\n",
      "[OK] \"дия у моего всемилос\" -> \"дия у моего всемилос\"\n",
      "[ERR:1] \"при штетине зимоват\" -> \"приштетине зимоват\"\n",
      "[ERR:1] \"виантѣ i фуражу и въ подводах\" -> \"виантѣ i фуражу i въ подводах\"\n",
      "[ERR:7] \"понеже вор голой i протчия всѣ говорят на зен\" -> \"понеже в обролой i протчиа всѣ поворят на зес\"\n",
      "[ERR:10] \"крѣпость весма лишена\" -> \"ккпрстъвосманше на\"\n",
      "[OK] \"150\" -> \"150\"\n",
      "[ERR:3] \"не был отозван прежде неже\" -> \"не был о тозваннрежде неже\"\n",
      "[ERR:2] \"ево я получил в которых пишете что\" -> \"ввоя получил в которых пишете что\"\n",
      "[OK] \"поздраф от нас его величеству\" -> \"поздраф от нас его величеству\"\n",
      "[ERR:1] \"в помераниi а iменно что\" -> \"в помераниi а еменно что\"\n",
      "[ERR:1] \"мы сюды приѣхали вчерас поз\" -> \"мы сюдъ приѣхали вчерас поз\"\n",
      "[ERR:3] \"батареi i кѣтели готовы а у бер\" -> \"батареi i кѣтелигото вы а убер\"\n",
      "[ERR:5] \"мы слава богу внутрь финландиi вош\" -> \"мы слова богу в нутръ кинланди вош\"\n",
      "[ERR:2] \"гдѣ быт отакѣ осматре\" -> \"гдѣ быт отакѣ осмато\"\n",
      "[ERR:2] \"что ежели iнгермонланской i астра\" -> \"что ежели iнгермобланской i а стра\"\n",
      "[ERR:1] \"тогъда б i руских по пъре\" -> \"тогъ да б i руских по пъре\"\n",
      "[OK] \"судит аднакож хотя б i то въсе iзпра\" -> \"судит аднакож хотя б i то въсе iзпра\"\n",
      "[ERR:3] \"iмѣт в сих шхѣрах доброй\" -> \"iмѣсвсих шхѣрах доброй\"\n",
      "[ERR:5] \"когда жители будут в деревънях тогда сыскат мас\" -> \"когдажители буду деревънях тогда сыскат мах\"\n",
      "[ERR:4] \"i пред проходом писат в берлинъ\" -> \"i предпрходомписа в берлинъ\"\n",
      "[OK] \"нѣйшими непъриятели офен\" -> \"нѣйшими непъриятели офен\"\n",
      "[ERR:6] \"протиф седмава пункта стат\" -> \"протаф садтова пункта еташ\"\n",
      "[ERR:1] \"транпортъ ежели на рюген учи\" -> \"тронпортъ ежели на рюген учи\"\n",
      "[ERR:5] \"сами говорят что iнова пути\" -> \"а миговорят что i новапути\"\n",
      "[ERR:1] \"узиною оного разширитца было\" -> \"узиною оного разширитцабыло\"\n",
      "[OK] \"зом что камендантъ висмарской оста\" -> \"зом что камендантъ висмарской оста\"\n",
      "[ERR:9] \"продат iли отдат ни при себѣ ни по себѣ а хто по\" -> \"продат iли отдатни присесъ ни по себах топо\"\n",
      "[ERR:2] \"пишете что что вам без при\" -> \"пишете что что вам бемпри\"\n",
      "[ERR:3] \"богу со въсѣми судами дошли близ новой\" -> \"богу совъсѣми судами дошли близновей\"\n",
      "[OK] \"да на целае лѣто провианту привесть\" -> \"да на целае лѣто провианту привесть\"\n",
      "[ERR:1] \"пошли сие мы написали для того\" -> \"пошли сие мы на писали для того\"\n",
      "[ERR:1] \"ментом\" -> \"мен том\"\n",
      "[ERR:1] \"бывшей я принял i за труды ваши\" -> \"быбшей я принял i за труды ваши\"\n",
      "[ERR:6] \"телкому\" -> \"т1\"\n",
      "[OK] \"+\" -> \"+\"\n",
      "[OK] \"может\" -> \"может\"\n",
      "[ERR:5] \"было безопасна частвителлно а\" -> \"бшовезопасна частвител лно а\"\n",
      "[ERR:4] \"i тотчас отправь сюды зело нужно\" -> \"i тотчас о прафъсюды зело нужно\"\n",
      "[ERR:2] \"жен он над всѣми дѣлами тайно надсматриват\" -> \"жез оннад всѣми дѣлами тайно надсматриват\"\n",
      "[ERR:3] \"чи человѣк провианту i дроф на три\" -> \"чачеловѣк провиасту i дроф на три\"\n",
      "[ERR:2] \"понеже видя непорядок госпо\" -> \"понеже видя не порядок госпоъ\"\n",
      "[ERR:2] \"чисто\" -> \"чим то\"\n",
      "[ERR:3] \"полняют как мочно а богородитской и ка\" -> \"полмеяют как мочно а богородитской i ка\"\n",
      "[ERR:1] \"скому вспоможем а се\" -> \"скому вс поможем а се\"\n",
      "[ERR:1] \"когда захочет оной помѣшат наше\" -> \"когдазахочет оной помѣшат наше\"\n",
      "[OK] \"вѣдомость что непъриятел\" -> \"вѣдомость что непъриятел\"\n",
      "[OK] \"отвѣт на пункты прис\" -> \"отвѣт на пункты прис\"\n",
      "[ERR:2] \"дай боже скоро совершит i быт к вам\" -> \"дай боже скоро совершиi быт к вам\"\n",
      "[OK] \"чего буде же дамѣе в землю то чаю\" -> \"чего буде же дамѣе в землю то чаю\"\n",
      "[ERR:1] \"мен с помошию божиею уга\" -> \"мен спомошию божиею уга\"\n",
      "[ERR:2] \"вам копию] а что о отакаване непъриятеля\" -> \"вам копию] а что о о такаванес непъриятеля\"\n",
      "[ERR:3] \"ца что когда iм iзпражнит голстиндию то не чают\" -> \"ца что когда iм iз пражнит голстиндию то ночают\"\n",
      "[OK] \"+ которой також iмѣ\" -> \"+ которой також iмѣ\"\n",
      "[ERR:1] \"iли iзволте дѣлат iли каму\" -> \"iхи iзволте дѣлат iли каму\"\n",
      "[ERR:2] \"со въсякою осторожностию i укърепълением\" -> \"с о въсякою осторожностию i укълепълением\"\n",
      "[ERR:3] \"двенатцати въ дру въ редних по десети въ\" -> \"двенатцати въ дру въредних поде сети въ\"\n",
      "[ERR:3] \"штинцами на что отвѣтствую что i оных озлоблят не\" -> \"штинцами начто отбѣтстую что i оных озлоблят не\"\n",
      "[ERR:3] \"линѣю  а с протени далѣе i здѣлай на о\" -> \"линѣю к к с протени долѣе i здѣлай на о\"\n",
      "[OK] \"датской для транспорту\" -> \"датской для транспорту\"\n",
      "[ERR:4] \"с помошию б\" -> \"с поошиию\"\n",
      "[ERR:2] \"кофъ iх iскоренят\" -> \"кофъ iх i скореня\"\n",
      "[ERR:2] \"но такъ i дѣлаем поклон отдай теткѣ от меня\" -> \"но такъ i дѣлаем пошлон отдай теткѣ отменя\"\n",
      "[OK] \"чинецъ прямо на будищи iли еще\" -> \"чинецъ прямо на будищи iли еще\"\n",
      "[ERR:4] \"а корол сам политических дѣл не iс\" -> \"а королсам политических дѣлнiс\"\n",
      "[OK] \"приказат яковълеву ежели что по от\" -> \"приказат яковълеву ежели что по от\"\n",
      "[ERR:3] \"i бомбар\" -> \"ебобар\"\n",
      "[ERR:6] \"еше новова не iмѣем но ожидаем в[с]корѣ\" -> \"еше новова не iмѣем но ожи даем в кеоря\"\n",
      "[ERR:3] \"тит низом верхъ надлежит же знат что у указу\" -> \"тит низом верхъ надлеежит же знат что у укоз\"\n",
      "[ERR:1] \"хлѣбом i протчим удоволствоват на год i болше\" -> \"хлѣ бом i протчим удоволствоват на год i болше\"\n",
      "[ERR:1] \"iбо кромѣ городавых великих алти\" -> \"iбо кромѣгородавых великих алти\"\n",
      "[ERR:3] \"ѣхат ему въ ревел обявит каманданту\" -> \"ѣлат ему въ ревел обявикаманданту\"\n",
      "[OK] \"обявъляю вам что господа шведы\" -> \"обявъляю вам что господа шведы\"\n",
      "[ERR:4] \"его близ сего города кото которой в такую\" -> \"его близ сегогорада но то которой в такую\"\n",
      "[OK] \"а потом бомбордиро\" -> \"а потом бомбордиро\"\n",
      "[OK] \"посланы\" -> \"посланы\"\n",
      "[ERR:6] \"вод послал нарочных [а буде доброй вѣтѣр будет\" -> \"вод послал нарочных [абуд добросвътѣй будет\"\n",
      "[ERR:1] \"пра в сиi мѣста въступили гдѣ не\" -> \"пра в сиi мѣставъступили гдѣ не\"\n",
      "[OK] \"крѣпость аднакож та\" -> \"крѣпость аднакож та\"\n",
      "[ERR:1] \"ределена вам + [а протиф тур\" -> \"раделена вам + [а протиф тур\"\n",
      "[ERR:5] \"штеiнбоку [iли кого оной iз генералоф пришлет]\" -> \"штеiнбоку [iликого оной iзгенралоф пришлег\"\n",
      "[OK] \"землям\" -> \"землям\"\n",
      "[ERR:1] \"тин которое за благо\" -> \"тин которае за благо\"\n",
      "[OK] \"чинит\" -> \"чинит\"\n",
      "[OK] \"58 скамповѣй\" -> \"58 скамповѣй\"\n",
      "[ERR:4] \"ч \" -> \"к709\"\n",
      "[ERR:10] \"i сверин ск озе сково озера непъриятел пар\" -> \"i с веринназасково озела непъриител пар\"\n",
      "[ERR:4] \"ту оною зачат ради крат\" -> \"зу оную дачатради крат\"\n",
      "[ERR:3] \"а снаружи фашинами ж з землею також\" -> \"а с наружи фашинамиж зземлею також\"\n",
      "[OK] \"не поспѣло i еще вскорѣ не поспѣет вся\" -> \"не поспѣло i еще вскорѣ не поспѣет вся\"\n",
      "[OK] \"тат достават нынѣ\" -> \"тат достават нынѣ\"\n",
      "[OK] \"+\" -> \"+\"\n",
      "[ERR:4] \"а въчерашнего дни приѣхал гмаеор голцъ\" -> \"а въчерашнего дни прнѣхал г маеоргорцъ\"\n",
      "Character error rate: 8.733231%. Word error rate: 41.874706%. String accuracy: 23.300971%.\n"
     ]
    }
   ],
   "source": [
    "numCharErr = 0\n",
    "numCharTotal = 0\n",
    "numStringOK = 0\n",
    "numStringTotal = 0\n",
    "\n",
    "word_eds, word_true_lens = [], []\n",
    "\n",
    "print('Ground truth -> Recognized')\t\n",
    "for i in range(len(out)):\n",
    "    pred = ''\n",
    "    for p in out[i]:\n",
    "        if int(p) != -1:\n",
    "            pred+=letters[int(p)]\n",
    "    true = val_original_text[i]\n",
    "    \n",
    "    numStringOK += 1 if true == pred else 0\n",
    "    numStringTotal += 1\n",
    "    dist = editdistance.eval(pred, true)\n",
    "    numCharErr += dist\n",
    "    numCharTotal += len(true)\n",
    "    \n",
    "    pred_words = pred.split()\n",
    "    true_words = true.split()\n",
    "    word_eds.append(editdistance.eval(pred_words, true_words))\n",
    "    word_true_lens.append(len(true_words))\n",
    "    \n",
    "    print('[OK]' if dist==0 else '[ERR:%d]' % dist,'\"' + true + '\"', '->', '\"' + pred + '\"')\n",
    "\n",
    "charErrorRate = numCharErr / numCharTotal\n",
    "wordErrorRate = sum(word_eds) / sum(word_true_lens) \n",
    "stringAccuracy = numStringOK / numStringTotal\n",
    "print('Character error rate: %f%%. Word error rate: %f%%. String accuracy: %f%%.' % \\\n",
    "      (charErrorRate*100.0,wordErrorRate*100.0, stringAccuracy*100.0))"
   ]
  },
  {
   "cell_type": "markdown",
   "metadata": {
    "colab_type": "text",
    "id": "YYYcvo6wj79W"
   },
   "source": [
    "**Загружаем тестовые изображения, делаем предсказания и записываем их в файл.**"
   ]
  },
  {
   "cell_type": "markdown",
   "metadata": {},
   "source": [
    "Этот ноутбук - публичный бейзлайн. Тестовая выборка будет автоматически подкладываться в образ, куда участник загрузит модель. Поэтому сейчас следующие строчки закомменчены. И пример запуска модели и записи предсказаний в файл будет проведен на валидационных изображениях."
   ]
  },
  {
   "cell_type": "code",
   "execution_count": 37,
   "metadata": {},
   "outputs": [],
   "source": [
    "#Для примера работы запуска модели и записи в файл, пусть валидация станет тестовыми изображениями\n",
    "test_images = val_images\n",
    "names_test = names_val"
   ]
  },
  {
   "cell_type": "code",
   "execution_count": 38,
   "metadata": {},
   "outputs": [],
   "source": [
    "#test_image_dir = 'test/images'"
   ]
  },
  {
   "cell_type": "code",
   "execution_count": 39,
   "metadata": {},
   "outputs": [],
   "source": [
    "# test_images = []\n",
    "# names_test = []\n",
    "\n",
    "# for name in  os.listdir(test_image_dir):\n",
    "#     img = cv2.imread(test_image_dir+'/'+name)\n",
    "#     img = process_image(img)\n",
    "#     test_images.append(img)\n",
    "#     names_test.append(name)\n",
    "# test_images = np.asarray(test_images)"
   ]
  },
  {
   "cell_type": "code",
   "execution_count": 40,
   "metadata": {
    "colab": {
     "base_uri": "https://localhost:8080/",
     "height": 19072
    },
    "colab_type": "code",
    "id": "MXzTQlMeEjwB",
    "outputId": "24ac79db-6b33-45f0-fd93-f7fcd3f6c991"
   },
   "outputs": [
    {
     "name": "stdout",
     "output_type": "stream",
     "text": [
      "2.049828052520752\n"
     ]
    }
   ],
   "source": [
    "start = time.time()\n",
    "\n",
    "prediction =act_model.predict(test_images)\n",
    " \n",
    "decoded = K.ctc_decode(prediction,   \n",
    "                       input_length=np.ones(prediction.shape[0]) * prediction.shape[1],\n",
    "                       greedy=True)[0][0]\n",
    "\n",
    "out = K.get_value(decoded)\n",
    "\n",
    "prediction = []\n",
    "for i, x in enumerate(out):\n",
    "    pred = ''\n",
    "    for p in x:\n",
    "        if int(p) != -1:\n",
    "            pred+=letters[int(p)]\n",
    "            \n",
    "    prediction.append(pred)\n",
    "end = time.time()\n",
    "print(end - start)"
   ]
  },
  {
   "cell_type": "code",
   "execution_count": 41,
   "metadata": {},
   "outputs": [
    {
     "data": {
      "text/plain": [
       "407"
      ]
     },
     "execution_count": 41,
     "metadata": {},
     "output_type": "execute_result"
    }
   ],
   "source": [
    "len(prediction)"
   ]
  },
  {
   "cell_type": "code",
   "execution_count": 42,
   "metadata": {},
   "outputs": [],
   "source": [
    "output_dir = 'predictions'\n",
    "os.makedirs(output_dir, exist_ok=True)\n",
    "\n",
    "for num, (name, line) in enumerate(zip(names_test, prediction)):\n",
    "    with open(os.path.join(output_dir, name.replace('.jpg', '.txt')), 'w') as file:\n",
    "        file.write(line)"
   ]
  },
  {
   "cell_type": "markdown",
   "metadata": {
    "pycharm": {
     "name": "#%% md\n"
    }
   },
   "source": [
    "Соберем сабмит для платформы\n"
   ]
  },
  {
   "cell_type": "code",
   "execution_count": null,
   "metadata": {
    "pycharm": {
     "name": "#%%\n"
    }
   },
   "outputs": [],
   "source": [
    "! cp checkpoint/model.hdf5 submit_example/checkpoint/\n",
    "! zip submit.zip -r submit_example\n"
   ]
  }
 ],
 "metadata": {
  "accelerator": "GPU",
  "colab": {
   "name": "HTR_USING_CRNN.ipynb",
   "provenance": []
  },
  "kernelspec": {
   "display_name": "Python (digitalp)",
   "language": "python",
   "name": "digitalp"
  },
  "language_info": {
   "codemirror_mode": {
    "name": "ipython",
    "version": 3
   },
   "file_extension": ".py",
   "mimetype": "text/x-python",
   "name": "python",
   "nbconvert_exporter": "python",
   "pygments_lexer": "ipython3",
   "version": "3.7.8"
  }
 },
 "nbformat": 4,
 "nbformat_minor": 4
}

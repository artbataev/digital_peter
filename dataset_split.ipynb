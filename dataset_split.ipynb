{
 "cells": [
  {
   "cell_type": "code",
   "execution_count": 1,
   "metadata": {},
   "outputs": [],
   "source": [
    "# identify graphemes + graphemes stats\n",
    "# train/val split by files"
   ]
  },
  {
   "cell_type": "code",
   "execution_count": 2,
   "metadata": {},
   "outputs": [],
   "source": [
    "from pathlib import Path\n",
    "import pickle\n",
    "import numpy as np\n",
    "from collections import Counter\n",
    "from collections import defaultdict\n",
    "import random"
   ]
  },
  {
   "cell_type": "code",
   "execution_count": 3,
   "metadata": {},
   "outputs": [],
   "source": [
    "np.random.seed(678)\n",
    "random.seed(678)"
   ]
  },
  {
   "cell_type": "code",
   "execution_count": 4,
   "metadata": {},
   "outputs": [],
   "source": [
    "base_dir = Path(\"data/train\")"
   ]
  },
  {
   "cell_type": "code",
   "execution_count": 5,
   "metadata": {},
   "outputs": [],
   "source": [
    "uttids = []\n",
    "char_counter = Counter()\n",
    "for filepath in (base_dir / \"words\").glob(\"*.txt\"):\n",
    "    uttid = filepath.stem\n",
    "    uttids.append(uttid)\n",
    "    with open(filepath, \"r\", encoding=\"utf-8\") as f:\n",
    "        text = f.read().strip()\n",
    "        char_counter.update(text)\n",
    "uttids = sorted(uttids)"
   ]
  },
  {
   "cell_type": "code",
   "execution_count": 6,
   "metadata": {},
   "outputs": [],
   "source": [
    "uttids_blocks = defaultdict(list)\n",
    "for uttid in uttids:\n",
    "    series, page, line = map(int, uttid.split(\"_\"))\n",
    "    uttids_blocks[(series, page)].append(line)"
   ]
  },
  {
   "cell_type": "code",
   "execution_count": 7,
   "metadata": {},
   "outputs": [
    {
     "data": {
      "text/plain": [
       "677"
      ]
     },
     "execution_count": 7,
     "metadata": {},
     "output_type": "execute_result"
    }
   ],
   "source": [
    "len(uttids_blocks)"
   ]
  },
  {
   "cell_type": "code",
   "execution_count": 8,
   "metadata": {},
   "outputs": [],
   "source": [
    "keys = list(uttids_blocks.keys())"
   ]
  },
  {
   "cell_type": "code",
   "execution_count": 9,
   "metadata": {},
   "outputs": [],
   "source": [
    "num_train_keys = len(keys) * 14 // 15"
   ]
  },
  {
   "cell_type": "code",
   "execution_count": 10,
   "metadata": {},
   "outputs": [],
   "source": [
    "np.random.shuffle(keys)"
   ]
  },
  {
   "cell_type": "code",
   "execution_count": 13,
   "metadata": {},
   "outputs": [],
   "source": [
    "train_keys = keys[:num_train_keys]\n",
    "val_keys = keys[num_train_keys:]"
   ]
  },
  {
   "cell_type": "code",
   "execution_count": 15,
   "metadata": {},
   "outputs": [],
   "source": [
    "train_uttids = []\n",
    "val_uttids = []\n",
    "for series, page in train_keys:\n",
    "    for line in sorted(uttids_blocks[(series, page)]):\n",
    "        uttid = f\"{series}_{page}_{line}\"\n",
    "        train_uttids.append(uttid)\n",
    "for series, page in val_keys:\n",
    "    for line in sorted(uttids_blocks[(series, page)]):\n",
    "        uttid = f\"{series}_{page}_{line}\"\n",
    "        val_uttids.append(uttid)"
   ]
  },
  {
   "cell_type": "code",
   "execution_count": 16,
   "metadata": {},
   "outputs": [
    {
     "data": {
      "text/plain": [
       "(5754, 442, 6196)"
      ]
     },
     "execution_count": 16,
     "metadata": {},
     "output_type": "execute_result"
    }
   ],
   "source": [
    "len(train_uttids), len(val_uttids), len(train_uttids) + len(val_uttids)"
   ]
  },
  {
   "cell_type": "code",
   "execution_count": 18,
   "metadata": {},
   "outputs": [],
   "source": [
    "with open(\"data/train_uttids_set.pkl\", \"wb\") as f:\n",
    "    pickle.dump(set(train_uttids), f)\n",
    "with open(\"data/val_uttids_set.pkl\", \"wb\") as f:\n",
    "    pickle.dump(set(val_uttids), f)"
   ]
  },
  {
   "cell_type": "code",
   "execution_count": 19,
   "metadata": {},
   "outputs": [],
   "source": [
    "with open(\"data/train_uttids.txt\", \"w\", encoding=\"utf-8\") as f:\n",
    "    print(\"\\n\".join(sorted(train_uttids)), file=f)\n",
    "with open(\"data/val_uttids.txt\", \"w\", encoding=\"utf-8\") as f:\n",
    "    print(\"\\n\".join(sorted(val_uttids)), file=f)"
   ]
  },
  {
   "cell_type": "code",
   "execution_count": 20,
   "metadata": {},
   "outputs": [],
   "source": [
    "with open(\"data/chars.txt\", \"w\", encoding=\"utf-8\") as f:\n",
    "    print(\"\\n\".join(sorted(char_counter.keys())), file=f)\n",
    "with open(\"data/chars_set.pkl\", \"wb\") as f:\n",
    "    pickle.dump(set(char_counter.keys()), f)\n",
    "with open(\"data/chars_counter.pkl\", \"wb\") as f:\n",
    "    pickle.dump(char_counter, f)"
   ]
  },
  {
   "cell_type": "code",
   "execution_count": 21,
   "metadata": {},
   "outputs": [],
   "source": [
    "with open(\"data/chars_stats.txt\", \"w\", encoding=\"utf-8\") as f:\n",
    "    for char, cnt in char_counter.most_common():\n",
    "        print(char, cnt, sep=\"\\t\", file=f)"
   ]
  },
  {
   "cell_type": "code",
   "execution_count": null,
   "metadata": {},
   "outputs": [],
   "source": []
  }
 ],
 "metadata": {
  "kernelspec": {
   "display_name": "Python 3",
   "language": "python",
   "name": "python3"
  },
  "language_info": {
   "codemirror_mode": {
    "name": "ipython",
    "version": 3
   },
   "file_extension": ".py",
   "mimetype": "text/x-python",
   "name": "python",
   "nbconvert_exporter": "python",
   "pygments_lexer": "ipython3",
   "version": "3.6.10"
  }
 },
 "nbformat": 4,
 "nbformat_minor": 4
}
